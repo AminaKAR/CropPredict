{
 "cells": [
  {
   "cell_type": "code",
   "execution_count": 1,
   "metadata": {
    "collapsed": true
   },
   "outputs": [],
   "source": [
    "from __future__ import absolute_import, division, print_function"
   ]
  },
  {
   "cell_type": "markdown",
   "metadata": {},
   "source": [
    "# Data Exploration"
   ]
  },
  {
   "cell_type": "markdown",
   "metadata": {},
   "source": [
    "In this notebook I will explore the data and ascertain their structure. "
   ]
  },
  {
   "cell_type": "markdown",
   "metadata": {},
   "source": [
    "## Imports"
   ]
  },
  {
   "cell_type": "code",
   "execution_count": 160,
   "metadata": {
    "collapsed": true
   },
   "outputs": [],
   "source": [
    "import os\n",
    "import pickle\n",
    "import time\n",
    "\n",
    "import numpy as np\n",
    "import pandas as pd\n",
    "\n",
    "import matplotlib as mpl\n",
    "import matplotlib.pyplot as plt\n",
    "from mpl_toolkits.basemap import Basemap\n",
    "\n",
    "\n",
    "%matplotlib inline"
   ]
  },
  {
   "cell_type": "markdown",
   "metadata": {},
   "source": [
    "## Table of contents"
   ]
  },
  {
   "cell_type": "markdown",
   "metadata": {},
   "source": [
    "1. [Functions](#Functions)\n",
    "\n",
    "2. [Data](#Data)\n",
    "\n",
    "2. [NaN values](#NaN values)\n",
    "\n",
    "2. [Convert date column to datetime format](#Convert date column to datetime format)\n",
    "\n",
    "2. [General comments on the features](#General comments on the features)\n",
    "\n",
    "2. [A closer look](#A closer look)\n",
    "\n",
    "2. [Locations](#Locations)\n",
    "\n",
    "2. [Format of the data](#Format of the data)\n",
    "\n",
    "2. [Precipitation](#Precipitation)\n",
    "\n",
    "2. [Temperature](#Temperature)\n",
    "\n",
    "2. [Time series](#Time series)\n",
    "\n",
    "2. [Impute missing values](#Impute missing values)\n",
    "\n",
    "2. [Basic statistics](#Basic statistics)\n",
    "\n",
    "2. [Correlations](#Correlations)\n",
    "\n",
    "2. [Drop features/columns](#Drop features/columns)\n",
    "\n",
    "2. [Save cleaned data to disk](#Save cleaned data to disk)\n",
    "\n",
    "\n",
    "\n"
   ]
  },
  {
   "cell_type": "markdown",
   "metadata": {},
   "source": [
    "**Note:** For the internal links in the table of contents to work, please open the notebook in the Jupyter notebook viewer (here)[http://nbviewer.jupyter.org/github/cleipski/CropPredict/blob/master/01_data_exploration.ipynb] "
   ]
  },
  {
   "cell_type": "markdown",
   "metadata": {},
   "source": [
    "<a id='Functions'></a>\n",
    "## Functions"
   ]
  },
  {
   "cell_type": "code",
   "execution_count": 3,
   "metadata": {
    "collapsed": true
   },
   "outputs": [],
   "source": [
    "# Calculate distance given long/lat\n",
    "from math import radians, cos, sin, asin, sqrt\n",
    "\n",
    "def haversine(lon1, lat1, lon2, lat2):\n",
    "    \"\"\"\n",
    "    Calculate the great circle distance between two points \n",
    "    on the earth (specified in decimal degrees)\n",
    "    \"\"\"\n",
    "    # convert decimal degrees to radians \n",
    "    lon1, lat1, lon2, lat2 = map(radians, [lon1, lat1, lon2, lat2])\n",
    "    # haversine formula \n",
    "    dlon = lon2 - lon1 \n",
    "    dlat = lat2 - lat1 \n",
    "    a = sin(dlat/2)**2 + cos(lat1) * cos(lat2) * sin(dlon/2)**2\n",
    "    c = 2. * asin(sqrt(a)) \n",
    "    r = 6371. # Radius of earth in kilometers. Use 3956 for miles\n",
    "    return c * r"
   ]
  },
  {
   "cell_type": "code",
   "execution_count": 4,
   "metadata": {
    "collapsed": true
   },
   "outputs": [],
   "source": [
    "def impute_with_nearest(in_df,in_column):\n",
    "    \"\"\"\n",
    "    Replace missing values in 'in_column' of the data frame 'in_df' \n",
    "    with values from the same day that are closest geographically. \n",
    "    \"\"\"\n",
    "    # Data frame of all the 'NaN's    \n",
    "    df_nan = in_df[in_df[in_column].isnull()]\n",
    "    if len(df_nan) > 0:\n",
    "        # Same date, similar locations\n",
    "        for i in range(len(df_nan)):\n",
    "            tmp_date = df_nan['Date'].iloc[i]\n",
    "            tmp_long = df_nan['Longitude'].iloc[i]\n",
    "            tmp_lat  = df_nan['Latitude'].iloc[i]\n",
    "            tmp_index = df_nan['Latitude'].index.tolist()[i]\n",
    "            condition = (((in_df['Latitude'] != tmp_lat) |\n",
    "                         (in_df['Longitude'] != tmp_long)) & \n",
    "                         (in_df['Date'] == tmp_date) & \n",
    "                         (in_df[in_column].notnull())) \n",
    "            # Create temporary data frame for convenient ordering\n",
    "            new_df = in_df[['Longitude', 'Latitude']][condition]\n",
    "            new_df['Distance'] = new_df['Longitude']\n",
    "            for j in range(len(new_df)):\n",
    "                new_df['Distance'].iloc[j] = haversine(tmp_long,\n",
    "                                                       tmp_lat,\n",
    "                                                       new_df['Longitude'].iloc[j],\n",
    "                                                       new_df['Latitude'].iloc[j])\n",
    "            # Distance to nearest measurement on same day\n",
    "            tmp_df = new_df.sort_values(by='Distance', ascending=True)\n",
    "            tmp_min_dist = tmp_df.iloc[0,2]\n",
    "            tmp_min_index = tmp_df.index.tolist()[0]\n",
    "            # Replace\n",
    "            old_val = in_df[in_column].iloc[tmp_index]\n",
    "            new_val = in_df[in_column].iloc[tmp_min_index]\n",
    "            in_df[in_column].iloc[tmp_index] = new_val\n"
   ]
  },
  {
   "cell_type": "markdown",
   "metadata": {},
   "source": [
    "<a id='Data'></a>\n",
    "## Data"
   ]
  },
  {
   "cell_type": "code",
   "execution_count": 5,
   "metadata": {
    "collapsed": false
   },
   "outputs": [
    {
     "data": {
      "text/html": [
       "<div>\n",
       "<table border=\"1\" class=\"dataframe\">\n",
       "  <thead>\n",
       "    <tr style=\"text-align: right;\">\n",
       "      <th></th>\n",
       "      <th>CountyName</th>\n",
       "      <th>State</th>\n",
       "      <th>Latitude</th>\n",
       "      <th>Longitude</th>\n",
       "      <th>Date</th>\n",
       "      <th>apparentTemperatureMax</th>\n",
       "      <th>apparentTemperatureMin</th>\n",
       "      <th>cloudCover</th>\n",
       "      <th>dewPoint</th>\n",
       "      <th>humidity</th>\n",
       "      <th>...</th>\n",
       "      <th>precipTypeIsOther</th>\n",
       "      <th>pressure</th>\n",
       "      <th>temperatureMax</th>\n",
       "      <th>temperatureMin</th>\n",
       "      <th>visibility</th>\n",
       "      <th>windBearing</th>\n",
       "      <th>windSpeed</th>\n",
       "      <th>NDVI</th>\n",
       "      <th>DayInSeason</th>\n",
       "      <th>Yield</th>\n",
       "    </tr>\n",
       "  </thead>\n",
       "  <tbody>\n",
       "    <tr>\n",
       "      <th>0</th>\n",
       "      <td>Adams</td>\n",
       "      <td>Washington</td>\n",
       "      <td>46.811686</td>\n",
       "      <td>-118.695237</td>\n",
       "      <td>11/30/2013 0:00</td>\n",
       "      <td>35.70</td>\n",
       "      <td>20.85</td>\n",
       "      <td>0.00</td>\n",
       "      <td>29.53</td>\n",
       "      <td>0.91</td>\n",
       "      <td>...</td>\n",
       "      <td>0</td>\n",
       "      <td>1027.13</td>\n",
       "      <td>35.70</td>\n",
       "      <td>27.48</td>\n",
       "      <td>2.46</td>\n",
       "      <td>214</td>\n",
       "      <td>1.18</td>\n",
       "      <td>134.110657</td>\n",
       "      <td>0</td>\n",
       "      <td>35.7</td>\n",
       "    </tr>\n",
       "    <tr>\n",
       "      <th>1</th>\n",
       "      <td>Adams</td>\n",
       "      <td>Washington</td>\n",
       "      <td>46.929839</td>\n",
       "      <td>-118.352109</td>\n",
       "      <td>11/30/2013 0:00</td>\n",
       "      <td>35.10</td>\n",
       "      <td>26.92</td>\n",
       "      <td>0.00</td>\n",
       "      <td>29.77</td>\n",
       "      <td>0.93</td>\n",
       "      <td>...</td>\n",
       "      <td>0</td>\n",
       "      <td>1026.87</td>\n",
       "      <td>35.10</td>\n",
       "      <td>26.92</td>\n",
       "      <td>2.83</td>\n",
       "      <td>166</td>\n",
       "      <td>1.01</td>\n",
       "      <td>131.506592</td>\n",
       "      <td>0</td>\n",
       "      <td>35.7</td>\n",
       "    </tr>\n",
       "    <tr>\n",
       "      <th>2</th>\n",
       "      <td>Adams</td>\n",
       "      <td>Washington</td>\n",
       "      <td>47.006888</td>\n",
       "      <td>-118.510160</td>\n",
       "      <td>11/30/2013 0:00</td>\n",
       "      <td>33.38</td>\n",
       "      <td>26.95</td>\n",
       "      <td>0.00</td>\n",
       "      <td>29.36</td>\n",
       "      <td>0.94</td>\n",
       "      <td>...</td>\n",
       "      <td>0</td>\n",
       "      <td>1026.88</td>\n",
       "      <td>33.38</td>\n",
       "      <td>26.95</td>\n",
       "      <td>2.95</td>\n",
       "      <td>158</td>\n",
       "      <td>1.03</td>\n",
       "      <td>131.472946</td>\n",
       "      <td>0</td>\n",
       "      <td>35.7</td>\n",
       "    </tr>\n",
       "    <tr>\n",
       "      <th>3</th>\n",
       "      <td>Adams</td>\n",
       "      <td>Washington</td>\n",
       "      <td>47.162342</td>\n",
       "      <td>-118.699677</td>\n",
       "      <td>11/30/2013 0:00</td>\n",
       "      <td>28.05</td>\n",
       "      <td>25.93</td>\n",
       "      <td>0.91</td>\n",
       "      <td>29.47</td>\n",
       "      <td>0.94</td>\n",
       "      <td>...</td>\n",
       "      <td>0</td>\n",
       "      <td>1026.37</td>\n",
       "      <td>33.19</td>\n",
       "      <td>27.17</td>\n",
       "      <td>2.89</td>\n",
       "      <td>153</td>\n",
       "      <td>1.84</td>\n",
       "      <td>131.288300</td>\n",
       "      <td>0</td>\n",
       "      <td>35.7</td>\n",
       "    </tr>\n",
       "    <tr>\n",
       "      <th>4</th>\n",
       "      <td>Adams</td>\n",
       "      <td>Washington</td>\n",
       "      <td>47.157512</td>\n",
       "      <td>-118.434056</td>\n",
       "      <td>11/30/2013 0:00</td>\n",
       "      <td>28.83</td>\n",
       "      <td>25.98</td>\n",
       "      <td>0.91</td>\n",
       "      <td>29.86</td>\n",
       "      <td>0.94</td>\n",
       "      <td>...</td>\n",
       "      <td>0</td>\n",
       "      <td>1026.19</td>\n",
       "      <td>33.85</td>\n",
       "      <td>27.07</td>\n",
       "      <td>2.97</td>\n",
       "      <td>156</td>\n",
       "      <td>1.85</td>\n",
       "      <td>131.288300</td>\n",
       "      <td>0</td>\n",
       "      <td>35.7</td>\n",
       "    </tr>\n",
       "  </tbody>\n",
       "</table>\n",
       "<p>5 rows × 26 columns</p>\n",
       "</div>"
      ],
      "text/plain": [
       "  CountyName       State   Latitude   Longitude             Date  \\\n",
       "0      Adams  Washington  46.811686 -118.695237  11/30/2013 0:00   \n",
       "1      Adams  Washington  46.929839 -118.352109  11/30/2013 0:00   \n",
       "2      Adams  Washington  47.006888 -118.510160  11/30/2013 0:00   \n",
       "3      Adams  Washington  47.162342 -118.699677  11/30/2013 0:00   \n",
       "4      Adams  Washington  47.157512 -118.434056  11/30/2013 0:00   \n",
       "\n",
       "   apparentTemperatureMax  apparentTemperatureMin  cloudCover  dewPoint  \\\n",
       "0                   35.70                   20.85        0.00     29.53   \n",
       "1                   35.10                   26.92        0.00     29.77   \n",
       "2                   33.38                   26.95        0.00     29.36   \n",
       "3                   28.05                   25.93        0.91     29.47   \n",
       "4                   28.83                   25.98        0.91     29.86   \n",
       "\n",
       "   humidity  ...    precipTypeIsOther  pressure  temperatureMax  \\\n",
       "0      0.91  ...                    0   1027.13           35.70   \n",
       "1      0.93  ...                    0   1026.87           35.10   \n",
       "2      0.94  ...                    0   1026.88           33.38   \n",
       "3      0.94  ...                    0   1026.37           33.19   \n",
       "4      0.94  ...                    0   1026.19           33.85   \n",
       "\n",
       "   temperatureMin  visibility  windBearing  windSpeed        NDVI  \\\n",
       "0           27.48        2.46          214       1.18  134.110657   \n",
       "1           26.92        2.83          166       1.01  131.506592   \n",
       "2           26.95        2.95          158       1.03  131.472946   \n",
       "3           27.17        2.89          153       1.84  131.288300   \n",
       "4           27.07        2.97          156       1.85  131.288300   \n",
       "\n",
       "   DayInSeason  Yield  \n",
       "0            0   35.7  \n",
       "1            0   35.7  \n",
       "2            0   35.7  \n",
       "3            0   35.7  \n",
       "4            0   35.7  \n",
       "\n",
       "[5 rows x 26 columns]"
      ]
     },
     "execution_count": 5,
     "metadata": {},
     "output_type": "execute_result"
    }
   ],
   "source": [
    "cwd = os.getcwd()\n",
    "data = os.path.join(cwd,'data','wheat-2013-supervised.csv')\n",
    "df_2013 = pd.read_csv(data)\n",
    "df_2013.head()"
   ]
  },
  {
   "cell_type": "code",
   "execution_count": 6,
   "metadata": {
    "collapsed": false
   },
   "outputs": [
    {
     "data": {
      "text/html": [
       "<div>\n",
       "<table border=\"1\" class=\"dataframe\">\n",
       "  <thead>\n",
       "    <tr style=\"text-align: right;\">\n",
       "      <th></th>\n",
       "      <th>CountyName</th>\n",
       "      <th>State</th>\n",
       "      <th>Latitude</th>\n",
       "      <th>Longitude</th>\n",
       "      <th>Date</th>\n",
       "      <th>apparentTemperatureMax</th>\n",
       "      <th>apparentTemperatureMin</th>\n",
       "      <th>cloudCover</th>\n",
       "      <th>dewPoint</th>\n",
       "      <th>humidity</th>\n",
       "      <th>...</th>\n",
       "      <th>precipTypeIsOther</th>\n",
       "      <th>pressure</th>\n",
       "      <th>temperatureMax</th>\n",
       "      <th>temperatureMin</th>\n",
       "      <th>visibility</th>\n",
       "      <th>windBearing</th>\n",
       "      <th>windSpeed</th>\n",
       "      <th>NDVI</th>\n",
       "      <th>DayInSeason</th>\n",
       "      <th>Yield</th>\n",
       "    </tr>\n",
       "  </thead>\n",
       "  <tbody>\n",
       "    <tr>\n",
       "      <th>0</th>\n",
       "      <td>Adams</td>\n",
       "      <td>Washington</td>\n",
       "      <td>46.929839</td>\n",
       "      <td>-118.352109</td>\n",
       "      <td>11/30/2014 0:00</td>\n",
       "      <td>18.61</td>\n",
       "      <td>-3.01</td>\n",
       "      <td>0.00</td>\n",
       "      <td>6.77</td>\n",
       "      <td>0.69</td>\n",
       "      <td>...</td>\n",
       "      <td>0</td>\n",
       "      <td>1027.95</td>\n",
       "      <td>23.93</td>\n",
       "      <td>6.96</td>\n",
       "      <td>10.00</td>\n",
       "      <td>9</td>\n",
       "      <td>3.80</td>\n",
       "      <td>136.179718</td>\n",
       "      <td>0</td>\n",
       "      <td>35.6</td>\n",
       "    </tr>\n",
       "    <tr>\n",
       "      <th>1</th>\n",
       "      <td>Adams</td>\n",
       "      <td>Washington</td>\n",
       "      <td>47.150327</td>\n",
       "      <td>-118.958859</td>\n",
       "      <td>11/30/2014 0:00</td>\n",
       "      <td>19.67</td>\n",
       "      <td>-0.74</td>\n",
       "      <td>0.00</td>\n",
       "      <td>6.66</td>\n",
       "      <td>0.65</td>\n",
       "      <td>...</td>\n",
       "      <td>0</td>\n",
       "      <td>1028.26</td>\n",
       "      <td>25.88</td>\n",
       "      <td>8.71</td>\n",
       "      <td>10.00</td>\n",
       "      <td>352</td>\n",
       "      <td>6.03</td>\n",
       "      <td>135.697540</td>\n",
       "      <td>0</td>\n",
       "      <td>35.6</td>\n",
       "    </tr>\n",
       "    <tr>\n",
       "      <th>2</th>\n",
       "      <td>Adams</td>\n",
       "      <td>Washington</td>\n",
       "      <td>46.811686</td>\n",
       "      <td>-118.695237</td>\n",
       "      <td>11/30/2014 0:00</td>\n",
       "      <td>20.66</td>\n",
       "      <td>-0.14</td>\n",
       "      <td>0.00</td>\n",
       "      <td>6.55</td>\n",
       "      <td>0.67</td>\n",
       "      <td>...</td>\n",
       "      <td>0</td>\n",
       "      <td>1028.29</td>\n",
       "      <td>24.67</td>\n",
       "      <td>8.26</td>\n",
       "      <td>10.00</td>\n",
       "      <td>25</td>\n",
       "      <td>3.59</td>\n",
       "      <td>135.676956</td>\n",
       "      <td>0</td>\n",
       "      <td>35.6</td>\n",
       "    </tr>\n",
       "    <tr>\n",
       "      <th>3</th>\n",
       "      <td>Adams</td>\n",
       "      <td>Washington</td>\n",
       "      <td>47.162342</td>\n",
       "      <td>-118.699677</td>\n",
       "      <td>11/30/2014 0:00</td>\n",
       "      <td>19.69</td>\n",
       "      <td>-2.66</td>\n",
       "      <td>0.03</td>\n",
       "      <td>7.32</td>\n",
       "      <td>0.69</td>\n",
       "      <td>...</td>\n",
       "      <td>0</td>\n",
       "      <td>1027.74</td>\n",
       "      <td>25.48</td>\n",
       "      <td>8.10</td>\n",
       "      <td>10.00</td>\n",
       "      <td>1</td>\n",
       "      <td>5.18</td>\n",
       "      <td>135.005798</td>\n",
       "      <td>0</td>\n",
       "      <td>35.6</td>\n",
       "    </tr>\n",
       "    <tr>\n",
       "      <th>4</th>\n",
       "      <td>Adams</td>\n",
       "      <td>Washington</td>\n",
       "      <td>47.157512</td>\n",
       "      <td>-118.434056</td>\n",
       "      <td>11/30/2014 0:00</td>\n",
       "      <td>18.82</td>\n",
       "      <td>-3.04</td>\n",
       "      <td>0.04</td>\n",
       "      <td>7.62</td>\n",
       "      <td>0.70</td>\n",
       "      <td>...</td>\n",
       "      <td>0</td>\n",
       "      <td>1027.16</td>\n",
       "      <td>24.83</td>\n",
       "      <td>8.32</td>\n",
       "      <td>9.99</td>\n",
       "      <td>5</td>\n",
       "      <td>4.69</td>\n",
       "      <td>134.803864</td>\n",
       "      <td>0</td>\n",
       "      <td>35.6</td>\n",
       "    </tr>\n",
       "  </tbody>\n",
       "</table>\n",
       "<p>5 rows × 26 columns</p>\n",
       "</div>"
      ],
      "text/plain": [
       "  CountyName       State   Latitude   Longitude             Date  \\\n",
       "0      Adams  Washington  46.929839 -118.352109  11/30/2014 0:00   \n",
       "1      Adams  Washington  47.150327 -118.958859  11/30/2014 0:00   \n",
       "2      Adams  Washington  46.811686 -118.695237  11/30/2014 0:00   \n",
       "3      Adams  Washington  47.162342 -118.699677  11/30/2014 0:00   \n",
       "4      Adams  Washington  47.157512 -118.434056  11/30/2014 0:00   \n",
       "\n",
       "   apparentTemperatureMax  apparentTemperatureMin  cloudCover  dewPoint  \\\n",
       "0                   18.61                   -3.01        0.00      6.77   \n",
       "1                   19.67                   -0.74        0.00      6.66   \n",
       "2                   20.66                   -0.14        0.00      6.55   \n",
       "3                   19.69                   -2.66        0.03      7.32   \n",
       "4                   18.82                   -3.04        0.04      7.62   \n",
       "\n",
       "   humidity  ...    precipTypeIsOther  pressure  temperatureMax  \\\n",
       "0      0.69  ...                    0   1027.95           23.93   \n",
       "1      0.65  ...                    0   1028.26           25.88   \n",
       "2      0.67  ...                    0   1028.29           24.67   \n",
       "3      0.69  ...                    0   1027.74           25.48   \n",
       "4      0.70  ...                    0   1027.16           24.83   \n",
       "\n",
       "   temperatureMin  visibility  windBearing  windSpeed        NDVI  \\\n",
       "0            6.96       10.00            9       3.80  136.179718   \n",
       "1            8.71       10.00          352       6.03  135.697540   \n",
       "2            8.26       10.00           25       3.59  135.676956   \n",
       "3            8.10       10.00            1       5.18  135.005798   \n",
       "4            8.32        9.99            5       4.69  134.803864   \n",
       "\n",
       "   DayInSeason  Yield  \n",
       "0            0   35.6  \n",
       "1            0   35.6  \n",
       "2            0   35.6  \n",
       "3            0   35.6  \n",
       "4            0   35.6  \n",
       "\n",
       "[5 rows x 26 columns]"
      ]
     },
     "execution_count": 6,
     "metadata": {},
     "output_type": "execute_result"
    }
   ],
   "source": [
    "# Also read data for 2014\n",
    "data = os.path.join(cwd,'data','wheat-2014-supervised.csv')\n",
    "df_2014 = pd.read_csv(data)\n",
    "df_2014.head()"
   ]
  },
  {
   "cell_type": "markdown",
   "metadata": {},
   "source": [
    "<a id='NaN values'></a>\n",
    "## NaN values"
   ]
  },
  {
   "cell_type": "code",
   "execution_count": 7,
   "metadata": {
    "collapsed": false,
    "scrolled": false
   },
   "outputs": [
    {
     "name": "stdout",
     "output_type": "stream",
     "text": [
      "<class 'pandas.core.frame.DataFrame'>\n",
      "RangeIndex: 177493 entries, 0 to 177492\n",
      "Data columns (total 26 columns):\n",
      "CountyName                177493 non-null object\n",
      "State                     177493 non-null object\n",
      "Latitude                  177493 non-null float64\n",
      "Longitude                 177493 non-null float64\n",
      "Date                      177493 non-null object\n",
      "apparentTemperatureMax    177493 non-null float64\n",
      "apparentTemperatureMin    177493 non-null float64\n",
      "cloudCover                177493 non-null float64\n",
      "dewPoint                  177493 non-null float64\n",
      "humidity                  177493 non-null float64\n",
      "precipIntensity           177492 non-null float64\n",
      "precipIntensityMax        177492 non-null float64\n",
      "precipProbability         177492 non-null float64\n",
      "precipAccumulation        177493 non-null float64\n",
      "precipTypeIsRain          177493 non-null int64\n",
      "precipTypeIsSnow          177493 non-null int64\n",
      "precipTypeIsOther         177493 non-null int64\n",
      "pressure                  177239 non-null float64\n",
      "temperatureMax            177493 non-null float64\n",
      "temperatureMin            177493 non-null float64\n",
      "visibility                177463 non-null float64\n",
      "windBearing               177493 non-null int64\n",
      "windSpeed                 177493 non-null float64\n",
      "NDVI                      177493 non-null float64\n",
      "DayInSeason               177493 non-null int64\n",
      "Yield                     177493 non-null float64\n",
      "dtypes: float64(18), int64(5), object(3)\n",
      "memory usage: 35.2+ MB\n"
     ]
    }
   ],
   "source": [
    "# Check the general properties of the DFs\n",
    "df_2013.info()"
   ]
  },
  {
   "cell_type": "code",
   "execution_count": 8,
   "metadata": {
    "collapsed": false,
    "scrolled": false
   },
   "outputs": [
    {
     "name": "stdout",
     "output_type": "stream",
     "text": [
      "<class 'pandas.core.frame.DataFrame'>\n",
      "RangeIndex: 182549 entries, 0 to 182548\n",
      "Data columns (total 26 columns):\n",
      "CountyName                182549 non-null object\n",
      "State                     182549 non-null object\n",
      "Latitude                  182549 non-null float64\n",
      "Longitude                 182549 non-null float64\n",
      "Date                      182549 non-null object\n",
      "apparentTemperatureMax    182549 non-null float64\n",
      "apparentTemperatureMin    182549 non-null float64\n",
      "cloudCover                182549 non-null float64\n",
      "dewPoint                  182549 non-null float64\n",
      "humidity                  182549 non-null float64\n",
      "precipIntensity           182549 non-null float64\n",
      "precipIntensityMax        182549 non-null float64\n",
      "precipProbability         182549 non-null float64\n",
      "precipAccumulation        182549 non-null float64\n",
      "precipTypeIsRain          182549 non-null int64\n",
      "precipTypeIsSnow          182549 non-null int64\n",
      "precipTypeIsOther         182549 non-null int64\n",
      "pressure                  182198 non-null float64\n",
      "temperatureMax            182549 non-null float64\n",
      "temperatureMin            182549 non-null float64\n",
      "visibility                182533 non-null float64\n",
      "windBearing               182549 non-null int64\n",
      "windSpeed                 182549 non-null float64\n",
      "NDVI                      182549 non-null float64\n",
      "DayInSeason               182549 non-null int64\n",
      "Yield                     182549 non-null float64\n",
      "dtypes: float64(18), int64(5), object(3)\n",
      "memory usage: 36.2+ MB\n"
     ]
    }
   ],
   "source": [
    "df_2014.info()"
   ]
  },
  {
   "cell_type": "markdown",
   "metadata": {},
   "source": [
    "### For both years I have 26 columns with ~177k rows for 2013 and ~183k rows for 2014. All columns show the expected format for the data they contain (float, integer, string). However, for each year a number of columns have a few entries that are 'NaN' (compare number on non-null entries with total number of rows)."
   ]
  },
  {
   "cell_type": "code",
   "execution_count": 9,
   "metadata": {
    "collapsed": false
   },
   "outputs": [
    {
     "data": {
      "text/plain": [
       "CountyName                  0\n",
       "State                       0\n",
       "Latitude                    0\n",
       "Longitude                   0\n",
       "Date                        0\n",
       "apparentTemperatureMax      0\n",
       "apparentTemperatureMin      0\n",
       "cloudCover                  0\n",
       "dewPoint                    0\n",
       "humidity                    0\n",
       "precipIntensity             1\n",
       "precipIntensityMax          1\n",
       "precipProbability           1\n",
       "precipAccumulation          0\n",
       "precipTypeIsRain            0\n",
       "precipTypeIsSnow            0\n",
       "precipTypeIsOther           0\n",
       "pressure                  254\n",
       "temperatureMax              0\n",
       "temperatureMin              0\n",
       "visibility                 30\n",
       "windBearing                 0\n",
       "windSpeed                   0\n",
       "NDVI                        0\n",
       "DayInSeason                 0\n",
       "Yield                       0\n",
       "dtype: int64"
      ]
     },
     "execution_count": 9,
     "metadata": {},
     "output_type": "execute_result"
    }
   ],
   "source": [
    "# Let's verify\n",
    "df_2013.isnull().sum()"
   ]
  },
  {
   "cell_type": "code",
   "execution_count": 10,
   "metadata": {
    "collapsed": false
   },
   "outputs": [
    {
     "data": {
      "text/plain": [
       "CountyName                  0\n",
       "State                       0\n",
       "Latitude                    0\n",
       "Longitude                   0\n",
       "Date                        0\n",
       "apparentTemperatureMax      0\n",
       "apparentTemperatureMin      0\n",
       "cloudCover                  0\n",
       "dewPoint                    0\n",
       "humidity                    0\n",
       "precipIntensity             0\n",
       "precipIntensityMax          0\n",
       "precipProbability           0\n",
       "precipAccumulation          0\n",
       "precipTypeIsRain            0\n",
       "precipTypeIsSnow            0\n",
       "precipTypeIsOther           0\n",
       "pressure                  351\n",
       "temperatureMax              0\n",
       "temperatureMin              0\n",
       "visibility                 16\n",
       "windBearing                 0\n",
       "windSpeed                   0\n",
       "NDVI                        0\n",
       "DayInSeason                 0\n",
       "Yield                       0\n",
       "dtype: int64"
      ]
     },
     "execution_count": 10,
     "metadata": {},
     "output_type": "execute_result"
    }
   ],
   "source": [
    "df_2014.isnull().sum()"
   ]
  },
  {
   "cell_type": "markdown",
   "metadata": {},
   "source": [
    "### In 2013, five features have 'NaN' values, in 2014 only 2 features. The feature with the highest number of 'NaNs' is 'pressure' followed by 'visibilty' for both years. All missing values are from features that are weather related."
   ]
  },
  {
   "cell_type": "markdown",
   "metadata": {},
   "source": [
    "<a id='Convert date column to datetime format'></a>\n",
    "## Convert date column to datetime format"
   ]
  },
  {
   "cell_type": "code",
   "execution_count": 12,
   "metadata": {
    "collapsed": false
   },
   "outputs": [
    {
     "name": "stdout",
     "output_type": "stream",
     "text": [
      "Exec. time:  0.00 s\n"
     ]
    }
   ],
   "source": [
    "# Check if already converted b/c it takes a long time to process\n",
    "now = time.time()\n",
    "if not df_2013['Date'].dtype == np.dtype('datetime64[ns]'):\n",
    "    df_2013['Date'] = df_2013['Date'].apply(pd.to_datetime)\n",
    "print('Exec. time: {:5.2f} s'.format(time.time()-now))"
   ]
  },
  {
   "cell_type": "code",
   "execution_count": 13,
   "metadata": {
    "collapsed": false
   },
   "outputs": [
    {
     "name": "stdout",
     "output_type": "stream",
     "text": [
      "Exec. time: 100.80 s\n"
     ]
    }
   ],
   "source": [
    "# Check if already converted b/c it takes a long time to process\n",
    "now = time.time()\n",
    "if not df_2014['Date'].dtype == np.dtype('datetime64[ns]'):\n",
    "    df_2014['Date'] = df_2014['Date'].apply(pd.to_datetime)\n",
    "print('Exec. time: {:5.2f} s'.format(time.time()-now))"
   ]
  },
  {
   "cell_type": "markdown",
   "metadata": {},
   "source": [
    "<a id='General comments on the features'></a>\n",
    "## General comments on the features"
   ]
  },
  {
   "cell_type": "markdown",
   "metadata": {},
   "source": [
    "There are a number of features/columns in the dataset where it is not readily apparent what the encode or what their units are. Common definitions are:\n",
    "\n",
    "* precipIntensity: Millimeters per hour.\n",
    "* precipIntensityMax: Millimeters per hour.\n",
    "* precipAccumulation: Centimeters (daily).\n",
    "* NDVI: \"The normalized difference vegetation index (NDVI) is a simple graphical indicator that can be used to analyze remote sensing measurements, typically but not necessarily from a space platform, and assess whether the target being observed contains live green vegetation or not.\" (source: Wikipedia).\n",
    "* apparentTemperature is the perceived temperature in degrees Fahrenheit derived from either a combination of temperature and wind (Wind Chill) or temperature and humidity (Heat Index) for the indicated hour. When the temperature at a particular grid point falls to 50°F or less, wind chill will be used for that point for the Apparent Temperature. When the temperature at a grid point rises above 80°F, the heat index will be used for Apparent Temperature.  Between 51 and 80°F, the Apparent Temperature will be the ambient air temperature. (http://www.nws.noaa.gov/ndfd/definitions.htm)"
   ]
  },
  {
   "cell_type": "code",
   "execution_count": null,
   "metadata": {
    "collapsed": true
   },
   "outputs": [],
   "source": []
  },
  {
   "cell_type": "code",
   "execution_count": null,
   "metadata": {
    "collapsed": true
   },
   "outputs": [],
   "source": []
  },
  {
   "cell_type": "markdown",
   "metadata": {},
   "source": [
    "<a id='A closer look'></a>\n",
    "## A closer look"
   ]
  },
  {
   "cell_type": "markdown",
   "metadata": {},
   "source": [
    "Before I can decide what to do about the NaN values (e.g., impute, drop, ...) I need to understand the data better. In the following I will perform some exploration into the structure of the data."
   ]
  },
  {
   "cell_type": "code",
   "execution_count": 20,
   "metadata": {
    "collapsed": false
   },
   "outputs": [
    {
     "name": "stdout",
     "output_type": "stream",
     "text": [
      "Number of features (2013): 26\n",
      "Number of features (2014): 26\n",
      "Number of features in common:  26\n"
     ]
    }
   ],
   "source": [
    "# Check that both years have the same columns\n",
    "features_2013 = df_2013.columns\n",
    "features_2014 = df_2013.columns\n",
    "print('Number of features (2013):', len(features_2013))\n",
    "print('Number of features (2014):', len(features_2014))\n",
    "print('Number of features in common: ', len(set(features_2013).intersection(features_2014)))\n",
    "# features_2013 & features_2014"
   ]
  },
  {
   "cell_type": "code",
   "execution_count": 28,
   "metadata": {
    "collapsed": false
   },
   "outputs": [
    {
     "name": "stdout",
     "output_type": "stream",
     "text": [
      "CountyName                :    150    156\n",
      "State                     :      5      5\n",
      "Latitude                  :   1014   1035\n",
      "Longitude                 :   1014   1035\n",
      "Date                      :    186    186\n",
      "apparentTemperatureMax    :  11290   9941\n",
      "apparentTemperatureMin    :  10916   9960\n",
      "cloudCover                :    101    101\n",
      "dewPoint                  :   8909   8331\n",
      "humidity                  :     93     86\n",
      "precipIntensity           :    662    815\n",
      "precipIntensityMax        :   3132   4184\n",
      "precipProbability         :     98     98\n",
      "precipAccumulation        :   2761   1911\n",
      "precipTypeIsRain          :      2      2\n",
      "precipTypeIsSnow          :      2      2\n",
      "precipTypeIsOther         :      1      1\n",
      "pressure                  :   5117   4656\n",
      "temperatureMax            :  10408   8323\n",
      "temperatureMin            :   9329   8494\n",
      "visibility                :    877    900\n",
      "windBearing               :    360    360\n",
      "windSpeed                 :   2694   2341\n",
      "NDVI                      : 125108 129967\n",
      "DayInSeason               :    186    186\n",
      "Yield                     :    151    137\n",
      "---------------------\n",
      "Total number of observations (2013) : 177493\n",
      "Total number of observations (2014) : 182549\n"
     ]
    }
   ],
   "source": [
    "# Check the unique entries in each feature\n",
    "features = df_2013.columns\n",
    "for feature in features:\n",
    "    n_unique_2013 = len(df_2013[feature].unique())\n",
    "    n_unique_2014 = len(df_2014[feature].unique())\n",
    "    print('{:25} : {:6.0f} {:6.0f}'.format(feature,n_unique_2013,n_unique_2014))\n",
    "print('---------------------')\n",
    "print('Total number of observations (2013) : {}'.format(df_2013.shape[0]))\n",
    "print('Total number of observations (2014) : {}'.format(df_2014.shape[0]))"
   ]
  },
  {
   "cell_type": "markdown",
   "metadata": {},
   "source": [
    "* The numerical columns have a large number of levels. There seems to be no obvious feature that should be treated as a multi-level categorical feature.\n",
    "* There seem to be more counties and locations in 2014 than in 2013. Need to verify.\n"
   ]
  },
  {
   "cell_type": "markdown",
   "metadata": {},
   "source": [
    "Check the min/max 'Yield' for each county. As in the description of the data:\n",
    "\n",
    "\".. this yield label is not specific to a lat/long but is for the county. Multiple lat/longs will have the same yield since they fall into a single county, even if that individual farm had a higher or lower localized yield.\""
   ]
  },
  {
   "cell_type": "code",
   "execution_count": 36,
   "metadata": {
    "collapsed": false
   },
   "outputs": [
    {
     "data": {
      "text/html": [
       "<div>\n",
       "<table border=\"1\" class=\"dataframe\">\n",
       "  <thead>\n",
       "    <tr>\n",
       "      <th></th>\n",
       "      <th>Yield</th>\n",
       "    </tr>\n",
       "    <tr>\n",
       "      <th></th>\n",
       "      <th>Count</th>\n",
       "    </tr>\n",
       "    <tr>\n",
       "      <th>CountyName</th>\n",
       "      <th></th>\n",
       "    </tr>\n",
       "  </thead>\n",
       "  <tbody>\n",
       "    <tr>\n",
       "      <th>Blaine</th>\n",
       "      <td>2.0</td>\n",
       "    </tr>\n",
       "    <tr>\n",
       "      <th>Brown</th>\n",
       "      <td>2.0</td>\n",
       "    </tr>\n",
       "    <tr>\n",
       "      <th>Clay</th>\n",
       "      <td>2.0</td>\n",
       "    </tr>\n",
       "    <tr>\n",
       "      <th>Comanche</th>\n",
       "      <td>2.0</td>\n",
       "    </tr>\n",
       "    <tr>\n",
       "      <th>Custer</th>\n",
       "      <td>2.0</td>\n",
       "    </tr>\n",
       "    <tr>\n",
       "      <th>Douglas</th>\n",
       "      <td>2.0</td>\n",
       "    </tr>\n",
       "    <tr>\n",
       "      <th>Ellis</th>\n",
       "      <td>3.0</td>\n",
       "    </tr>\n",
       "    <tr>\n",
       "      <th>Franklin</th>\n",
       "      <td>2.0</td>\n",
       "    </tr>\n",
       "    <tr>\n",
       "      <th>Garfield</th>\n",
       "      <td>3.0</td>\n",
       "    </tr>\n",
       "    <tr>\n",
       "      <th>Grant</th>\n",
       "      <td>3.0</td>\n",
       "    </tr>\n",
       "    <tr>\n",
       "      <th>Gray</th>\n",
       "      <td>2.0</td>\n",
       "    </tr>\n",
       "    <tr>\n",
       "      <th>Hamilton</th>\n",
       "      <td>2.0</td>\n",
       "    </tr>\n",
       "    <tr>\n",
       "      <th>Harper</th>\n",
       "      <td>2.0</td>\n",
       "    </tr>\n",
       "    <tr>\n",
       "      <th>Hill</th>\n",
       "      <td>2.0</td>\n",
       "    </tr>\n",
       "    <tr>\n",
       "      <th>Jackson</th>\n",
       "      <td>2.0</td>\n",
       "    </tr>\n",
       "    <tr>\n",
       "      <th>Johnson</th>\n",
       "      <td>2.0</td>\n",
       "    </tr>\n",
       "    <tr>\n",
       "      <th>Lincoln</th>\n",
       "      <td>2.0</td>\n",
       "    </tr>\n",
       "    <tr>\n",
       "      <th>Logan</th>\n",
       "      <td>2.0</td>\n",
       "    </tr>\n",
       "    <tr>\n",
       "      <th>Marshall</th>\n",
       "      <td>2.0</td>\n",
       "    </tr>\n",
       "  </tbody>\n",
       "</table>\n",
       "</div>"
      ],
      "text/plain": [
       "           Yield\n",
       "           Count\n",
       "CountyName      \n",
       "Blaine       2.0\n",
       "Brown        2.0\n",
       "Clay         2.0\n",
       "Comanche     2.0\n",
       "Custer       2.0\n",
       "Douglas      2.0\n",
       "Ellis        3.0\n",
       "Franklin     2.0\n",
       "Garfield     3.0\n",
       "Grant        3.0\n",
       "Gray         2.0\n",
       "Hamilton     2.0\n",
       "Harper       2.0\n",
       "Hill         2.0\n",
       "Jackson      2.0\n",
       "Johnson      2.0\n",
       "Lincoln      2.0\n",
       "Logan        2.0\n",
       "Marshall     2.0"
      ]
     },
     "execution_count": 36,
     "metadata": {},
     "output_type": "execute_result"
    }
   ],
   "source": [
    "gb = df_2013.groupby(by='CountyName')\n",
    "gb_agg = gb.agg({'Yield' : {'Count' : lambda x: len(x.unique())}})\n",
    "diff_counties_2013 = gb_agg[gb_agg['Yield']['Count'] > 1].index.get_level_values('CountyName').values\n",
    "gb_agg[gb_agg['Yield']['Count'] > 1]"
   ]
  },
  {
   "cell_type": "code",
   "execution_count": 37,
   "metadata": {
    "collapsed": false
   },
   "outputs": [
    {
     "data": {
      "text/html": [
       "<div>\n",
       "<table border=\"1\" class=\"dataframe\">\n",
       "  <thead>\n",
       "    <tr>\n",
       "      <th></th>\n",
       "      <th>Yield</th>\n",
       "    </tr>\n",
       "    <tr>\n",
       "      <th></th>\n",
       "      <th>Count</th>\n",
       "    </tr>\n",
       "    <tr>\n",
       "      <th>CountyName</th>\n",
       "      <th></th>\n",
       "    </tr>\n",
       "  </thead>\n",
       "  <tbody>\n",
       "    <tr>\n",
       "      <th>Blaine</th>\n",
       "      <td>2.0</td>\n",
       "    </tr>\n",
       "    <tr>\n",
       "      <th>Brown</th>\n",
       "      <td>2.0</td>\n",
       "    </tr>\n",
       "    <tr>\n",
       "      <th>Carter</th>\n",
       "      <td>2.0</td>\n",
       "    </tr>\n",
       "    <tr>\n",
       "      <th>Comanche</th>\n",
       "      <td>3.0</td>\n",
       "    </tr>\n",
       "    <tr>\n",
       "      <th>Douglas</th>\n",
       "      <td>2.0</td>\n",
       "    </tr>\n",
       "    <tr>\n",
       "      <th>Ellis</th>\n",
       "      <td>3.0</td>\n",
       "    </tr>\n",
       "    <tr>\n",
       "      <th>Franklin</th>\n",
       "      <td>2.0</td>\n",
       "    </tr>\n",
       "    <tr>\n",
       "      <th>Grant</th>\n",
       "      <td>3.0</td>\n",
       "    </tr>\n",
       "    <tr>\n",
       "      <th>Hamilton</th>\n",
       "      <td>2.0</td>\n",
       "    </tr>\n",
       "    <tr>\n",
       "      <th>Harper</th>\n",
       "      <td>2.0</td>\n",
       "    </tr>\n",
       "    <tr>\n",
       "      <th>Hill</th>\n",
       "      <td>2.0</td>\n",
       "    </tr>\n",
       "    <tr>\n",
       "      <th>Jackson</th>\n",
       "      <td>2.0</td>\n",
       "    </tr>\n",
       "    <tr>\n",
       "      <th>Jefferson</th>\n",
       "      <td>2.0</td>\n",
       "    </tr>\n",
       "    <tr>\n",
       "      <th>Lincoln</th>\n",
       "      <td>2.0</td>\n",
       "    </tr>\n",
       "  </tbody>\n",
       "</table>\n",
       "</div>"
      ],
      "text/plain": [
       "           Yield\n",
       "           Count\n",
       "CountyName      \n",
       "Blaine       2.0\n",
       "Brown        2.0\n",
       "Carter       2.0\n",
       "Comanche     3.0\n",
       "Douglas      2.0\n",
       "Ellis        3.0\n",
       "Franklin     2.0\n",
       "Grant        3.0\n",
       "Hamilton     2.0\n",
       "Harper       2.0\n",
       "Hill         2.0\n",
       "Jackson      2.0\n",
       "Jefferson    2.0\n",
       "Lincoln      2.0"
      ]
     },
     "execution_count": 37,
     "metadata": {},
     "output_type": "execute_result"
    }
   ],
   "source": [
    "gb = df_2014.groupby(by='CountyName')\n",
    "gb_agg = gb.agg({'Yield' : {'Count' : lambda x: len(x.unique())}})\n",
    "diff_counties_2014 = gb_agg[gb_agg['Yield']['Count'] > 1].index.get_level_values('CountyName').values\n",
    "gb_agg[gb_agg['Yield']['Count'] > 1]"
   ]
  },
  {
   "cell_type": "code",
   "execution_count": null,
   "metadata": {
    "collapsed": true
   },
   "outputs": [],
   "source": []
  },
  {
   "cell_type": "markdown",
   "metadata": {},
   "source": [
    "Interestingly, many counties have only one value for the yield (number of counties: 150 (2013) and 156 (2014)). A few exceptions, as printed above, have more than one value. Before moving on I need to understand what's going on and how these yield values are assigned. Why do most counties have only one value, but a sizeable fraction has several diffenet values?"
   ]
  },
  {
   "cell_type": "code",
   "execution_count": 42,
   "metadata": {
    "collapsed": false
   },
   "outputs": [
    {
     "name": "stdout",
     "output_type": "stream",
     "text": [
      "I count 19 counties with more than one yield level.\n",
      "Blaine     ['Montana' 'Oklahoma']\n",
      "Brown      ['Kansas' 'Texas']\n",
      "Clay       ['Kansas' 'Texas']\n",
      "Comanche   ['Kansas' 'Oklahoma']\n",
      "Custer     ['Montana' 'Oklahoma']\n",
      "Douglas    ['Kansas' 'Washington']\n",
      "Ellis      ['Kansas' 'Oklahoma' 'Texas']\n",
      "Franklin   ['Kansas' 'Washington']\n",
      "Garfield   ['Montana' 'Oklahoma' 'Washington']\n",
      "Grant      ['Kansas' 'Oklahoma' 'Washington']\n",
      "Gray       ['Kansas' 'Texas']\n",
      "Hamilton   ['Kansas' 'Texas']\n",
      "Harper     ['Kansas' 'Oklahoma']\n",
      "Hill       ['Montana' 'Texas']\n",
      "Jackson    ['Kansas' 'Oklahoma']\n",
      "Johnson    ['Kansas' 'Texas']\n",
      "Lincoln    ['Kansas' 'Washington']\n",
      "Logan      ['Kansas' 'Oklahoma']\n",
      "Marshall   ['Kansas' 'Oklahoma']\n"
     ]
    }
   ],
   "source": [
    "# What states do the counties with various yield levels lie in?\n",
    "print('I count {} counties with more than one yield level.'.format(len(diff_counties_2013)))\n",
    "for idx, diff_county in enumerate(diff_counties_2013):\n",
    "    print('{:10} {}'.format(diff_county, df_2013['State'][df_2013['CountyName'] == diff_county].unique()))"
   ]
  },
  {
   "cell_type": "code",
   "execution_count": 43,
   "metadata": {
    "collapsed": false
   },
   "outputs": [
    {
     "name": "stdout",
     "output_type": "stream",
     "text": [
      "I count 14 counties with more than one yield level.\n",
      "Blaine     ['Montana' 'Oklahoma']\n",
      "Brown      ['Kansas' 'Texas']\n",
      "Carter     ['Montana' 'Oklahoma']\n",
      "Comanche   ['Kansas' 'Oklahoma' 'Texas']\n",
      "Douglas    ['Kansas' 'Washington']\n",
      "Ellis      ['Kansas' 'Oklahoma' 'Texas']\n",
      "Franklin   ['Kansas' 'Washington']\n",
      "Grant      ['Kansas' 'Oklahoma' 'Washington']\n",
      "Hamilton   ['Kansas' 'Texas']\n",
      "Harper     ['Kansas' 'Oklahoma']\n",
      "Hill       ['Montana' 'Texas']\n",
      "Jackson    ['Kansas' 'Oklahoma']\n",
      "Jefferson  ['Kansas' 'Oklahoma']\n",
      "Lincoln    ['Oklahoma' 'Washington']\n"
     ]
    }
   ],
   "source": [
    "# What states do the counties with various yield levels lie in?\n",
    "print('I count {} counties with more than one yield level.'.format(len(diff_counties_2014)))\n",
    "for idx, diff_county in enumerate(diff_counties_2014):\n",
    "    print('{:10} {}'.format(diff_county, df_2014['State'][df_2014['CountyName'] == diff_county].unique()))"
   ]
  },
  {
   "cell_type": "markdown",
   "metadata": {},
   "source": [
    "Okay, it seems that counties with the same name can appear in two (or even three) different states. That explaines the different values for the yield. However, some of the counties having two different yield values in 2013 (e.g., Clay) do not show up in the same list in 2014. There are also examples of the opposite (e.g., Jefferson). I can think of two reasons at this point:\n",
    "* the county still shows up for more than one state, but both entries happen to have the same yield\n",
    "* the county only shows up for one of the states\n",
    "\n",
    "Let's investigate."
   ]
  },
  {
   "cell_type": "code",
   "execution_count": 62,
   "metadata": {
    "collapsed": false
   },
   "outputs": [
    {
     "name": "stdout",
     "output_type": "stream",
     "text": [
      "County 2013 State 2014                          Yield 2014\n",
      "----------------------------------------------------------------\n",
      "Blaine     ['Montana' 'Oklahoma']              [ 32.4  26.6]\n",
      "Brown      ['Kansas' 'Texas']                  [ 42.   21.4]\n",
      "Clay       ['Texas']                           [ 25.2]\n",
      "Comanche   ['Kansas' 'Oklahoma' 'Texas']       [ 41.5  20.9  30.3]\n",
      "Custer     ['Oklahoma']                        [ 30.3]\n",
      "Douglas    ['Kansas' 'Washington']             [ 30.9  37.8]\n",
      "Ellis      ['Kansas' 'Oklahoma' 'Texas']       [ 32.9  22.4  39.3]\n",
      "Franklin   ['Kansas' 'Washington']             [ 39.9  30. ]\n",
      "Garfield   ['Oklahoma']                        [ 27.3]\n",
      "Grant      ['Kansas' 'Oklahoma' 'Washington']  [ 33.5  23.6  41.7]\n",
      "Gray       ['Kansas']                          [ 46.6]\n",
      "Hamilton   ['Kansas' 'Texas']                  [ 20.5  26.1]\n",
      "Harper     ['Kansas' 'Oklahoma']               [ 27.7  27.5]\n",
      "Hill       ['Montana' 'Texas']                 [ 28.2  43. ]\n",
      "Jackson    ['Kansas' 'Oklahoma']               [ 32.9  25.2]\n",
      "Johnson    ['Texas']                           [ 33.9]\n",
      "Lincoln    ['Oklahoma' 'Washington']           [ 34.9  53. ]\n",
      "Logan      ['Oklahoma']                        [ 31.6]\n",
      "Marshall   []                                  []\n"
     ]
    }
   ],
   "source": [
    "print('{:10} {:35} {}'.format('County 2013', 'State 2014', 'Yield 2014'))\n",
    "print('----------------------------------------------------------------')\n",
    "for idx, diff_county in enumerate(diff_counties_2013):\n",
    "    tmp_states = df_2014['State'][df_2014['CountyName'] == diff_county].unique()\n",
    "    tmp_yields = np.zeros(len(tmp_states))\n",
    "    for ix,tmp_state in enumerate(tmp_states):\n",
    "        tmp_yields[ix] = df_2014['Yield'][(df_2014['CountyName'] == diff_county) & \n",
    "                                          (df_2014['State'] == tmp_state)].unique()\n",
    "\n",
    "    print('{:10} {:35} {}'.format(diff_county, tmp_states, tmp_yields))"
   ]
  },
  {
   "cell_type": "code",
   "execution_count": 61,
   "metadata": {
    "collapsed": false
   },
   "outputs": [
    {
     "name": "stdout",
     "output_type": "stream",
     "text": [
      "County 2014 State 2013                          Yield 2013\n",
      "----------------------------------------------------------------\n",
      "Blaine     ['Montana' 'Oklahoma']              [ 38.4  18.1]\n",
      "Brown      ['Kansas' 'Texas']                  [ 51.2  13.6]\n",
      "Carter     ['Montana']                         [ 40.9]\n",
      "Comanche   ['Kansas' 'Oklahoma']               [ 14.5  15.3]\n",
      "Douglas    ['Kansas' 'Washington']             [ 44.8  35.3]\n",
      "Ellis      ['Kansas' 'Oklahoma' 'Texas']       [ 19.9  10.2  54.9]\n",
      "Franklin   ['Kansas' 'Washington']             [ 47.4  31.3]\n",
      "Grant      ['Kansas' 'Oklahoma' 'Washington']  [ 27.7  12.7  42.9]\n",
      "Hamilton   ['Kansas' 'Texas']                  [ 12.1  27. ]\n",
      "Harper     ['Kansas' 'Oklahoma']               [ 12.6  10.3]\n",
      "Hill       ['Montana' 'Texas']                 [ 38.8  49.4]\n",
      "Jackson    ['Kansas' 'Oklahoma']               [ 45.4  11.8]\n",
      "Jefferson  ['Oklahoma']                        [ 20.6]\n",
      "Lincoln    ['Kansas' 'Washington']             [ 23.3  48. ]\n"
     ]
    }
   ],
   "source": [
    "print('{:10} {:35} {}'.format('County 2014', 'State 2013', 'Yield 2013'))\n",
    "print('----------------------------------------------------------------')\n",
    "for idx, diff_county in enumerate(diff_counties_2014):\n",
    "    tmp_states = df_2013['State'][df_2013['CountyName'] == diff_county].unique()\n",
    "    tmp_yields = np.zeros(len(tmp_states))\n",
    "    for ix,tmp_state in enumerate(tmp_states):\n",
    "        tmp_yields[ix] = df_2013['Yield'][(df_2013['CountyName'] == diff_county) & \n",
    "                                          (df_2013['State'] == tmp_state)].unique()\n",
    "    print('{:10} {:35} {}'.format(diff_county, tmp_states, tmp_yields))\n"
   ]
  },
  {
   "cell_type": "markdown",
   "metadata": {},
   "source": [
    "This exercise reveals that counties that show up in more than one state in one year in most cases show up in more than one state in te next year. Exceptions to this rule are:\n",
    "\n",
    "* Clay: ['Kansas' 'Texas'] in 2013, ['Texas'] in 2014\n",
    "* Custer: ['Montana' 'Oklahoma'] in 2013, ['Oklahoma'] in 2014\n",
    "* Garfield: ['Montana' 'Oklahoma' 'Washington'] in 2013, ['Oklahoma'] in 2014\n",
    "* Gray: ['Kansas' 'Texas'] in 2013, ['Kansas'] in 2014\n",
    "* Johnson: ['Kansas' 'Texas'] in 2013, ['Texas'] in 2014\n",
    "* Logan: ['Kansas' 'Oklahoma'] in 2013, ['Oklahoma'] in 2014\n",
    "* Marshall: ['Kansas' 'Oklahoma'] in 2013, does not appear in 2014 at all\n",
    "\n",
    "as well as:\n",
    "\n",
    "* Carter: ['Montana' 'Oklahoma'] in 2014, ['Montana'] in 2013\n",
    "* Jefferson: ['Kansas' 'Oklahoma'] in 2014, ['Oklahoma'] in 2013"
   ]
  },
  {
   "cell_type": "code",
   "execution_count": null,
   "metadata": {
    "collapsed": true
   },
   "outputs": [],
   "source": []
  },
  {
   "cell_type": "markdown",
   "metadata": {},
   "source": [
    "<a id='Locations'></a>\n",
    "## Locations"
   ]
  },
  {
   "cell_type": "markdown",
   "metadata": {},
   "source": [
    "The analysis above already showed that Longitude and Latitude each at 1014 and 1035 unique entries in 2013 and 2014, respectively. This strongly suggests that the data contain 1014 and 1035 uniqe locations for these years. Let's verify that we actuallly have unique *pairs* of lng/lat values."
   ]
  },
  {
   "cell_type": "code",
   "execution_count": 74,
   "metadata": {
    "collapsed": false
   },
   "outputs": [
    {
     "name": "stdout",
     "output_type": "stream",
     "text": [
      "Number of unique locations (2013): 1014\n"
     ]
    }
   ],
   "source": [
    "df_2013['Location'] = list(zip(df_2013['Longitude'], df_2013['Latitude']))\n",
    "print('Number of unique locations (2013): {}'.format(len(df_2013['Location'].unique())))"
   ]
  },
  {
   "cell_type": "code",
   "execution_count": 75,
   "metadata": {
    "collapsed": false
   },
   "outputs": [
    {
     "name": "stdout",
     "output_type": "stream",
     "text": [
      "Number of unique locations (2014): 1035\n"
     ]
    }
   ],
   "source": [
    "df_2014['Location'] = list(zip(df_2014['Longitude'], df_2014['Latitude']))\n",
    "print('Number of unique locations (2014): {}'.format(len(df_2014['Location'].unique())))"
   ]
  },
  {
   "cell_type": "markdown",
   "metadata": {},
   "source": [
    "Okay, it's indeed 1014 and 1035 unique locations in 2013 and 2014, respectively."
   ]
  },
  {
   "cell_type": "code",
   "execution_count": null,
   "metadata": {
    "collapsed": true
   },
   "outputs": [],
   "source": []
  },
  {
   "cell_type": "code",
   "execution_count": null,
   "metadata": {
    "collapsed": true
   },
   "outputs": [],
   "source": []
  },
  {
   "cell_type": "code",
   "execution_count": null,
   "metadata": {
    "collapsed": true
   },
   "outputs": [],
   "source": []
  },
  {
   "cell_type": "markdown",
   "metadata": {},
   "source": [
    "<a id='Format of the data'></a>\n",
    "## Format of the data"
   ]
  },
  {
   "cell_type": "markdown",
   "metadata": {},
   "source": [
    "Since detailed information on the structure and format of the data is not available, my analysis above provides me with further insight into the data. My current understanding is as follows:\n",
    "\n",
    "* For each location (which falls into a certain county which again lies in a certain state) the data provide weather information for a specific day. We have essentially a location-sepcific timeseries of weather data. \n",
    "* The yield that is recorded corresponds to the yield at the end of the season (i.e, harvest). Despite the fact that it is measured at the end of the season, it is still reported for each individual location/date leading up to the hearvest. \n",
    "\n",
    "The given task here specifically mentions to *exclude* the date from the training. But the day in the season is available. Let's check how the season's starting data (and length) may depend on location."
   ]
  },
  {
   "cell_type": "code",
   "execution_count": 137,
   "metadata": {
    "collapsed": true
   },
   "outputs": [],
   "source": [
    "gb_2013 = df_2013.groupby(by='Location')\n",
    "gb_2014 = df_2014.groupby(by='Location')"
   ]
  },
  {
   "cell_type": "code",
   "execution_count": null,
   "metadata": {
    "collapsed": true
   },
   "outputs": [],
   "source": []
  },
  {
   "cell_type": "code",
   "execution_count": 141,
   "metadata": {
    "collapsed": false
   },
   "outputs": [
    {
     "data": {
      "text/html": [
       "<div>\n",
       "<table border=\"1\" class=\"dataframe\">\n",
       "  <thead>\n",
       "    <tr>\n",
       "      <th></th>\n",
       "      <th>Date</th>\n",
       "      <th colspan=\"2\" halign=\"left\">DayInSeason</th>\n",
       "    </tr>\n",
       "    <tr>\n",
       "      <th></th>\n",
       "      <th>First_Day_in_Season</th>\n",
       "      <th>Length_of_Season</th>\n",
       "      <th>First_Day_in_Season</th>\n",
       "    </tr>\n",
       "    <tr>\n",
       "      <th>Location</th>\n",
       "      <th></th>\n",
       "      <th></th>\n",
       "      <th></th>\n",
       "    </tr>\n",
       "  </thead>\n",
       "  <tbody>\n",
       "    <tr>\n",
       "      <th>(-120.9140928, 45.8405591)</th>\n",
       "      <td>2013-11-30</td>\n",
       "      <td>185</td>\n",
       "      <td>0</td>\n",
       "    </tr>\n",
       "    <tr>\n",
       "      <th>(-120.7332898, 45.8059508)</th>\n",
       "      <td>2013-11-30</td>\n",
       "      <td>185</td>\n",
       "      <td>0</td>\n",
       "    </tr>\n",
       "    <tr>\n",
       "      <th>(-120.4850382, 45.7447958)</th>\n",
       "      <td>2013-11-30</td>\n",
       "      <td>185</td>\n",
       "      <td>0</td>\n",
       "    </tr>\n",
       "    <tr>\n",
       "      <th>(-120.3476399, 45.8191414)</th>\n",
       "      <td>2013-11-30</td>\n",
       "      <td>185</td>\n",
       "      <td>0</td>\n",
       "    </tr>\n",
       "    <tr>\n",
       "      <th>(-120.2148424, 45.977662)</th>\n",
       "      <td>2013-11-30</td>\n",
       "      <td>185</td>\n",
       "      <td>0</td>\n",
       "    </tr>\n",
       "  </tbody>\n",
       "</table>\n",
       "</div>"
      ],
      "text/plain": [
       "                                          Date      DayInSeason  \\\n",
       "                           First_Day_in_Season Length_of_Season   \n",
       "Location                                                          \n",
       "(-120.9140928, 45.8405591)          2013-11-30              185   \n",
       "(-120.7332898, 45.8059508)          2013-11-30              185   \n",
       "(-120.4850382, 45.7447958)          2013-11-30              185   \n",
       "(-120.3476399, 45.8191414)          2013-11-30              185   \n",
       "(-120.2148424, 45.977662)           2013-11-30              185   \n",
       "\n",
       "                                                \n",
       "                           First_Day_in_Season  \n",
       "Location                                        \n",
       "(-120.9140928, 45.8405591)                   0  \n",
       "(-120.7332898, 45.8059508)                   0  \n",
       "(-120.4850382, 45.7447958)                   0  \n",
       "(-120.3476399, 45.8191414)                   0  \n",
       "(-120.2148424, 45.977662)                    0  "
      ]
     },
     "execution_count": 141,
     "metadata": {},
     "output_type": "execute_result"
    }
   ],
   "source": [
    "gb_agg_2013 = gb_2013.agg({'Date' : {'First_Day_in_Season' : np.min},\n",
    "                           'DayInSeason': {'First_Day_in_Season' : np.min,\n",
    "                                           'Length_of_Season' : lambda x: np.max(x) - np.min(x)}})\n",
    "gb_agg_2013.head()"
   ]
  },
  {
   "cell_type": "code",
   "execution_count": 148,
   "metadata": {
    "collapsed": true
   },
   "outputs": [],
   "source": [
    "gb_agg_2014 = gb_2014.agg({'Date' : {'First_Day_in_Season' : np.min},\n",
    "                           'DayInSeason': {'First_Day_in_Season' : np.min,\n",
    "                                           'Length_of_Season' : lambda x: np.max(x) - np.min(x)}})"
   ]
  },
  {
   "cell_type": "code",
   "execution_count": 142,
   "metadata": {
    "collapsed": false
   },
   "outputs": [
    {
     "name": "stdout",
     "output_type": "stream",
     "text": [
      "185 935\n",
      "184   6\n",
      "137   2\n",
      "119   1\n",
      "182   3\n",
      "160   1\n",
      "112  23\n",
      " 64   6\n",
      "152   6\n",
      "177   5\n",
      " 96   7\n",
      "144   2\n",
      "103   5\n",
      "  0  12\n"
     ]
    }
   ],
   "source": [
    "los = gb_agg_2013['DayInSeason']['Length_of_Season'].unique()\n",
    "for tmp_los in los:\n",
    "    cts = gb_agg_2013['Date']['First_Day_in_Season'][gb_agg_2013['DayInSeason']['Length_of_Season'] == tmp_los].count()\n",
    "    print('{:3} {:3}'.format(tmp_los, cts))"
   ]
  },
  {
   "cell_type": "code",
   "execution_count": 167,
   "metadata": {
    "collapsed": false
   },
   "outputs": [
    {
     "name": "stdout",
     "output_type": "stream",
     "text": [
      "185 971\n",
      "151   2\n",
      "169  13\n",
      "152   4\n",
      "156   1\n",
      "170   6\n",
      " 80   6\n",
      "160  13\n",
      "144   6\n",
      " 64  12\n",
      "128   1\n"
     ]
    }
   ],
   "source": [
    "los = gb_agg_2014['DayInSeason']['Length_of_Season'].unique()\n",
    "for tmp_los in los:\n",
    "    cts = gb_agg_2014['Date']['First_Day_in_Season'][gb_agg_2014['DayInSeason']['Length_of_Season'] == tmp_los].count()\n",
    "    print('{:3} {:3}'.format(tmp_los, cts))"
   ]
  },
  {
   "cell_type": "markdown",
   "metadata": {},
   "source": [
    "The vast majority of locations has a common 'Length_of_Season' of 185 days. In 2013 there are 12 locations with only one entry in 'DayInSeason'. Maybe these locations olny appear once alltogether? Let's check:"
   ]
  },
  {
   "cell_type": "code",
   "execution_count": 174,
   "metadata": {
    "collapsed": false
   },
   "outputs": [
    {
     "name": "stdout",
     "output_type": "stream",
     "text": [
      "1\n",
      "105317   2014-03-20\n",
      "Name: Date, dtype: datetime64[ns]\n",
      "1\n",
      "105318   2014-03-20\n",
      "Name: Date, dtype: datetime64[ns]\n",
      "1\n",
      "105689   2014-03-20\n",
      "Name: Date, dtype: datetime64[ns]\n",
      "1\n",
      "105688   2014-03-20\n",
      "Name: Date, dtype: datetime64[ns]\n",
      "1\n",
      "105224   2014-03-20\n",
      "Name: Date, dtype: datetime64[ns]\n",
      "1\n",
      "105690   2014-03-20\n",
      "Name: Date, dtype: datetime64[ns]\n",
      "1\n",
      "105687   2014-03-20\n",
      "Name: Date, dtype: datetime64[ns]\n",
      "1\n",
      "105226   2014-03-20\n",
      "Name: Date, dtype: datetime64[ns]\n",
      "1\n",
      "105223   2014-03-20\n",
      "Name: Date, dtype: datetime64[ns]\n",
      "1\n",
      "105225   2014-03-20\n",
      "Name: Date, dtype: datetime64[ns]\n",
      "1\n",
      "105222   2014-03-20\n",
      "Name: Date, dtype: datetime64[ns]\n",
      "1\n",
      "105685   2014-03-20\n",
      "Name: Date, dtype: datetime64[ns]\n"
     ]
    }
   ],
   "source": [
    "locations = (gb_agg_2013[gb_agg_2013['DayInSeason']['Length_of_Season'] == 0]\n",
    "             .index.get_level_values('Location').values)\n",
    "for loc in locations:\n",
    "    print(df_2013['Longitude'][df_2013['Location'] == loc].count())\n",
    "    print(df_2013['Date'][df_2013['Location'] == loc])\n"
   ]
  },
  {
   "cell_type": "code",
   "execution_count": 177,
   "metadata": {
    "collapsed": false
   },
   "outputs": [
    {
     "data": {
      "text/plain": [
       "Timestamp('2014-06-03 00:00:00')"
      ]
     },
     "execution_count": 177,
     "metadata": {},
     "output_type": "execute_result"
    }
   ],
   "source": [
    "max(df_2013['Date'])"
   ]
  },
  {
   "cell_type": "markdown",
   "metadata": {},
   "source": [
    "The locations that show up only once do so in the middle of the season, not at the end."
   ]
  },
  {
   "cell_type": "code",
   "execution_count": 143,
   "metadata": {
    "collapsed": false,
    "scrolled": true
   },
   "outputs": [
    {
     "name": "stdout",
     "output_type": "stream",
     "text": [
      "184 2013-12-01T00:00:00.000000000\n",
      "184 2013-12-01T00:00:00.000000000\n",
      "184 2013-12-01T00:00:00.000000000\n",
      "184 2013-12-01T00:00:00.000000000\n",
      "184 2013-12-01T00:00:00.000000000\n",
      "184 2013-12-01T00:00:00.000000000\n",
      "137 2013-12-07T00:00:00.000000000\n",
      "137 2013-12-07T00:00:00.000000000\n",
      "119 2013-12-25T00:00:00.000000000\n",
      "182 2013-12-03T00:00:00.000000000\n",
      "182 2013-12-03T00:00:00.000000000\n",
      "182 2013-12-03T00:00:00.000000000\n",
      "160 2013-12-01T00:00:00.000000000\n",
      "112 2014-01-13T00:00:00.000000000\n",
      "112 2014-01-13T00:00:00.000000000\n",
      "112 2014-01-13T00:00:00.000000000\n",
      "112 2014-01-13T00:00:00.000000000\n",
      "112 2014-01-13T00:00:00.000000000\n",
      "112 2014-01-13T00:00:00.000000000\n",
      "112 2014-01-06T00:00:00.000000000\n",
      "112 2014-01-06T00:00:00.000000000\n",
      "112 2014-01-06T00:00:00.000000000\n",
      "112 2014-01-06T00:00:00.000000000\n",
      "112 2014-01-06T00:00:00.000000000\n",
      "112 2014-01-06T00:00:00.000000000\n",
      "112 2014-01-06T00:00:00.000000000\n",
      "112 2014-01-06T00:00:00.000000000\n",
      "112 2014-01-06T00:00:00.000000000\n",
      "112 2014-01-06T00:00:00.000000000\n",
      "112 2014-01-06T00:00:00.000000000\n",
      "112 2014-01-06T00:00:00.000000000\n",
      "112 2014-01-06T00:00:00.000000000\n",
      "112 2014-01-06T00:00:00.000000000\n",
      "112 2014-01-06T00:00:00.000000000\n",
      "112 2014-01-06T00:00:00.000000000\n",
      "112 2014-01-06T00:00:00.000000000\n",
      " 64 2014-01-13T00:00:00.000000000\n",
      " 64 2014-01-13T00:00:00.000000000\n",
      " 64 2014-01-13T00:00:00.000000000\n",
      " 64 2014-01-13T00:00:00.000000000\n",
      " 64 2014-01-15T00:00:00.000000000\n",
      " 64 2014-01-15T00:00:00.000000000\n",
      "152 2014-01-02T00:00:00.000000000\n",
      "152 2014-01-02T00:00:00.000000000\n",
      "152 2014-01-02T00:00:00.000000000\n",
      "152 2014-01-02T00:00:00.000000000\n",
      "152 2014-01-02T00:00:00.000000000\n",
      "152 2014-01-02T00:00:00.000000000\n",
      "177 2013-11-30T00:00:00.000000000\n",
      "177 2013-11-30T00:00:00.000000000\n",
      "177 2013-11-30T00:00:00.000000000\n",
      "177 2013-11-30T00:00:00.000000000\n",
      "177 2013-11-30T00:00:00.000000000\n",
      " 96 2014-01-22T00:00:00.000000000\n",
      " 96 2014-01-22T00:00:00.000000000\n",
      " 96 2014-01-22T00:00:00.000000000\n",
      " 96 2014-01-22T00:00:00.000000000\n",
      " 96 2014-01-22T00:00:00.000000000\n",
      " 96 2014-01-22T00:00:00.000000000\n",
      " 96 2014-01-22T00:00:00.000000000\n",
      "144 2013-12-28T00:00:00.000000000\n",
      "144 2013-12-28T00:00:00.000000000\n",
      "103 2014-01-15T00:00:00.000000000\n",
      "103 2014-01-15T00:00:00.000000000\n",
      "103 2014-01-15T00:00:00.000000000\n",
      "103 2014-01-15T00:00:00.000000000\n",
      "103 2014-01-15T00:00:00.000000000\n",
      "  0 2014-03-20T00:00:00.000000000\n",
      "  0 2014-03-20T00:00:00.000000000\n",
      "  0 2014-03-20T00:00:00.000000000\n",
      "  0 2014-03-20T00:00:00.000000000\n",
      "  0 2014-03-20T00:00:00.000000000\n",
      "  0 2014-03-20T00:00:00.000000000\n",
      "  0 2014-03-20T00:00:00.000000000\n",
      "  0 2014-03-20T00:00:00.000000000\n",
      "  0 2014-03-20T00:00:00.000000000\n",
      "  0 2014-03-20T00:00:00.000000000\n",
      "  0 2014-03-20T00:00:00.000000000\n",
      "  0 2014-03-20T00:00:00.000000000\n"
     ]
    }
   ],
   "source": [
    "for tmp_los in los:\n",
    "    if tmp_los != 185:\n",
    "        cts = gb_agg_2013['Date']['First_Day_in_Season'][gb_agg_2013['DayInSeason']['Length_of_Season'] == tmp_los].values\n",
    "        for ct in cts:\n",
    "            print('{:3} {:3}'.format(tmp_los, ct))\n",
    " "
   ]
  },
  {
   "cell_type": "markdown",
   "metadata": {},
   "source": [
    "For all locations where the length of the season is <185, the first day on record is indeed later than the canonical '2014-11-30' of the majority class."
   ]
  },
  {
   "cell_type": "code",
   "execution_count": 144,
   "metadata": {
    "collapsed": false
   },
   "outputs": [
    {
     "name": "stdout",
     "output_type": "stream",
     "text": [
      "['2013-11-30T00:00:00.000000000' '2013-12-01T00:00:00.000000000'\n",
      " '2013-12-07T00:00:00.000000000' '2013-12-25T00:00:00.000000000'\n",
      " '2013-12-03T00:00:00.000000000' '2014-01-13T00:00:00.000000000'\n",
      " '2014-01-02T00:00:00.000000000' '2014-01-22T00:00:00.000000000'\n",
      " '2013-12-28T00:00:00.000000000' '2014-01-15T00:00:00.000000000'\n",
      " '2014-01-06T00:00:00.000000000' '2014-03-20T00:00:00.000000000']\n",
      "[  0   1   7  25   3  44  33  53  28  46  37 110]\n"
     ]
    }
   ],
   "source": [
    "print(gb_agg_2013['Date']['First_Day_in_Season'].unique())\n",
    "print(gb_agg_2013['DayInSeason']['First_Day_in_Season'].unique())\n"
   ]
  },
  {
   "cell_type": "markdown",
   "metadata": {},
   "source": [
    "This exercise tells us some additional things about the dataset:\n",
    "* The length of the season differs between locations\n",
    "* The first record of a location might have a 'DayInSeason' that is larger than 0, i.e., the season had already started before data tracking had begun."
   ]
  },
  {
   "cell_type": "markdown",
   "metadata": {},
   "source": [
    "Check the geographical distribution of all locations that have less than 185 days of season length:"
   ]
  },
  {
   "cell_type": "code",
   "execution_count": 166,
   "metadata": {
    "collapsed": false
   },
   "outputs": [
    {
     "data": {
      "image/png": "[encoded data removed]",
      "text/plain": [
       "<matplotlib.figure.Figure at 0x1183cd550>"
      ]
     },
     "metadata": {},
     "output_type": "display_data"
    }
   ],
   "source": [
    "fig, ax = plt.subplots(1,2,figsize=(14, 20))\n",
    "\n",
    "mymap = Basemap(llcrnrlon=-119, llcrnrlat=22, urcrnrlon=-80,\n",
    "                urcrnrlat=49, projection='lcc', lat_1=33, lat_2=45,\n",
    "                lon_0=-105, area_thresh=10000,\n",
    "                resolution = 'l',ax=ax[0])\n",
    "\n",
    "locations = (gb_agg_2013[gb_agg_2013['DayInSeason']['Length_of_Season'] != 185]\n",
    "             .index.get_level_values('Location').values)\n",
    "# print(locations)\n",
    "lng = [x[0] for x in locations]\n",
    "lat = [x[1] for x in locations]\n",
    "yld = gb_agg_2013['DayInSeason']['Length_of_Season'][gb_agg_2013['DayInSeason']['Length_of_Season'] != 185]\n",
    "x,y = mymap(lng, lat)\n",
    "\n",
    "im1 = mymap.scatter(x, y, c=yld, vmin=60, vmax=170, cmap=mpl.cm.get_cmap('rainbow'), zorder=2)\n",
    "\n",
    "mymap.drawparallels(np.arange(25,65,20))\n",
    "mymap.drawmeridians(np.arange(-120,-40,20))\n",
    "mymap.drawcoastlines()\n",
    "\n",
    "ax[0].annotate('2013', xy=(0.02, 1.02), fontsize=12,xycoords='axes fraction')\n",
    "\n",
    "# cax1 = fig.add_axes([0.92, 0.3, 0.03, 0.4])\n",
    "# cbar = plt.colorbar(im1,cax=cax1, orientation='vertical', extend='both', use_gridspec=True)\n",
    "# cbar.set_label('Length of Season')\n",
    "\n",
    "mymap = Basemap(llcrnrlon=-119, llcrnrlat=22, urcrnrlon=-80,\n",
    "                urcrnrlat=49, projection='lcc', lat_1=33, lat_2=45,\n",
    "                lon_0=-105, area_thresh=10000,\n",
    "                resolution = 'l',ax=ax[1])\n",
    "\n",
    "locations = (gb_agg_2014[gb_agg_2014['DayInSeason']['Length_of_Season'] != 185]\n",
    "             .index.get_level_values('Location').values)\n",
    "# print(locations)\n",
    "lng = [x[0] for x in locations]\n",
    "lat = [x[1] for x in locations]\n",
    "yld = gb_agg_2014['DayInSeason']['Length_of_Season'][gb_agg_2014['DayInSeason']['Length_of_Season'] != 185]\n",
    "x,y = mymap(lng, lat)\n",
    "\n",
    "im2 = mymap.scatter(x, y, c=yld, vmin=60, vmax=170, cmap=mpl.cm.get_cmap('rainbow'), zorder=2)\n",
    "\n",
    "mymap.drawparallels(np.arange(25,65,20))\n",
    "mymap.drawmeridians(np.arange(-120,-40,20))\n",
    "mymap.drawcoastlines()\n",
    "\n",
    "ax[1].annotate('2014', xy=(0.02, 1.02), fontsize=12,xycoords='axes fraction')\n",
    "\n",
    "cax1 = fig.add_axes( [0.92, 0.3, 0.03, 0.4])\n",
    "cbar = plt.colorbar(im1,cax=cax1, orientation='vertical', extend='both', use_gridspec=True)\n",
    "cbar.set_label('Length of Season')\n",
    "\n",
    "\n"
   ]
  },
  {
   "cell_type": "markdown",
   "metadata": {},
   "source": [
    "<a id='Precipitation'></a>\n",
    "## Precipitation"
   ]
  },
  {
   "cell_type": "code",
   "execution_count": 212,
   "metadata": {
    "collapsed": false
   },
   "outputs": [
    {
     "data": {
      "text/plain": [
       "0.000    161454\n",
       "0.029        93\n",
       "0.026        87\n",
       "0.033        85\n",
       "0.019        85\n",
       "0.017        81\n",
       "0.034        80\n",
       "0.030        79\n",
       "0.028        78\n",
       "0.022        77\n",
       "Name: precipAccumulation, dtype: int64"
      ]
     },
     "execution_count": 212,
     "metadata": {},
     "output_type": "execute_result"
    }
   ],
   "source": [
    "df_2013['precipAccumulation'].value_counts().head(10)"
   ]
  },
  {
   "cell_type": "code",
   "execution_count": 211,
   "metadata": {
    "collapsed": false
   },
   "outputs": [
    {
     "data": {
      "text/plain": [
       "0.0000    124061\n",
       "0.0001      7344\n",
       "0.0002      4485\n",
       "0.0003      3124\n",
       "0.0004      2511\n",
       "0.0005      1962\n",
       "0.0006      1696\n",
       "0.0007      1442\n",
       "0.0008      1283\n",
       "0.0009      1176\n",
       "Name: precipIntensity, dtype: int64"
      ]
     },
     "execution_count": 211,
     "metadata": {},
     "output_type": "execute_result"
    }
   ],
   "source": [
    "df_2013['precipIntensity'].value_counts().head(10)"
   ]
  },
  {
   "cell_type": "markdown",
   "metadata": {},
   "source": [
    "On most days/locations it does not rain."
   ]
  },
  {
   "cell_type": "code",
   "execution_count": null,
   "metadata": {
    "collapsed": true
   },
   "outputs": [],
   "source": []
  },
  {
   "cell_type": "code",
   "execution_count": 190,
   "metadata": {
    "collapsed": false
   },
   "outputs": [],
   "source": [
    "# The 'precipAccumulation' column aggregates the total precipitation per day. Now, calculate \n",
    "# the total cumulative sum. \n",
    "df_2013['precipTotal'] = df_2013.groupby(by='Location')['precipAccumulation'].apply(lambda x: x.cumsum())"
   ]
  },
  {
   "cell_type": "code",
   "execution_count": 199,
   "metadata": {
    "collapsed": false
   },
   "outputs": [
    {
     "name": "stdout",
     "output_type": "stream",
     "text": [
      "(-118.69523719999999, 46.811685799999992)      9.982  9.982\n",
      "(-118.35210929999998, 46.929839100000002)     12.312 12.312\n",
      "(-118.5101603, 47.006888099999998)            13.750 13.750\n",
      "(-118.6996774, 47.162341900000001)            12.934 12.934\n",
      "(-118.43405590000002, 47.157511999999997)     16.644 16.644\n"
     ]
    }
   ],
   "source": [
    "# Test that this worked \n",
    "locations = df_2013['Location'].unique()\n",
    "for idx,loc in enumerate(locations):\n",
    "    if idx < 5:\n",
    "        tmp1 = df_2013['precipAccumulation'][df_2013['Location'] == loc].sum()\n",
    "        tmp2 = df_2013['precipTotal'][df_2013['Location'] == loc].max()\n",
    "        print('{:45} {:6.3f} {:6.3f}'.format(loc, tmp1, tmp2))\n"
   ]
  },
  {
   "cell_type": "markdown",
   "metadata": {},
   "source": [
    "Okay, that seem to have worked!"
   ]
  },
  {
   "cell_type": "code",
   "execution_count": 215,
   "metadata": {
    "collapsed": false
   },
   "outputs": [
    {
     "data": {
      "text/html": [
       "<div>\n",
       "<table border=\"1\" class=\"dataframe\">\n",
       "  <thead>\n",
       "    <tr style=\"text-align: right;\">\n",
       "      <th></th>\n",
       "      <th>Yield</th>\n",
       "      <th>precipTotal</th>\n",
       "    </tr>\n",
       "  </thead>\n",
       "  <tbody>\n",
       "    <tr>\n",
       "      <th>Yield</th>\n",
       "      <td>1.000000</td>\n",
       "      <td>0.098991</td>\n",
       "    </tr>\n",
       "    <tr>\n",
       "      <th>precipTotal</th>\n",
       "      <td>0.098991</td>\n",
       "      <td>1.000000</td>\n",
       "    </tr>\n",
       "  </tbody>\n",
       "</table>\n",
       "</div>"
      ],
      "text/plain": [
       "                Yield  precipTotal\n",
       "Yield        1.000000     0.098991\n",
       "precipTotal  0.098991     1.000000"
      ]
     },
     "execution_count": 215,
     "metadata": {},
     "output_type": "execute_result"
    }
   ],
   "source": [
    "df_2013.groupby(by='Location').agg({'precipTotal': np.max, 'Yield': np.max}).corr()"
   ]
  },
  {
   "cell_type": "markdown",
   "metadata": {},
   "source": [
    "The correlation between final yield and total amount of precipitation is not too great. But yield is a county average while precipTotal is for individual locations.\n",
    "\n",
    "Let's try this again on a county basis and averaging the total precipitation values."
   ]
  },
  {
   "cell_type": "code",
   "execution_count": 218,
   "metadata": {
    "collapsed": false
   },
   "outputs": [
    {
     "data": {
      "text/html": [
       "<div>\n",
       "<table border=\"1\" class=\"dataframe\">\n",
       "  <thead>\n",
       "    <tr style=\"text-align: right;\">\n",
       "      <th></th>\n",
       "      <th>Yield</th>\n",
       "      <th>precipTotal</th>\n",
       "    </tr>\n",
       "  </thead>\n",
       "  <tbody>\n",
       "    <tr>\n",
       "      <th>Yield</th>\n",
       "      <td>1.0000</td>\n",
       "      <td>0.1178</td>\n",
       "    </tr>\n",
       "    <tr>\n",
       "      <th>precipTotal</th>\n",
       "      <td>0.1178</td>\n",
       "      <td>1.0000</td>\n",
       "    </tr>\n",
       "  </tbody>\n",
       "</table>\n",
       "</div>"
      ],
      "text/plain": [
       "              Yield  precipTotal\n",
       "Yield        1.0000       0.1178\n",
       "precipTotal  0.1178       1.0000"
      ]
     },
     "execution_count": 218,
     "metadata": {},
     "output_type": "execute_result"
    }
   ],
   "source": [
    "df_2013.groupby(by='CountyName').agg({'precipTotal': np.mean, 'Yield': np.max}).corr()"
   ]
  },
  {
   "cell_type": "markdown",
   "metadata": {},
   "source": [
    "Now the correlation is a bit stronger, but still not great. Let's see how it looks:"
   ]
  },
  {
   "cell_type": "code",
   "execution_count": 221,
   "metadata": {
    "collapsed": false
   },
   "outputs": [
    {
     "data": {
      "text/plain": [
       "<matplotlib.collections.PathCollection at 0x117e9ce90>"
      ]
     },
     "execution_count": 221,
     "metadata": {},
     "output_type": "execute_result"
    },
    {
     "data": {
      "image/png": "[encoded data removed]",
      "text/plain": [
       "<matplotlib.figure.Figure at 0x1177fe410>"
      ]
     },
     "metadata": {},
     "output_type": "display_data"
    }
   ],
   "source": [
    "tmp = df_2013.groupby(by='CountyName').agg({'precipTotal': np.mean, 'Yield': np.max})\n",
    "x = tmp['precipTotal'].values\n",
    "y = tmp['Yield'].values\n",
    "\n",
    "plt.scatter(x,y)"
   ]
  },
  {
   "cell_type": "code",
   "execution_count": null,
   "metadata": {
    "collapsed": true
   },
   "outputs": [],
   "source": []
  },
  {
   "cell_type": "markdown",
   "metadata": {},
   "source": [
    "<a id='Temperature'></a>\n",
    "## Temperature"
   ]
  },
  {
   "cell_type": "markdown",
   "metadata": {},
   "source": [
    "Let's see if I can generate something akin to 'accumulated heat':"
   ]
  },
  {
   "cell_type": "code",
   "execution_count": 255,
   "metadata": {
    "collapsed": true
   },
   "outputs": [],
   "source": [
    "df_2013['temperatureDiff'] = df_2013['temperatureMax'] - df_2013['temperatureMin']\n",
    "df_2013['temperatureRatio'] = df_2013['temperatureMax'] / df_2013['temperatureMin']"
   ]
  },
  {
   "cell_type": "code",
   "execution_count": null,
   "metadata": {
    "collapsed": true
   },
   "outputs": [],
   "source": []
  },
  {
   "cell_type": "code",
   "execution_count": null,
   "metadata": {
    "collapsed": true
   },
   "outputs": [],
   "source": []
  },
  {
   "cell_type": "code",
   "execution_count": null,
   "metadata": {
    "collapsed": true
   },
   "outputs": [],
   "source": [
    "total amount of rain\n",
    "length of season\n",
    "temperature profile\n"
   ]
  },
  {
   "cell_type": "code",
   "execution_count": null,
   "metadata": {
    "collapsed": true
   },
   "outputs": [],
   "source": []
  },
  {
   "cell_type": "markdown",
   "metadata": {},
   "source": [
    "<a id='Time series'></a>\n",
    "## Time series"
   ]
  },
  {
   "cell_type": "markdown",
   "metadata": {},
   "source": [
    "In this step I will explore the variations of feature values over time for a rabdom location. This may help to identify additonal features that can be engineered."
   ]
  },
  {
   "cell_type": "code",
   "execution_count": null,
   "metadata": {
    "collapsed": true
   },
   "outputs": [],
   "source": []
  },
  {
   "cell_type": "code",
   "execution_count": 232,
   "metadata": {
    "collapsed": false
   },
   "outputs": [],
   "source": [
    "# Get a random location out of the location set that has the longest season data on record\n",
    "locations = (gb_agg_2013[gb_agg_2013['DayInSeason']['Length_of_Season'] == 185]\n",
    "             .index.get_level_values('Location').values)"
   ]
  },
  {
   "cell_type": "code",
   "execution_count": 239,
   "metadata": {
    "collapsed": false
   },
   "outputs": [],
   "source": [
    "# Set the seed for reproducability\n",
    "np.random.seed(seed=1234)\n",
    "# Randomly choose one entry from the locations subset\n",
    "idx = np.random.choice(len(locations),1)\n",
    "location = locations[idx][0]"
   ]
  },
  {
   "cell_type": "code",
   "execution_count": 240,
   "metadata": {
    "collapsed": false
   },
   "outputs": [
    {
     "name": "stdout",
     "output_type": "stream",
     "text": [
      "(-96.274679599999999, 33.745539299999997)\n"
     ]
    }
   ],
   "source": [
    "print(location)"
   ]
  },
  {
   "cell_type": "code",
   "execution_count": 242,
   "metadata": {
    "collapsed": false
   },
   "outputs": [
    {
     "name": "stdout",
     "output_type": "stream",
     "text": [
      "186\n",
      "186\n"
     ]
    }
   ],
   "source": [
    "dates = df_2013['Date'][df_2013['Location'] == location]\n",
    "dis = df_2013['DayInSeason'][df_2013['Location'] == location]\n",
    "print(len(dates.unique()))\n",
    "print(len(dis.unique()))"
   ]
  },
  {
   "cell_type": "code",
   "execution_count": 256,
   "metadata": {
    "collapsed": true
   },
   "outputs": [],
   "source": [
    "features_to_plot = ['temperatureMax','temperatureMin','temperatureDiff', 'temperatureRatio','NDVI',\n",
    "                    'Yield','precipIntensity','precipTotal']"
   ]
  },
  {
   "cell_type": "code",
   "execution_count": 258,
   "metadata": {
    "collapsed": false
   },
   "outputs": [
    {
     "data": {
      "image/png": "[encoded data removed]",
      "text/plain": [
       "<matplotlib.figure.Figure at 0x116985910>"
      ]
     },
     "metadata": {},
     "output_type": "display_data"
    }
   ],
   "source": [
    "n_plt = len(features_to_plot)\n",
    "fig, ax = plt.subplots(n_plt,1,figsize=(14, 20))\n",
    "\n",
    "for i in np.arange(n_plt):\n",
    "    y = df_2013[features_to_plot[i]][df_2013['Location'] == location]\n",
    "    ax[i].plot(dates,y)\n",
    "    ax[i].text(0.05, 0.9, features_to_plot[i],\n",
    "               verticalalignment='top', horizontalalignment='left',\n",
    "               transform=ax[i].transAxes,\n",
    "               color='black', fontsize=15,\n",
    "               bbox={'facecolor':'blue', 'alpha':0.25, 'pad':5})\n"
   ]
  },
  {
   "cell_type": "code",
   "execution_count": null,
   "metadata": {
    "collapsed": true
   },
   "outputs": [],
   "source": []
  },
  {
   "cell_type": "code",
   "execution_count": null,
   "metadata": {
    "collapsed": true
   },
   "outputs": [],
   "source": [
    "CountyName                  0\n",
    "State                       0\n",
    "Latitude                    0\n",
    "Longitude                   0\n",
    "Date                        0\n",
    "apparentTemperatureMax      0\n",
    "apparentTemperatureMin      0\n",
    "cloudCover                  0\n",
    "dewPoint                    0\n",
    "humidity                    0\n",
    "precipIntensity             0\n",
    "precipIntensityMax          0\n",
    "precipProbability           0\n",
    "precipAccumulation          0\n",
    "precipTypeIsRain            0\n",
    "precipTypeIsSnow            0\n",
    "precipTypeIsOther           0\n",
    "pressure                  351\n",
    "temperatureMax              0\n",
    "temperatureMin              0\n",
    "visibility                 16\n",
    "windBearing                 0\n",
    "windSpeed                   0\n",
    "NDVI                        0\n",
    "DayInSeason                 0\n",
    "Yield                       0\n",
    "dtype: int64"
   ]
  },
  {
   "cell_type": "code",
   "execution_count": null,
   "metadata": {
    "collapsed": true
   },
   "outputs": [],
   "source": []
  },
  {
   "cell_type": "code",
   "execution_count": null,
   "metadata": {
    "collapsed": true
   },
   "outputs": [],
   "source": []
  },
  {
   "cell_type": "code",
   "execution_count": null,
   "metadata": {
    "collapsed": true
   },
   "outputs": [],
   "source": []
  },
  {
   "cell_type": "code",
   "execution_count": null,
   "metadata": {
    "collapsed": true
   },
   "outputs": [],
   "source": []
  },
  {
   "cell_type": "code",
   "execution_count": null,
   "metadata": {
    "collapsed": true
   },
   "outputs": [],
   "source": []
  },
  {
   "cell_type": "code",
   "execution_count": null,
   "metadata": {
    "collapsed": true
   },
   "outputs": [],
   "source": []
  },
  {
   "cell_type": "code",
   "execution_count": null,
   "metadata": {
    "collapsed": true
   },
   "outputs": [],
   "source": []
  },
  {
   "cell_type": "code",
   "execution_count": null,
   "metadata": {
    "collapsed": true
   },
   "outputs": [],
   "source": []
  },
  {
   "cell_type": "code",
   "execution_count": null,
   "metadata": {
    "collapsed": true
   },
   "outputs": [],
   "source": []
  },
  {
   "cell_type": "markdown",
   "metadata": {},
   "source": [
    "<a id='Impute missing values'></a>\n",
    "## Impute missing values"
   ]
  },
  {
   "cell_type": "markdown",
   "metadata": {},
   "source": [
    "Because the data are collected in very different areas, a global average can not be used for the imputed value (which are weather data, i.e. local). For each 'NaN' I will get the prior and the next value (according to date) at the same location (according to Latitude and Longitude) and replace the 'NaN' with the average of the other two values."
   ]
  },
  {
   "cell_type": "code",
   "execution_count": 13,
   "metadata": {
    "collapsed": false
   },
   "outputs": [],
   "source": [
    "# Get df for all the NaN values\n",
    "df_nan = df_2014[df_2014['pressure'].isnull()]"
   ]
  },
  {
   "cell_type": "code",
   "execution_count": 14,
   "metadata": {
    "collapsed": false
   },
   "outputs": [],
   "source": [
    "# Go through each entry with 'NaN' in pressure (as an example) and find the bracketing (in time) measure at this location\n",
    "date_diff = []\n",
    "for i in range(len(df_nan)):\n",
    "    tmp_date = df_nan['Date'].iloc[i]\n",
    "    tmp_long = df_nan['Longitude'].iloc[i]\n",
    "    tmp_lat  = df_nan['Latitude'].iloc[i]\n",
    "    condition = ((df_2014['Longitude'] == tmp_long) & \n",
    "                 (df_2014['Latitude'] == tmp_lat) & \n",
    "                 (df_2014['Date'] > tmp_date)) \n",
    "    if len(df_2014['Date'][condition]) > 0:\n",
    "        date_diff.append(tmp_date-df_2014['Date'][condition].iloc[0])\n",
    "    # Same location, later dates\n",
    "    condition = ((df_2014['Longitude'] == tmp_long) & \n",
    "                 (df_2014['Latitude'] == tmp_lat) & \n",
    "                 (df_2014['Date'] < tmp_date)) \n",
    "    if len(df_2014['Date'][condition]) > 0:\n",
    "        date_diff.append(tmp_date-df_2014['Date'][condition].iloc[0])"
   ]
  },
  {
   "cell_type": "code",
   "execution_count": 21,
   "metadata": {
    "collapsed": false
   },
   "outputs": [
    {
     "name": "stdout",
     "output_type": "stream",
     "text": [
      "Min: 4 ; Max: 169 ; Mean : 48.9235993209\n"
     ]
    }
   ],
   "source": [
    "# Show min/max of the difference in days between the missing value and the next closest in time at the same location\n",
    "date_diff_float = [abs(x.days) for x in date_diff]\n",
    "print('Min: {} ; Max: {} ; Mean : {}'.format(min(date_diff_float),max(date_diff_float),np.mean(date_diff_float)))"
   ]
  },
  {
   "cell_type": "markdown",
   "metadata": {},
   "source": [
    "Dates seem to be too sparse to calculate a meaningful replacement value from measurements close in time. Instead use the measurements that are closest geographically and obtained on the same day."
   ]
  },
  {
   "cell_type": "markdown",
   "metadata": {},
   "source": [
    "I see missing values in the following fields:\n",
    "\n",
    "* 2013: precipIntensity, precipIntensityMax, precipProbability, pressure, visibility\n",
    "* 2014: pressure, visibility     "
   ]
  },
  {
   "cell_type": "code",
   "execution_count": 22,
   "metadata": {
    "collapsed": false
   },
   "outputs": [],
   "source": [
    "impute_with_nearest(df_2013, 'precipIntensity')\n",
    "impute_with_nearest(df_2013, 'precipIntensityMax')\n",
    "impute_with_nearest(df_2013, 'precipProbability')\n",
    "impute_with_nearest(df_2013, 'pressure')\n",
    "impute_with_nearest(df_2013, 'visibility')\n",
    "# #\n",
    "impute_with_nearest(df_2014, 'pressure')\n",
    "impute_with_nearest(df_2014, 'visibility')"
   ]
  },
  {
   "cell_type": "code",
   "execution_count": 23,
   "metadata": {
    "collapsed": false
   },
   "outputs": [
    {
     "name": "stdout",
     "output_type": "stream",
     "text": [
      "0\n",
      "0\n"
     ]
    }
   ],
   "source": [
    "# Check result\n",
    "print(df_2013.isnull().sum().sum())\n",
    "print(df_2014.isnull().sum().sum())"
   ]
  },
  {
   "cell_type": "markdown",
   "metadata": {},
   "source": [
    "### Done!"
   ]
  },
  {
   "cell_type": "markdown",
   "metadata": {},
   "source": [
    "<a id='Basic statistics'></a>\n",
    "## Basic statistics"
   ]
  },
  {
   "cell_type": "code",
   "execution_count": 24,
   "metadata": {
    "collapsed": false
   },
   "outputs": [
    {
     "data": {
      "text/html": [
       "<div>\n",
       "<table border=\"1\" class=\"dataframe\">\n",
       "  <thead>\n",
       "    <tr style=\"text-align: right;\">\n",
       "      <th></th>\n",
       "      <th>count</th>\n",
       "      <th>mean</th>\n",
       "      <th>std</th>\n",
       "      <th>min</th>\n",
       "      <th>25%</th>\n",
       "      <th>50%</th>\n",
       "      <th>75%</th>\n",
       "      <th>max</th>\n",
       "      <th>missing %</th>\n",
       "    </tr>\n",
       "  </thead>\n",
       "  <tbody>\n",
       "    <tr>\n",
       "      <th>Latitude</th>\n",
       "      <td>177493.0</td>\n",
       "      <td>37.525355</td>\n",
       "      <td>4.918148</td>\n",
       "      <td>27.803015</td>\n",
       "      <td>34.135464</td>\n",
       "      <td>36.810364</td>\n",
       "      <td>38.945878</td>\n",
       "      <td>48.981928</td>\n",
       "      <td>0.0</td>\n",
       "    </tr>\n",
       "    <tr>\n",
       "      <th>Longitude</th>\n",
       "      <td>177493.0</td>\n",
       "      <td>-100.877849</td>\n",
       "      <td>5.960510</td>\n",
       "      <td>-120.914093</td>\n",
       "      <td>-101.294945</td>\n",
       "      <td>-99.128028</td>\n",
       "      <td>-97.352044</td>\n",
       "      <td>-94.613571</td>\n",
       "      <td>0.0</td>\n",
       "    </tr>\n",
       "    <tr>\n",
       "      <th>apparentTemperatureMax</th>\n",
       "      <td>177493.0</td>\n",
       "      <td>54.836240</td>\n",
       "      <td>23.827278</td>\n",
       "      <td>-39.970000</td>\n",
       "      <td>37.830000</td>\n",
       "      <td>58.880000</td>\n",
       "      <td>73.100000</td>\n",
       "      <td>177.320000</td>\n",
       "      <td>0.0</td>\n",
       "    </tr>\n",
       "    <tr>\n",
       "      <th>apparentTemperatureMin</th>\n",
       "      <td>177493.0</td>\n",
       "      <td>27.915526</td>\n",
       "      <td>22.029381</td>\n",
       "      <td>-58.420000</td>\n",
       "      <td>14.310000</td>\n",
       "      <td>26.560000</td>\n",
       "      <td>42.200000</td>\n",
       "      <td>77.180000</td>\n",
       "      <td>0.0</td>\n",
       "    </tr>\n",
       "    <tr>\n",
       "      <th>cloudCover</th>\n",
       "      <td>177493.0</td>\n",
       "      <td>0.071478</td>\n",
       "      <td>0.138932</td>\n",
       "      <td>0.000000</td>\n",
       "      <td>0.000000</td>\n",
       "      <td>0.010000</td>\n",
       "      <td>0.090000</td>\n",
       "      <td>1.000000</td>\n",
       "      <td>0.0</td>\n",
       "    </tr>\n",
       "    <tr>\n",
       "      <th>dewPoint</th>\n",
       "      <td>177493.0</td>\n",
       "      <td>29.712311</td>\n",
       "      <td>16.687710</td>\n",
       "      <td>-36.090000</td>\n",
       "      <td>19.600000</td>\n",
       "      <td>27.850000</td>\n",
       "      <td>38.890000</td>\n",
       "      <td>75.180000</td>\n",
       "      <td>0.0</td>\n",
       "    </tr>\n",
       "    <tr>\n",
       "      <th>humidity</th>\n",
       "      <td>177493.0</td>\n",
       "      <td>0.593973</td>\n",
       "      <td>0.163590</td>\n",
       "      <td>0.080000</td>\n",
       "      <td>0.470000</td>\n",
       "      <td>0.600000</td>\n",
       "      <td>0.720000</td>\n",
       "      <td>1.000000</td>\n",
       "      <td>0.0</td>\n",
       "    </tr>\n",
       "    <tr>\n",
       "      <th>precipIntensity</th>\n",
       "      <td>177493.0</td>\n",
       "      <td>0.001158</td>\n",
       "      <td>0.004559</td>\n",
       "      <td>0.000000</td>\n",
       "      <td>0.000000</td>\n",
       "      <td>0.000000</td>\n",
       "      <td>0.000200</td>\n",
       "      <td>0.152900</td>\n",
       "      <td>0.0</td>\n",
       "    </tr>\n",
       "    <tr>\n",
       "      <th>precipIntensityMax</th>\n",
       "      <td>177493.0</td>\n",
       "      <td>0.010633</td>\n",
       "      <td>0.044782</td>\n",
       "      <td>0.000000</td>\n",
       "      <td>0.000000</td>\n",
       "      <td>0.000000</td>\n",
       "      <td>0.002800</td>\n",
       "      <td>2.054900</td>\n",
       "      <td>0.0</td>\n",
       "    </tr>\n",
       "    <tr>\n",
       "      <th>precipProbability</th>\n",
       "      <td>177493.0</td>\n",
       "      <td>0.133540</td>\n",
       "      <td>0.253415</td>\n",
       "      <td>0.000000</td>\n",
       "      <td>0.000000</td>\n",
       "      <td>0.000000</td>\n",
       "      <td>0.090000</td>\n",
       "      <td>0.960000</td>\n",
       "      <td>0.0</td>\n",
       "    </tr>\n",
       "    <tr>\n",
       "      <th>precipAccumulation</th>\n",
       "      <td>177493.0</td>\n",
       "      <td>0.057473</td>\n",
       "      <td>0.362080</td>\n",
       "      <td>0.000000</td>\n",
       "      <td>0.000000</td>\n",
       "      <td>0.000000</td>\n",
       "      <td>0.000000</td>\n",
       "      <td>19.487000</td>\n",
       "      <td>0.0</td>\n",
       "    </tr>\n",
       "    <tr>\n",
       "      <th>precipTypeIsRain</th>\n",
       "      <td>177493.0</td>\n",
       "      <td>0.210667</td>\n",
       "      <td>0.407784</td>\n",
       "      <td>0.000000</td>\n",
       "      <td>0.000000</td>\n",
       "      <td>0.000000</td>\n",
       "      <td>0.000000</td>\n",
       "      <td>1.000000</td>\n",
       "      <td>0.0</td>\n",
       "    </tr>\n",
       "    <tr>\n",
       "      <th>precipTypeIsSnow</th>\n",
       "      <td>177493.0</td>\n",
       "      <td>0.090370</td>\n",
       "      <td>0.286712</td>\n",
       "      <td>0.000000</td>\n",
       "      <td>0.000000</td>\n",
       "      <td>0.000000</td>\n",
       "      <td>0.000000</td>\n",
       "      <td>1.000000</td>\n",
       "      <td>0.0</td>\n",
       "    </tr>\n",
       "    <tr>\n",
       "      <th>precipTypeIsOther</th>\n",
       "      <td>177493.0</td>\n",
       "      <td>0.000000</td>\n",
       "      <td>0.000000</td>\n",
       "      <td>0.000000</td>\n",
       "      <td>0.000000</td>\n",
       "      <td>0.000000</td>\n",
       "      <td>0.000000</td>\n",
       "      <td>0.000000</td>\n",
       "      <td>0.0</td>\n",
       "    </tr>\n",
       "    <tr>\n",
       "      <th>pressure</th>\n",
       "      <td>177493.0</td>\n",
       "      <td>1017.075279</td>\n",
       "      <td>8.611562</td>\n",
       "      <td>942.490000</td>\n",
       "      <td>1011.230000</td>\n",
       "      <td>1016.690000</td>\n",
       "      <td>1022.910000</td>\n",
       "      <td>1048.130000</td>\n",
       "      <td>0.0</td>\n",
       "    </tr>\n",
       "    <tr>\n",
       "      <th>temperatureMax</th>\n",
       "      <td>177493.0</td>\n",
       "      <td>57.547801</td>\n",
       "      <td>20.755273</td>\n",
       "      <td>-22.000000</td>\n",
       "      <td>43.350000</td>\n",
       "      <td>58.880000</td>\n",
       "      <td>73.100000</td>\n",
       "      <td>105.200000</td>\n",
       "      <td>0.0</td>\n",
       "    </tr>\n",
       "    <tr>\n",
       "      <th>temperatureMin</th>\n",
       "      <td>177493.0</td>\n",
       "      <td>34.393113</td>\n",
       "      <td>17.801718</td>\n",
       "      <td>-39.790000</td>\n",
       "      <td>23.420000</td>\n",
       "      <td>33.250000</td>\n",
       "      <td>46.070000</td>\n",
       "      <td>77.180000</td>\n",
       "      <td>0.0</td>\n",
       "    </tr>\n",
       "    <tr>\n",
       "      <th>visibility</th>\n",
       "      <td>177493.0</td>\n",
       "      <td>9.285889</td>\n",
       "      <td>1.281698</td>\n",
       "      <td>0.600000</td>\n",
       "      <td>9.180000</td>\n",
       "      <td>9.890000</td>\n",
       "      <td>10.000000</td>\n",
       "      <td>10.000000</td>\n",
       "      <td>0.0</td>\n",
       "    </tr>\n",
       "    <tr>\n",
       "      <th>windBearing</th>\n",
       "      <td>177493.0</td>\n",
       "      <td>191.165483</td>\n",
       "      <td>104.103600</td>\n",
       "      <td>0.000000</td>\n",
       "      <td>127.000000</td>\n",
       "      <td>192.000000</td>\n",
       "      <td>275.000000</td>\n",
       "      <td>359.000000</td>\n",
       "      <td>0.0</td>\n",
       "    </tr>\n",
       "    <tr>\n",
       "      <th>windSpeed</th>\n",
       "      <td>177493.0</td>\n",
       "      <td>8.436830</td>\n",
       "      <td>4.767758</td>\n",
       "      <td>0.040000</td>\n",
       "      <td>4.760000</td>\n",
       "      <td>7.670000</td>\n",
       "      <td>11.530000</td>\n",
       "      <td>31.730000</td>\n",
       "      <td>0.0</td>\n",
       "    </tr>\n",
       "    <tr>\n",
       "      <th>NDVI</th>\n",
       "      <td>177493.0</td>\n",
       "      <td>146.346701</td>\n",
       "      <td>10.130267</td>\n",
       "      <td>117.000000</td>\n",
       "      <td>137.876236</td>\n",
       "      <td>147.225510</td>\n",
       "      <td>152.935913</td>\n",
       "      <td>206.000000</td>\n",
       "      <td>0.0</td>\n",
       "    </tr>\n",
       "    <tr>\n",
       "      <th>DayInSeason</th>\n",
       "      <td>177493.0</td>\n",
       "      <td>92.633084</td>\n",
       "      <td>53.608768</td>\n",
       "      <td>0.000000</td>\n",
       "      <td>46.000000</td>\n",
       "      <td>93.000000</td>\n",
       "      <td>139.000000</td>\n",
       "      <td>185.000000</td>\n",
       "      <td>0.0</td>\n",
       "    </tr>\n",
       "    <tr>\n",
       "      <th>Yield</th>\n",
       "      <td>177493.0</td>\n",
       "      <td>31.443024</td>\n",
       "      <td>15.214107</td>\n",
       "      <td>9.000000</td>\n",
       "      <td>17.300000</td>\n",
       "      <td>31.100000</td>\n",
       "      <td>43.100000</td>\n",
       "      <td>72.200000</td>\n",
       "      <td>0.0</td>\n",
       "    </tr>\n",
       "  </tbody>\n",
       "</table>\n",
       "</div>"
      ],
      "text/plain": [
       "                           count         mean         std         min  \\\n",
       "Latitude                177493.0    37.525355    4.918148   27.803015   \n",
       "Longitude               177493.0  -100.877849    5.960510 -120.914093   \n",
       "apparentTemperatureMax  177493.0    54.836240   23.827278  -39.970000   \n",
       "apparentTemperatureMin  177493.0    27.915526   22.029381  -58.420000   \n",
       "cloudCover              177493.0     0.071478    0.138932    0.000000   \n",
       "dewPoint                177493.0    29.712311   16.687710  -36.090000   \n",
       "humidity                177493.0     0.593973    0.163590    0.080000   \n",
       "precipIntensity         177493.0     0.001158    0.004559    0.000000   \n",
       "precipIntensityMax      177493.0     0.010633    0.044782    0.000000   \n",
       "precipProbability       177493.0     0.133540    0.253415    0.000000   \n",
       "precipAccumulation      177493.0     0.057473    0.362080    0.000000   \n",
       "precipTypeIsRain        177493.0     0.210667    0.407784    0.000000   \n",
       "precipTypeIsSnow        177493.0     0.090370    0.286712    0.000000   \n",
       "precipTypeIsOther       177493.0     0.000000    0.000000    0.000000   \n",
       "pressure                177493.0  1017.075279    8.611562  942.490000   \n",
       "temperatureMax          177493.0    57.547801   20.755273  -22.000000   \n",
       "temperatureMin          177493.0    34.393113   17.801718  -39.790000   \n",
       "visibility              177493.0     9.285889    1.281698    0.600000   \n",
       "windBearing             177493.0   191.165483  104.103600    0.000000   \n",
       "windSpeed               177493.0     8.436830    4.767758    0.040000   \n",
       "NDVI                    177493.0   146.346701   10.130267  117.000000   \n",
       "DayInSeason             177493.0    92.633084   53.608768    0.000000   \n",
       "Yield                   177493.0    31.443024   15.214107    9.000000   \n",
       "\n",
       "                                25%          50%          75%          max  \\\n",
       "Latitude                  34.135464    36.810364    38.945878    48.981928   \n",
       "Longitude               -101.294945   -99.128028   -97.352044   -94.613571   \n",
       "apparentTemperatureMax    37.830000    58.880000    73.100000   177.320000   \n",
       "apparentTemperatureMin    14.310000    26.560000    42.200000    77.180000   \n",
       "cloudCover                 0.000000     0.010000     0.090000     1.000000   \n",
       "dewPoint                  19.600000    27.850000    38.890000    75.180000   \n",
       "humidity                   0.470000     0.600000     0.720000     1.000000   \n",
       "precipIntensity            0.000000     0.000000     0.000200     0.152900   \n",
       "precipIntensityMax         0.000000     0.000000     0.002800     2.054900   \n",
       "precipProbability          0.000000     0.000000     0.090000     0.960000   \n",
       "precipAccumulation         0.000000     0.000000     0.000000    19.487000   \n",
       "precipTypeIsRain           0.000000     0.000000     0.000000     1.000000   \n",
       "precipTypeIsSnow           0.000000     0.000000     0.000000     1.000000   \n",
       "precipTypeIsOther          0.000000     0.000000     0.000000     0.000000   \n",
       "pressure                1011.230000  1016.690000  1022.910000  1048.130000   \n",
       "temperatureMax            43.350000    58.880000    73.100000   105.200000   \n",
       "temperatureMin            23.420000    33.250000    46.070000    77.180000   \n",
       "visibility                 9.180000     9.890000    10.000000    10.000000   \n",
       "windBearing              127.000000   192.000000   275.000000   359.000000   \n",
       "windSpeed                  4.760000     7.670000    11.530000    31.730000   \n",
       "NDVI                     137.876236   147.225510   152.935913   206.000000   \n",
       "DayInSeason               46.000000    93.000000   139.000000   185.000000   \n",
       "Yield                     17.300000    31.100000    43.100000    72.200000   \n",
       "\n",
       "                        missing %  \n",
       "Latitude                      0.0  \n",
       "Longitude                     0.0  \n",
       "apparentTemperatureMax        0.0  \n",
       "apparentTemperatureMin        0.0  \n",
       "cloudCover                    0.0  \n",
       "dewPoint                      0.0  \n",
       "humidity                      0.0  \n",
       "precipIntensity               0.0  \n",
       "precipIntensityMax            0.0  \n",
       "precipProbability             0.0  \n",
       "precipAccumulation            0.0  \n",
       "precipTypeIsRain              0.0  \n",
       "precipTypeIsSnow              0.0  \n",
       "precipTypeIsOther             0.0  \n",
       "pressure                      0.0  \n",
       "temperatureMax                0.0  \n",
       "temperatureMin                0.0  \n",
       "visibility                    0.0  \n",
       "windBearing                   0.0  \n",
       "windSpeed                     0.0  \n",
       "NDVI                          0.0  \n",
       "DayInSeason                   0.0  \n",
       "Yield                         0.0  "
      ]
     },
     "execution_count": 24,
     "metadata": {},
     "output_type": "execute_result"
    }
   ],
   "source": [
    "X = df_2013.describe().T\n",
    "X['missing %'] = 1 - (X['count'] / len(df_2013))\n",
    "X"
   ]
  },
  {
   "cell_type": "code",
   "execution_count": 25,
   "metadata": {
    "collapsed": false
   },
   "outputs": [
    {
     "data": {
      "text/html": [
       "<div>\n",
       "<table border=\"1\" class=\"dataframe\">\n",
       "  <thead>\n",
       "    <tr style=\"text-align: right;\">\n",
       "      <th></th>\n",
       "      <th>count</th>\n",
       "      <th>mean</th>\n",
       "      <th>std</th>\n",
       "      <th>min</th>\n",
       "      <th>25%</th>\n",
       "      <th>50%</th>\n",
       "      <th>75%</th>\n",
       "      <th>max</th>\n",
       "      <th>missing %</th>\n",
       "    </tr>\n",
       "  </thead>\n",
       "  <tbody>\n",
       "    <tr>\n",
       "      <th>Latitude</th>\n",
       "      <td>182549.0</td>\n",
       "      <td>36.976937</td>\n",
       "      <td>4.926798</td>\n",
       "      <td>27.363741</td>\n",
       "      <td>33.598030</td>\n",
       "      <td>36.164529</td>\n",
       "      <td>38.451645</td>\n",
       "      <td>48.981928</td>\n",
       "      <td>0.0</td>\n",
       "    </tr>\n",
       "    <tr>\n",
       "      <th>Longitude</th>\n",
       "      <td>182549.0</td>\n",
       "      <td>-100.547088</td>\n",
       "      <td>5.587446</td>\n",
       "      <td>-120.914093</td>\n",
       "      <td>-101.174610</td>\n",
       "      <td>-99.068063</td>\n",
       "      <td>-97.270576</td>\n",
       "      <td>-94.164602</td>\n",
       "      <td>0.0</td>\n",
       "    </tr>\n",
       "    <tr>\n",
       "      <th>apparentTemperatureMax</th>\n",
       "      <td>182549.0</td>\n",
       "      <td>57.146379</td>\n",
       "      <td>20.217840</td>\n",
       "      <td>-24.340000</td>\n",
       "      <td>41.390000</td>\n",
       "      <td>61.460000</td>\n",
       "      <td>72.990000</td>\n",
       "      <td>103.910000</td>\n",
       "      <td>0.0</td>\n",
       "    </tr>\n",
       "    <tr>\n",
       "      <th>apparentTemperatureMin</th>\n",
       "      <td>182549.0</td>\n",
       "      <td>33.669343</td>\n",
       "      <td>19.649074</td>\n",
       "      <td>-43.250000</td>\n",
       "      <td>20.890000</td>\n",
       "      <td>33.310000</td>\n",
       "      <td>50.630000</td>\n",
       "      <td>79.560000</td>\n",
       "      <td>0.0</td>\n",
       "    </tr>\n",
       "    <tr>\n",
       "      <th>cloudCover</th>\n",
       "      <td>182549.0</td>\n",
       "      <td>0.131278</td>\n",
       "      <td>0.170087</td>\n",
       "      <td>0.000000</td>\n",
       "      <td>0.010000</td>\n",
       "      <td>0.080000</td>\n",
       "      <td>0.180000</td>\n",
       "      <td>1.000000</td>\n",
       "      <td>0.0</td>\n",
       "    </tr>\n",
       "    <tr>\n",
       "      <th>dewPoint</th>\n",
       "      <td>182549.0</td>\n",
       "      <td>36.664752</td>\n",
       "      <td>16.202934</td>\n",
       "      <td>-21.950000</td>\n",
       "      <td>25.740000</td>\n",
       "      <td>35.130000</td>\n",
       "      <td>48.840000</td>\n",
       "      <td>78.350000</td>\n",
       "      <td>0.0</td>\n",
       "    </tr>\n",
       "    <tr>\n",
       "      <th>humidity</th>\n",
       "      <td>182549.0</td>\n",
       "      <td>0.680338</td>\n",
       "      <td>0.150459</td>\n",
       "      <td>0.140000</td>\n",
       "      <td>0.570000</td>\n",
       "      <td>0.680000</td>\n",
       "      <td>0.800000</td>\n",
       "      <td>1.000000</td>\n",
       "      <td>0.0</td>\n",
       "    </tr>\n",
       "    <tr>\n",
       "      <th>precipIntensity</th>\n",
       "      <td>182549.0</td>\n",
       "      <td>0.002501</td>\n",
       "      <td>0.007232</td>\n",
       "      <td>0.000000</td>\n",
       "      <td>0.000000</td>\n",
       "      <td>0.000000</td>\n",
       "      <td>0.001000</td>\n",
       "      <td>0.255800</td>\n",
       "      <td>0.0</td>\n",
       "    </tr>\n",
       "    <tr>\n",
       "      <th>precipIntensityMax</th>\n",
       "      <td>182549.0</td>\n",
       "      <td>0.021390</td>\n",
       "      <td>0.071354</td>\n",
       "      <td>0.000000</td>\n",
       "      <td>0.000000</td>\n",
       "      <td>0.000000</td>\n",
       "      <td>0.010100</td>\n",
       "      <td>3.367400</td>\n",
       "      <td>0.0</td>\n",
       "    </tr>\n",
       "    <tr>\n",
       "      <th>precipProbability</th>\n",
       "      <td>182549.0</td>\n",
       "      <td>0.205662</td>\n",
       "      <td>0.307787</td>\n",
       "      <td>0.000000</td>\n",
       "      <td>0.000000</td>\n",
       "      <td>0.000000</td>\n",
       "      <td>0.510000</td>\n",
       "      <td>0.970000</td>\n",
       "      <td>0.0</td>\n",
       "    </tr>\n",
       "    <tr>\n",
       "      <th>precipAccumulation</th>\n",
       "      <td>182549.0</td>\n",
       "      <td>0.028738</td>\n",
       "      <td>0.207037</td>\n",
       "      <td>0.000000</td>\n",
       "      <td>0.000000</td>\n",
       "      <td>0.000000</td>\n",
       "      <td>0.000000</td>\n",
       "      <td>17.063000</td>\n",
       "      <td>0.0</td>\n",
       "    </tr>\n",
       "    <tr>\n",
       "      <th>precipTypeIsRain</th>\n",
       "      <td>182549.0</td>\n",
       "      <td>0.336364</td>\n",
       "      <td>0.472467</td>\n",
       "      <td>0.000000</td>\n",
       "      <td>0.000000</td>\n",
       "      <td>0.000000</td>\n",
       "      <td>1.000000</td>\n",
       "      <td>1.000000</td>\n",
       "      <td>0.0</td>\n",
       "    </tr>\n",
       "    <tr>\n",
       "      <th>precipTypeIsSnow</th>\n",
       "      <td>182549.0</td>\n",
       "      <td>0.062537</td>\n",
       "      <td>0.242128</td>\n",
       "      <td>0.000000</td>\n",
       "      <td>0.000000</td>\n",
       "      <td>0.000000</td>\n",
       "      <td>0.000000</td>\n",
       "      <td>1.000000</td>\n",
       "      <td>0.0</td>\n",
       "    </tr>\n",
       "    <tr>\n",
       "      <th>precipTypeIsOther</th>\n",
       "      <td>182549.0</td>\n",
       "      <td>0.000000</td>\n",
       "      <td>0.000000</td>\n",
       "      <td>0.000000</td>\n",
       "      <td>0.000000</td>\n",
       "      <td>0.000000</td>\n",
       "      <td>0.000000</td>\n",
       "      <td>0.000000</td>\n",
       "      <td>0.0</td>\n",
       "    </tr>\n",
       "    <tr>\n",
       "      <th>pressure</th>\n",
       "      <td>182549.0</td>\n",
       "      <td>1018.782445</td>\n",
       "      <td>7.751215</td>\n",
       "      <td>945.090000</td>\n",
       "      <td>1013.190000</td>\n",
       "      <td>1018.300000</td>\n",
       "      <td>1023.750000</td>\n",
       "      <td>1049.530000</td>\n",
       "      <td>0.0</td>\n",
       "    </tr>\n",
       "    <tr>\n",
       "      <th>temperatureMax</th>\n",
       "      <td>182549.0</td>\n",
       "      <td>58.989567</td>\n",
       "      <td>17.404119</td>\n",
       "      <td>-5.570000</td>\n",
       "      <td>45.850000</td>\n",
       "      <td>61.460000</td>\n",
       "      <td>72.990000</td>\n",
       "      <td>95.580000</td>\n",
       "      <td>0.0</td>\n",
       "    </tr>\n",
       "    <tr>\n",
       "      <th>temperatureMin</th>\n",
       "      <td>182549.0</td>\n",
       "      <td>38.757876</td>\n",
       "      <td>15.739407</td>\n",
       "      <td>-24.960000</td>\n",
       "      <td>28.390000</td>\n",
       "      <td>38.510000</td>\n",
       "      <td>50.630000</td>\n",
       "      <td>79.560000</td>\n",
       "      <td>0.0</td>\n",
       "    </tr>\n",
       "    <tr>\n",
       "      <th>visibility</th>\n",
       "      <td>182549.0</td>\n",
       "      <td>9.042096</td>\n",
       "      <td>1.473604</td>\n",
       "      <td>0.460000</td>\n",
       "      <td>8.690000</td>\n",
       "      <td>9.750000</td>\n",
       "      <td>9.990000</td>\n",
       "      <td>10.000000</td>\n",
       "      <td>0.0</td>\n",
       "    </tr>\n",
       "    <tr>\n",
       "      <th>windBearing</th>\n",
       "      <td>182549.0</td>\n",
       "      <td>171.727963</td>\n",
       "      <td>102.727345</td>\n",
       "      <td>0.000000</td>\n",
       "      <td>89.000000</td>\n",
       "      <td>171.000000</td>\n",
       "      <td>246.000000</td>\n",
       "      <td>359.000000</td>\n",
       "      <td>0.0</td>\n",
       "    </tr>\n",
       "    <tr>\n",
       "      <th>windSpeed</th>\n",
       "      <td>182549.0</td>\n",
       "      <td>7.595578</td>\n",
       "      <td>4.072584</td>\n",
       "      <td>0.020000</td>\n",
       "      <td>4.490000</td>\n",
       "      <td>7.090000</td>\n",
       "      <td>10.150000</td>\n",
       "      <td>30.460000</td>\n",
       "      <td>0.0</td>\n",
       "    </tr>\n",
       "    <tr>\n",
       "      <th>NDVI</th>\n",
       "      <td>182549.0</td>\n",
       "      <td>145.885753</td>\n",
       "      <td>10.335488</td>\n",
       "      <td>101.000000</td>\n",
       "      <td>136.480255</td>\n",
       "      <td>146.507538</td>\n",
       "      <td>153.231476</td>\n",
       "      <td>208.000000</td>\n",
       "      <td>0.0</td>\n",
       "    </tr>\n",
       "    <tr>\n",
       "      <th>DayInSeason</th>\n",
       "      <td>182549.0</td>\n",
       "      <td>92.652860</td>\n",
       "      <td>53.633300</td>\n",
       "      <td>0.000000</td>\n",
       "      <td>46.000000</td>\n",
       "      <td>93.000000</td>\n",
       "      <td>139.000000</td>\n",
       "      <td>185.000000</td>\n",
       "      <td>0.0</td>\n",
       "    </tr>\n",
       "    <tr>\n",
       "      <th>Yield</th>\n",
       "      <td>182549.0</td>\n",
       "      <td>33.836357</td>\n",
       "      <td>10.630116</td>\n",
       "      <td>12.900000</td>\n",
       "      <td>25.700000</td>\n",
       "      <td>32.900000</td>\n",
       "      <td>41.500000</td>\n",
       "      <td>78.000000</td>\n",
       "      <td>0.0</td>\n",
       "    </tr>\n",
       "  </tbody>\n",
       "</table>\n",
       "</div>"
      ],
      "text/plain": [
       "                           count         mean         std         min  \\\n",
       "Latitude                182549.0    36.976937    4.926798   27.363741   \n",
       "Longitude               182549.0  -100.547088    5.587446 -120.914093   \n",
       "apparentTemperatureMax  182549.0    57.146379   20.217840  -24.340000   \n",
       "apparentTemperatureMin  182549.0    33.669343   19.649074  -43.250000   \n",
       "cloudCover              182549.0     0.131278    0.170087    0.000000   \n",
       "dewPoint                182549.0    36.664752   16.202934  -21.950000   \n",
       "humidity                182549.0     0.680338    0.150459    0.140000   \n",
       "precipIntensity         182549.0     0.002501    0.007232    0.000000   \n",
       "precipIntensityMax      182549.0     0.021390    0.071354    0.000000   \n",
       "precipProbability       182549.0     0.205662    0.307787    0.000000   \n",
       "precipAccumulation      182549.0     0.028738    0.207037    0.000000   \n",
       "precipTypeIsRain        182549.0     0.336364    0.472467    0.000000   \n",
       "precipTypeIsSnow        182549.0     0.062537    0.242128    0.000000   \n",
       "precipTypeIsOther       182549.0     0.000000    0.000000    0.000000   \n",
       "pressure                182549.0  1018.782445    7.751215  945.090000   \n",
       "temperatureMax          182549.0    58.989567   17.404119   -5.570000   \n",
       "temperatureMin          182549.0    38.757876   15.739407  -24.960000   \n",
       "visibility              182549.0     9.042096    1.473604    0.460000   \n",
       "windBearing             182549.0   171.727963  102.727345    0.000000   \n",
       "windSpeed               182549.0     7.595578    4.072584    0.020000   \n",
       "NDVI                    182549.0   145.885753   10.335488  101.000000   \n",
       "DayInSeason             182549.0    92.652860   53.633300    0.000000   \n",
       "Yield                   182549.0    33.836357   10.630116   12.900000   \n",
       "\n",
       "                                25%          50%          75%          max  \\\n",
       "Latitude                  33.598030    36.164529    38.451645    48.981928   \n",
       "Longitude               -101.174610   -99.068063   -97.270576   -94.164602   \n",
       "apparentTemperatureMax    41.390000    61.460000    72.990000   103.910000   \n",
       "apparentTemperatureMin    20.890000    33.310000    50.630000    79.560000   \n",
       "cloudCover                 0.010000     0.080000     0.180000     1.000000   \n",
       "dewPoint                  25.740000    35.130000    48.840000    78.350000   \n",
       "humidity                   0.570000     0.680000     0.800000     1.000000   \n",
       "precipIntensity            0.000000     0.000000     0.001000     0.255800   \n",
       "precipIntensityMax         0.000000     0.000000     0.010100     3.367400   \n",
       "precipProbability          0.000000     0.000000     0.510000     0.970000   \n",
       "precipAccumulation         0.000000     0.000000     0.000000    17.063000   \n",
       "precipTypeIsRain           0.000000     0.000000     1.000000     1.000000   \n",
       "precipTypeIsSnow           0.000000     0.000000     0.000000     1.000000   \n",
       "precipTypeIsOther          0.000000     0.000000     0.000000     0.000000   \n",
       "pressure                1013.190000  1018.300000  1023.750000  1049.530000   \n",
       "temperatureMax            45.850000    61.460000    72.990000    95.580000   \n",
       "temperatureMin            28.390000    38.510000    50.630000    79.560000   \n",
       "visibility                 8.690000     9.750000     9.990000    10.000000   \n",
       "windBearing               89.000000   171.000000   246.000000   359.000000   \n",
       "windSpeed                  4.490000     7.090000    10.150000    30.460000   \n",
       "NDVI                     136.480255   146.507538   153.231476   208.000000   \n",
       "DayInSeason               46.000000    93.000000   139.000000   185.000000   \n",
       "Yield                     25.700000    32.900000    41.500000    78.000000   \n",
       "\n",
       "                        missing %  \n",
       "Latitude                      0.0  \n",
       "Longitude                     0.0  \n",
       "apparentTemperatureMax        0.0  \n",
       "apparentTemperatureMin        0.0  \n",
       "cloudCover                    0.0  \n",
       "dewPoint                      0.0  \n",
       "humidity                      0.0  \n",
       "precipIntensity               0.0  \n",
       "precipIntensityMax            0.0  \n",
       "precipProbability             0.0  \n",
       "precipAccumulation            0.0  \n",
       "precipTypeIsRain              0.0  \n",
       "precipTypeIsSnow              0.0  \n",
       "precipTypeIsOther             0.0  \n",
       "pressure                      0.0  \n",
       "temperatureMax                0.0  \n",
       "temperatureMin                0.0  \n",
       "visibility                    0.0  \n",
       "windBearing                   0.0  \n",
       "windSpeed                     0.0  \n",
       "NDVI                          0.0  \n",
       "DayInSeason                   0.0  \n",
       "Yield                         0.0  "
      ]
     },
     "execution_count": 25,
     "metadata": {},
     "output_type": "execute_result"
    }
   ],
   "source": [
    "X = df_2014.describe().T\n",
    "X['missing %'] = 1 - (X['count'] / len(df_2014))\n",
    "X"
   ]
  },
  {
   "cell_type": "markdown",
   "metadata": {},
   "source": [
    "For both years, the (binary) column 'precipTypeIsOther' is always zero (zero std and zero min/max). This feature can be safely dropped as it holds no predictive power."
   ]
  },
  {
   "cell_type": "markdown",
   "metadata": {},
   "source": [
    "<a id='Correlations'></a>\n",
    "## Correlations"
   ]
  },
  {
   "cell_type": "markdown",
   "metadata": {},
   "source": [
    "Pairwise correlations between different features can help to eliminate features from modeling. Adding highly correlated features can dilute the predictive power of the model. "
   ]
  },
  {
   "cell_type": "code",
   "execution_count": 26,
   "metadata": {
    "collapsed": false,
    "scrolled": true
   },
   "outputs": [],
   "source": [
    "# Find all column pairs with correlation coefficients above a certain threshold\n",
    "X = df_2013.corr()\n",
    "limit = 0.65\n",
    "index = X.index.tolist()\n",
    "n = len(index)\n",
    "newDF = pd.DataFrame(columns=['col1','col2','corr','corr col1 with target', 'corr col2 with target'])\n",
    "pos = 0\n",
    "for nidx,idx in enumerate(index):\n",
    "    for k in range(n):\n",
    "        if (k > nidx):\n",
    "            value = X[idx].iloc[k]\n",
    "        else:\n",
    "            value = 0.0\n",
    "        if value >= limit:\n",
    "            corr_col1 = X['Yield'].loc[idx]\n",
    "            corr_col2 = X['Yield'].loc[index[k]]\n",
    "            newDF.loc[pos] = [idx, index[k] , value, corr_col1, corr_col2]\n",
    "            pos += 1\n"
   ]
  },
  {
   "cell_type": "code",
   "execution_count": 27,
   "metadata": {
    "collapsed": false
   },
   "outputs": [
    {
     "data": {
      "text/html": [
       "<div>\n",
       "<table border=\"1\" class=\"dataframe\">\n",
       "  <thead>\n",
       "    <tr style=\"text-align: right;\">\n",
       "      <th></th>\n",
       "      <th>col1</th>\n",
       "      <th>col2</th>\n",
       "      <th>corr</th>\n",
       "      <th>corr col1 with target</th>\n",
       "      <th>corr col2 with target</th>\n",
       "    </tr>\n",
       "  </thead>\n",
       "  <tbody>\n",
       "    <tr>\n",
       "      <th>7</th>\n",
       "      <td>apparentTemperatureMin</td>\n",
       "      <td>temperatureMin</td>\n",
       "      <td>0.992737</td>\n",
       "      <td>-0.049998</td>\n",
       "      <td>-0.060512</td>\n",
       "    </tr>\n",
       "    <tr>\n",
       "      <th>2</th>\n",
       "      <td>apparentTemperatureMax</td>\n",
       "      <td>temperatureMax</td>\n",
       "      <td>0.991843</td>\n",
       "      <td>-0.140315</td>\n",
       "      <td>-0.152702</td>\n",
       "    </tr>\n",
       "    <tr>\n",
       "      <th>12</th>\n",
       "      <td>precipIntensity</td>\n",
       "      <td>precipIntensityMax</td>\n",
       "      <td>0.912594</td>\n",
       "      <td>0.046476</td>\n",
       "      <td>0.030030</td>\n",
       "    </tr>\n",
       "    <tr>\n",
       "      <th>11</th>\n",
       "      <td>dewPoint</td>\n",
       "      <td>temperatureMin</td>\n",
       "      <td>0.910333</td>\n",
       "      <td>0.011607</td>\n",
       "      <td>-0.060512</td>\n",
       "    </tr>\n",
       "    <tr>\n",
       "      <th>5</th>\n",
       "      <td>apparentTemperatureMin</td>\n",
       "      <td>dewPoint</td>\n",
       "      <td>0.909563</td>\n",
       "      <td>-0.049998</td>\n",
       "      <td>0.011607</td>\n",
       "    </tr>\n",
       "    <tr>\n",
       "      <th>6</th>\n",
       "      <td>apparentTemperatureMin</td>\n",
       "      <td>temperatureMax</td>\n",
       "      <td>0.893452</td>\n",
       "      <td>-0.049998</td>\n",
       "      <td>-0.152702</td>\n",
       "    </tr>\n",
       "    <tr>\n",
       "      <th>0</th>\n",
       "      <td>apparentTemperatureMax</td>\n",
       "      <td>apparentTemperatureMin</td>\n",
       "      <td>0.888862</td>\n",
       "      <td>-0.140315</td>\n",
       "      <td>-0.049998</td>\n",
       "    </tr>\n",
       "    <tr>\n",
       "      <th>14</th>\n",
       "      <td>temperatureMax</td>\n",
       "      <td>temperatureMin</td>\n",
       "      <td>0.886946</td>\n",
       "      <td>-0.152702</td>\n",
       "      <td>-0.060512</td>\n",
       "    </tr>\n",
       "    <tr>\n",
       "      <th>3</th>\n",
       "      <td>apparentTemperatureMax</td>\n",
       "      <td>temperatureMin</td>\n",
       "      <td>0.880383</td>\n",
       "      <td>-0.140315</td>\n",
       "      <td>-0.060512</td>\n",
       "    </tr>\n",
       "    <tr>\n",
       "      <th>1</th>\n",
       "      <td>apparentTemperatureMax</td>\n",
       "      <td>dewPoint</td>\n",
       "      <td>0.796342</td>\n",
       "      <td>-0.140315</td>\n",
       "      <td>0.011607</td>\n",
       "    </tr>\n",
       "    <tr>\n",
       "      <th>10</th>\n",
       "      <td>dewPoint</td>\n",
       "      <td>temperatureMax</td>\n",
       "      <td>0.792366</td>\n",
       "      <td>0.011607</td>\n",
       "      <td>-0.152702</td>\n",
       "    </tr>\n",
       "    <tr>\n",
       "      <th>15</th>\n",
       "      <td>temperatureMax</td>\n",
       "      <td>NDVI</td>\n",
       "      <td>0.784945</td>\n",
       "      <td>-0.152702</td>\n",
       "      <td>-0.170673</td>\n",
       "    </tr>\n",
       "    <tr>\n",
       "      <th>4</th>\n",
       "      <td>apparentTemperatureMax</td>\n",
       "      <td>NDVI</td>\n",
       "      <td>0.784701</td>\n",
       "      <td>-0.140315</td>\n",
       "      <td>-0.170673</td>\n",
       "    </tr>\n",
       "    <tr>\n",
       "      <th>13</th>\n",
       "      <td>precipProbability</td>\n",
       "      <td>precipTypeIsRain</td>\n",
       "      <td>0.709446</td>\n",
       "      <td>0.111940</td>\n",
       "      <td>0.108773</td>\n",
       "    </tr>\n",
       "    <tr>\n",
       "      <th>8</th>\n",
       "      <td>apparentTemperatureMin</td>\n",
       "      <td>NDVI</td>\n",
       "      <td>0.684965</td>\n",
       "      <td>-0.049998</td>\n",
       "      <td>-0.170673</td>\n",
       "    </tr>\n",
       "    <tr>\n",
       "      <th>17</th>\n",
       "      <td>temperatureMin</td>\n",
       "      <td>DayInSeason</td>\n",
       "      <td>0.684064</td>\n",
       "      <td>-0.060512</td>\n",
       "      <td>-0.001171</td>\n",
       "    </tr>\n",
       "    <tr>\n",
       "      <th>9</th>\n",
       "      <td>apparentTemperatureMin</td>\n",
       "      <td>DayInSeason</td>\n",
       "      <td>0.678918</td>\n",
       "      <td>-0.049998</td>\n",
       "      <td>-0.001171</td>\n",
       "    </tr>\n",
       "    <tr>\n",
       "      <th>16</th>\n",
       "      <td>temperatureMin</td>\n",
       "      <td>NDVI</td>\n",
       "      <td>0.674792</td>\n",
       "      <td>-0.060512</td>\n",
       "      <td>-0.170673</td>\n",
       "    </tr>\n",
       "  </tbody>\n",
       "</table>\n",
       "</div>"
      ],
      "text/plain": [
       "                      col1                    col2      corr  \\\n",
       "7   apparentTemperatureMin          temperatureMin  0.992737   \n",
       "2   apparentTemperatureMax          temperatureMax  0.991843   \n",
       "12         precipIntensity      precipIntensityMax  0.912594   \n",
       "11                dewPoint          temperatureMin  0.910333   \n",
       "5   apparentTemperatureMin                dewPoint  0.909563   \n",
       "6   apparentTemperatureMin          temperatureMax  0.893452   \n",
       "0   apparentTemperatureMax  apparentTemperatureMin  0.888862   \n",
       "14          temperatureMax          temperatureMin  0.886946   \n",
       "3   apparentTemperatureMax          temperatureMin  0.880383   \n",
       "1   apparentTemperatureMax                dewPoint  0.796342   \n",
       "10                dewPoint          temperatureMax  0.792366   \n",
       "15          temperatureMax                    NDVI  0.784945   \n",
       "4   apparentTemperatureMax                    NDVI  0.784701   \n",
       "13       precipProbability        precipTypeIsRain  0.709446   \n",
       "8   apparentTemperatureMin                    NDVI  0.684965   \n",
       "17          temperatureMin             DayInSeason  0.684064   \n",
       "9   apparentTemperatureMin             DayInSeason  0.678918   \n",
       "16          temperatureMin                    NDVI  0.674792   \n",
       "\n",
       "    corr col1 with target  corr col2 with target  \n",
       "7               -0.049998              -0.060512  \n",
       "2               -0.140315              -0.152702  \n",
       "12               0.046476               0.030030  \n",
       "11               0.011607              -0.060512  \n",
       "5               -0.049998               0.011607  \n",
       "6               -0.049998              -0.152702  \n",
       "0               -0.140315              -0.049998  \n",
       "14              -0.152702              -0.060512  \n",
       "3               -0.140315              -0.060512  \n",
       "1               -0.140315               0.011607  \n",
       "10               0.011607              -0.152702  \n",
       "15              -0.152702              -0.170673  \n",
       "4               -0.140315              -0.170673  \n",
       "13               0.111940               0.108773  \n",
       "8               -0.049998              -0.170673  \n",
       "17              -0.060512              -0.001171  \n",
       "9               -0.049998              -0.001171  \n",
       "16              -0.060512              -0.170673  "
      ]
     },
     "execution_count": 27,
     "metadata": {},
     "output_type": "execute_result"
    }
   ],
   "source": [
    "newDF.sort_values(by='corr', ascending=False)"
   ]
  },
  {
   "cell_type": "code",
   "execution_count": 28,
   "metadata": {
    "collapsed": true
   },
   "outputs": [],
   "source": [
    "# Find all column pairs with correlation coefficients above a certain threshold\n",
    "X = df_2014.corr()\n",
    "limit = 0.65\n",
    "index = X.index.tolist()\n",
    "n = len(index)\n",
    "newDF = pd.DataFrame(columns=['col1','col2','corr','corr col1 with target', 'corr col2 with target'])\n",
    "pos = 0\n",
    "for nidx,idx in enumerate(index):\n",
    "    for k in range(n):\n",
    "        if (k > nidx):\n",
    "            value = X[idx].iloc[k]\n",
    "        else:\n",
    "            value = 0.0\n",
    "        if value >= limit:\n",
    "            corr_col1 = X['Yield'].loc[idx]\n",
    "            corr_col2 = X['Yield'].loc[index[k]]\n",
    "            newDF.loc[pos] = [idx, index[k] , value, corr_col1, corr_col2]\n",
    "            pos += 1\n"
   ]
  },
  {
   "cell_type": "code",
   "execution_count": 29,
   "metadata": {
    "collapsed": false
   },
   "outputs": [
    {
     "data": {
      "text/html": [
       "<div>\n",
       "<table border=\"1\" class=\"dataframe\">\n",
       "  <thead>\n",
       "    <tr style=\"text-align: right;\">\n",
       "      <th></th>\n",
       "      <th>col1</th>\n",
       "      <th>col2</th>\n",
       "      <th>corr</th>\n",
       "      <th>corr col1 with target</th>\n",
       "      <th>corr col2 with target</th>\n",
       "    </tr>\n",
       "  </thead>\n",
       "  <tbody>\n",
       "    <tr>\n",
       "      <th>2</th>\n",
       "      <td>apparentTemperatureMax</td>\n",
       "      <td>temperatureMax</td>\n",
       "      <td>0.993237</td>\n",
       "      <td>-0.165742</td>\n",
       "      <td>-0.172160</td>\n",
       "    </tr>\n",
       "    <tr>\n",
       "      <th>7</th>\n",
       "      <td>apparentTemperatureMin</td>\n",
       "      <td>temperatureMin</td>\n",
       "      <td>0.992886</td>\n",
       "      <td>-0.146381</td>\n",
       "      <td>-0.153430</td>\n",
       "    </tr>\n",
       "    <tr>\n",
       "      <th>9</th>\n",
       "      <td>dewPoint</td>\n",
       "      <td>temperatureMin</td>\n",
       "      <td>0.951772</td>\n",
       "      <td>-0.158787</td>\n",
       "      <td>-0.153430</td>\n",
       "    </tr>\n",
       "    <tr>\n",
       "      <th>5</th>\n",
       "      <td>apparentTemperatureMin</td>\n",
       "      <td>dewPoint</td>\n",
       "      <td>0.949988</td>\n",
       "      <td>-0.146381</td>\n",
       "      <td>-0.158787</td>\n",
       "    </tr>\n",
       "    <tr>\n",
       "      <th>10</th>\n",
       "      <td>precipIntensity</td>\n",
       "      <td>precipIntensityMax</td>\n",
       "      <td>0.863038</td>\n",
       "      <td>-0.015459</td>\n",
       "      <td>-0.020094</td>\n",
       "    </tr>\n",
       "    <tr>\n",
       "      <th>0</th>\n",
       "      <td>apparentTemperatureMax</td>\n",
       "      <td>apparentTemperatureMin</td>\n",
       "      <td>0.849104</td>\n",
       "      <td>-0.165742</td>\n",
       "      <td>-0.146381</td>\n",
       "    </tr>\n",
       "    <tr>\n",
       "      <th>6</th>\n",
       "      <td>apparentTemperatureMin</td>\n",
       "      <td>temperatureMax</td>\n",
       "      <td>0.844614</td>\n",
       "      <td>-0.146381</td>\n",
       "      <td>-0.172160</td>\n",
       "    </tr>\n",
       "    <tr>\n",
       "      <th>3</th>\n",
       "      <td>apparentTemperatureMax</td>\n",
       "      <td>temperatureMin</td>\n",
       "      <td>0.841444</td>\n",
       "      <td>-0.165742</td>\n",
       "      <td>-0.153430</td>\n",
       "    </tr>\n",
       "    <tr>\n",
       "      <th>13</th>\n",
       "      <td>temperatureMax</td>\n",
       "      <td>temperatureMin</td>\n",
       "      <td>0.838178</td>\n",
       "      <td>-0.172160</td>\n",
       "      <td>-0.153430</td>\n",
       "    </tr>\n",
       "    <tr>\n",
       "      <th>1</th>\n",
       "      <td>apparentTemperatureMax</td>\n",
       "      <td>dewPoint</td>\n",
       "      <td>0.796485</td>\n",
       "      <td>-0.165742</td>\n",
       "      <td>-0.158787</td>\n",
       "    </tr>\n",
       "    <tr>\n",
       "      <th>12</th>\n",
       "      <td>precipProbability</td>\n",
       "      <td>precipTypeIsRain</td>\n",
       "      <td>0.789718</td>\n",
       "      <td>0.010231</td>\n",
       "      <td>0.007165</td>\n",
       "    </tr>\n",
       "    <tr>\n",
       "      <th>8</th>\n",
       "      <td>dewPoint</td>\n",
       "      <td>temperatureMax</td>\n",
       "      <td>0.788791</td>\n",
       "      <td>-0.158787</td>\n",
       "      <td>-0.172160</td>\n",
       "    </tr>\n",
       "    <tr>\n",
       "      <th>14</th>\n",
       "      <td>temperatureMax</td>\n",
       "      <td>NDVI</td>\n",
       "      <td>0.676692</td>\n",
       "      <td>-0.172160</td>\n",
       "      <td>-0.187925</td>\n",
       "    </tr>\n",
       "    <tr>\n",
       "      <th>4</th>\n",
       "      <td>apparentTemperatureMax</td>\n",
       "      <td>NDVI</td>\n",
       "      <td>0.666803</td>\n",
       "      <td>-0.165742</td>\n",
       "      <td>-0.187925</td>\n",
       "    </tr>\n",
       "    <tr>\n",
       "      <th>11</th>\n",
       "      <td>precipIntensity</td>\n",
       "      <td>precipProbability</td>\n",
       "      <td>0.651221</td>\n",
       "      <td>-0.015459</td>\n",
       "      <td>0.010231</td>\n",
       "    </tr>\n",
       "  </tbody>\n",
       "</table>\n",
       "</div>"
      ],
      "text/plain": [
       "                      col1                    col2      corr  \\\n",
       "2   apparentTemperatureMax          temperatureMax  0.993237   \n",
       "7   apparentTemperatureMin          temperatureMin  0.992886   \n",
       "9                 dewPoint          temperatureMin  0.951772   \n",
       "5   apparentTemperatureMin                dewPoint  0.949988   \n",
       "10         precipIntensity      precipIntensityMax  0.863038   \n",
       "0   apparentTemperatureMax  apparentTemperatureMin  0.849104   \n",
       "6   apparentTemperatureMin          temperatureMax  0.844614   \n",
       "3   apparentTemperatureMax          temperatureMin  0.841444   \n",
       "13          temperatureMax          temperatureMin  0.838178   \n",
       "1   apparentTemperatureMax                dewPoint  0.796485   \n",
       "12       precipProbability        precipTypeIsRain  0.789718   \n",
       "8                 dewPoint          temperatureMax  0.788791   \n",
       "14          temperatureMax                    NDVI  0.676692   \n",
       "4   apparentTemperatureMax                    NDVI  0.666803   \n",
       "11         precipIntensity       precipProbability  0.651221   \n",
       "\n",
       "    corr col1 with target  corr col2 with target  \n",
       "2               -0.165742              -0.172160  \n",
       "7               -0.146381              -0.153430  \n",
       "9               -0.158787              -0.153430  \n",
       "5               -0.146381              -0.158787  \n",
       "10              -0.015459              -0.020094  \n",
       "0               -0.165742              -0.146381  \n",
       "6               -0.146381              -0.172160  \n",
       "3               -0.165742              -0.153430  \n",
       "13              -0.172160              -0.153430  \n",
       "1               -0.165742              -0.158787  \n",
       "12               0.010231               0.007165  \n",
       "8               -0.158787              -0.172160  \n",
       "14              -0.172160              -0.187925  \n",
       "4               -0.165742              -0.187925  \n",
       "11              -0.015459               0.010231  "
      ]
     },
     "execution_count": 29,
     "metadata": {},
     "output_type": "execute_result"
    }
   ],
   "source": [
    "newDF.sort_values(by='corr', ascending=False)"
   ]
  },
  {
   "cell_type": "markdown",
   "metadata": {},
   "source": [
    "There are a few features that show very strong correlation. For some that is to be expected (apparent temperature vs. temperature, precip intensity vs. max precip intensity, etc).\n",
    "\n",
    "The 'apparent' temperature values are slightly less correlated with the target variable ('Yield'). I will discard those from further analysis. While 'dew point' and 'temperature min' are highly correlated, thier correlation with 'Yield' has opposite sign (even though the linear correlation itself is weak). I will keep both for now."
   ]
  },
  {
   "cell_type": "markdown",
   "metadata": {},
   "source": [
    "<a id='Drop features/columns'></a>\n",
    "## Drop features/columns"
   ]
  },
  {
   "cell_type": "markdown",
   "metadata": {},
   "source": [
    "- precipTypeIsOther\n",
    "- apparentTemperatureMin\n",
    "- apparentTemperatureMax\n",
    "- precipIntensityMax\n"
   ]
  },
  {
   "cell_type": "code",
   "execution_count": 30,
   "metadata": {
    "collapsed": true
   },
   "outputs": [],
   "source": [
    "df_2013.drop('precipTypeIsOther', axis=1, inplace=True)\n",
    "df_2013.drop('apparentTemperatureMin', axis=1, inplace=True)\n",
    "df_2013.drop('apparentTemperatureMax', axis=1, inplace=True)\n",
    "df_2013.drop('precipIntensityMax', axis=1, inplace=True)\n",
    "#\n",
    "df_2014.drop('precipTypeIsOther', axis=1, inplace=True)\n",
    "df_2014.drop('apparentTemperatureMin', axis=1, inplace=True)\n",
    "df_2014.drop('apparentTemperatureMax', axis=1, inplace=True)\n",
    "df_2014.drop('precipIntensityMax', axis=1, inplace=True)\n"
   ]
  },
  {
   "cell_type": "code",
   "execution_count": null,
   "metadata": {
    "collapsed": true
   },
   "outputs": [],
   "source": []
  },
  {
   "cell_type": "code",
   "execution_count": null,
   "metadata": {
    "collapsed": true
   },
   "outputs": [],
   "source": []
  },
  {
   "cell_type": "markdown",
   "metadata": {},
   "source": [
    "<a id='Save cleaned data to disk'></a>\n",
    "## Save cleaned data to disk"
   ]
  },
  {
   "cell_type": "code",
   "execution_count": 31,
   "metadata": {
    "collapsed": true
   },
   "outputs": [],
   "source": [
    "df_2013.to_pickle(os.path.join('data','df_2013_clean.df'))\n",
    "df_2014.to_pickle(os.path.join('data','df_2014_clean.df'))\n",
    "\n"
   ]
  },
  {
   "cell_type": "code",
   "execution_count": null,
   "metadata": {
    "collapsed": true
   },
   "outputs": [],
   "source": []
  },
  {
   "cell_type": "code",
   "execution_count": null,
   "metadata": {
    "collapsed": true
   },
   "outputs": [],
   "source": []
  },
  {
   "cell_type": "code",
   "execution_count": null,
   "metadata": {
    "collapsed": true
   },
   "outputs": [],
   "source": []
  },
  {
   "cell_type": "code",
   "execution_count": null,
   "metadata": {
    "collapsed": true
   },
   "outputs": [],
   "source": []
  },
  {
   "cell_type": "code",
   "execution_count": null,
   "metadata": {
    "collapsed": true
   },
   "outputs": [],
   "source": []
  }
 ],
 "metadata": {
  "kernelspec": {
   "display_name": "Python 2",
   "language": "python",
   "name": "python2"
  },
  "language_info": {
   "codemirror_mode": {
    "name": "ipython",
    "version": 2
   },
   "file_extension": ".py",
   "mimetype": "text/x-python",
   "name": "python",
   "nbconvert_exporter": "python",
   "pygments_lexer": "ipython2",
   "version": "2.7.13"
  }
 },
 "nbformat": 4,
 "nbformat_minor": 0
}
