{
 "cells": [
  {
   "cell_type": "code",
   "execution_count": 1,
   "metadata": {
    "collapsed": true
   },
   "outputs": [],
   "source": [
    "from __future__ import absolute_import, division, print_function"
   ]
  },
  {
   "cell_type": "markdown",
   "metadata": {},
   "source": [
    "# Algorithm selection"
   ]
  },
  {
   "cell_type": "markdown",
   "metadata": {},
   "source": [
    "I will now explore a number of regression algorithms. Their performance when compared to each other may give a first indication on what the most promising algorithms for the dataset are. I can then focus on these to furtehr optimize the hyperparameters.\n",
    "\n",
    "For now, I include the following algorithms:\n",
    "\n",
    "* linear regression (<a href=\"http://scikit-learn.org/stable/modules/linear_model.html#ordinary-least-squares\">Sklearn</a>)\n",
    "* linear regression with L2 regularization (<a href=\"http://scikit-learn.org/stable/modules/linear_model.html#ridge-regression\">Sklearn</a>)\n",
    "* polynomial regression (<a href=\"http://scikit-learn.org/stable/modules/linear_model.html#polynomial-regression-extending-linear-models-with-basis-functions\">Sklearn</a>)\n",
    "* random forest regression (<a href=\"http://scikit-learn.org/stable/modules/generated/sklearn.ensemble.RandomForestRegressor.html#sklearn.ensemble.RandomForestRegressor\">Sklearn</a>)\n",
    "* gradient boosted tree regression (<a href=\"http://scikit-learn.org/stable/modules/ensemble.html#regression\">Sklearn</a>)\n",
    "* nearest neighbor regression (<a href=\"http://scikit-learn.org/stable/modules/neighbors.html#nearest-neighbors-regression\">Sklearn</a>)\n",
    "* support vector regression (<a href=\"http://scikit-learn.org/stable/modules/svm.html#regression\">Sklearn</a>)\n",
    "\n",
    "All algorithm are first run using their default values."
   ]
  },
  {
   "cell_type": "markdown",
   "metadata": {},
   "source": [
    "## Imports"
   ]
  },
  {
   "cell_type": "code",
   "execution_count": 2,
   "metadata": {
    "collapsed": true
   },
   "outputs": [],
   "source": [
    "import os\n",
    "import pickle\n",
    "import time\n",
    "\n",
    "import numpy as np\n",
    "import pandas as pd\n",
    "\n",
    "import matplotlib as mpl\n",
    "import matplotlib.pyplot as plt\n",
    "from mpl_toolkits.basemap import Basemap\n",
    "\n",
    "%matplotlib inline"
   ]
  },
  {
   "cell_type": "markdown",
   "metadata": {},
   "source": [
    "## Functions"
   ]
  },
  {
   "cell_type": "code",
   "execution_count": 50,
   "metadata": {
    "collapsed": true
   },
   "outputs": [],
   "source": [
    "# http://scikit-learn.org/stable/auto_examples/model_selection/plot_learning_curve.html\n",
    "\n",
    "from sklearn.model_selection import learning_curve\n",
    "from sklearn.model_selection import ShuffleSplit\n",
    "\n",
    "\n",
    "def plot_learning_curve(estimator, title, X, y, ylim=None, cv=None,\n",
    "                        n_jobs=1, train_sizes=np.linspace(.1, 1.0, 5)):\n",
    "    \"\"\"\n",
    "    Generate a simple plot of the test and training learning curve.\n",
    "\n",
    "    Parameters\n",
    "    ----------\n",
    "    estimator : object type that implements the \"fit\" and \"predict\" methods\n",
    "        An object of that type which is cloned for each validation.\n",
    "\n",
    "    title : string\n",
    "        Title for the chart.\n",
    "\n",
    "    X : array-like, shape (n_samples, n_features)\n",
    "        Training vector, where n_samples is the number of samples and\n",
    "        n_features is the number of features.\n",
    "\n",
    "    y : array-like, shape (n_samples) or (n_samples, n_features), optional\n",
    "        Target relative to X for classification or regression;\n",
    "        None for unsupervised learning.\n",
    "\n",
    "    ylim : tuple, shape (ymin, ymax), optional\n",
    "        Defines minimum and maximum yvalues plotted.\n",
    "\n",
    "    cv : int, cross-validation generator or an iterable, optional\n",
    "        Determines the cross-validation splitting strategy.\n",
    "        Possible inputs for cv are:\n",
    "          - None, to use the default 3-fold cross-validation,\n",
    "          - integer, to specify the number of folds.\n",
    "          - An object to be used as a cross-validation generator.\n",
    "          - An iterable yielding train/test splits.\n",
    "\n",
    "        For integer/None inputs, if ``y`` is binary or multiclass,\n",
    "        :class:`StratifiedKFold` used. If the estimator is not a classifier\n",
    "        or if ``y`` is neither binary nor multiclass, :class:`KFold` is used.\n",
    "\n",
    "        Refer :ref:`User Guide <cross_validation>` for the various\n",
    "        cross-validators that can be used here.\n",
    "\n",
    "    n_jobs : integer, optional\n",
    "        Number of jobs to run in parallel (default 1).\n",
    "    \"\"\"\n",
    "    plt.figure()\n",
    "    plt.title(title)\n",
    "    if ylim is not None:\n",
    "        plt.ylim(*ylim)\n",
    "    plt.xlabel(\"Training examples\")\n",
    "    plt.ylabel(\"Score\")\n",
    "    train_sizes, train_scores, test_scores = learning_curve(\n",
    "        estimator, X, y, cv=cv, n_jobs=n_jobs, train_sizes=train_sizes)\n",
    "    train_scores_mean = np.mean(train_scores, axis=1)\n",
    "    train_scores_std = np.std(train_scores, axis=1)\n",
    "    test_scores_mean = np.mean(test_scores, axis=1)\n",
    "    test_scores_std = np.std(test_scores, axis=1)\n",
    "    plt.grid()\n",
    "\n",
    "    plt.fill_between(train_sizes, train_scores_mean - train_scores_std,\n",
    "                     train_scores_mean + train_scores_std, alpha=0.1,\n",
    "                     color=\"r\")\n",
    "    plt.fill_between(train_sizes, test_scores_mean - test_scores_std,\n",
    "                     test_scores_mean + test_scores_std, alpha=0.1, color=\"g\")\n",
    "    plt.plot(train_sizes, train_scores_mean, 'o-', color=\"r\",\n",
    "             label=\"Training score\")\n",
    "    plt.plot(train_sizes, test_scores_mean, 'o-', color=\"g\",\n",
    "             label=\"Cross-validation score\")\n",
    "\n",
    "    plt.legend(loc=\"best\")\n",
    "    return plt\n",
    "\n"
   ]
  },
  {
   "cell_type": "markdown",
   "metadata": {},
   "source": [
    "## Data"
   ]
  },
  {
   "cell_type": "code",
   "execution_count": 3,
   "metadata": {
    "collapsed": true
   },
   "outputs": [],
   "source": [
    "cwd = os.getcwd()\n",
    "df_2013 = pd.read_pickle(os.path.join(cwd,'data','df_2013_features.df'))\n",
    "df_2014 = pd.read_pickle(os.path.join(cwd,'data','df_2014_features.df'))"
   ]
  },
  {
   "cell_type": "code",
   "execution_count": 4,
   "metadata": {
    "collapsed": true
   },
   "outputs": [],
   "source": [
    "# Combine data from both years\n",
    "df_all = pd.concat([df_2013,df_2014])"
   ]
  },
  {
   "cell_type": "code",
   "execution_count": 5,
   "metadata": {
    "collapsed": false
   },
   "outputs": [
    {
     "name": "stdout",
     "output_type": "stream",
     "text": [
      "2013 (955, 12)\n",
      "2014 (982, 12)\n",
      "Combined (1937, 12)\n"
     ]
    }
   ],
   "source": [
    "print('2013 {}'.format(df_2013.shape))\n",
    "print('2014 {}'.format(df_2014.shape))\n",
    "print('Combined {}'.format(df_all.shape))\n"
   ]
  },
  {
   "cell_type": "markdown",
   "metadata": {},
   "source": [
    "## Train-Test split"
   ]
  },
  {
   "cell_type": "code",
   "execution_count": 13,
   "metadata": {
    "collapsed": false
   },
   "outputs": [],
   "source": [
    "# train_test_split splits randomly, i.e., shuffled. See docs:\n",
    "# http://scikit-learn.org/stable/modules/generated/sklearn.model_selection.train_test_split.html\n",
    "from sklearn.model_selection import train_test_split\n",
    "y = df_all['yield']\n",
    "X = df_all.drop('yield',axis=1)\n",
    "X_train, X_test, y_train, y_test = train_test_split(X, y, test_size=0.2, random_state=42)"
   ]
  },
  {
   "cell_type": "markdown",
   "metadata": {},
   "source": [
    "## Feature scaling"
   ]
  },
  {
   "cell_type": "markdown",
   "metadata": {},
   "source": [
    "The dataset contains numerical features which are on very different scales. Set up a scaler to bring all features to zero mean and unity standard deviation. Later we need to apply the scaler also to the test set."
   ]
  },
  {
   "cell_type": "code",
   "execution_count": 19,
   "metadata": {
    "collapsed": false
   },
   "outputs": [
    {
     "name": "stdout",
     "output_type": "stream",
     "text": [
      "['longitude', 'latitude', 'elevation', 'LOD', 'total_precipitation', 'minMAT30', 'maxMAT30', 'ratioMNDVI30', 'mean_wind_speed', 'mean_temperature_diff', 'std_temperature_diff']\n"
     ]
    },
    {
     "name": "stderr",
     "output_type": "stream",
     "text": [
      "/usr/local/lib/python2.7/site-packages/ipykernel/__main__.py:7: SettingWithCopyWarning: \n",
      "A value is trying to be set on a copy of a slice from a DataFrame.\n",
      "Try using .loc[row_indexer,col_indexer] = value instead\n",
      "\n",
      "See the caveats in the documentation: http://pandas.pydata.org/pandas-docs/stable/indexing.html#indexing-view-versus-copy\n"
     ]
    }
   ],
   "source": [
    "from sklearn import preprocessing\n",
    "columns_to_scale = df_all.columns.tolist()\n",
    "columns_to_scale = [x for x in columns_to_scale if x != 'yield']\n",
    "print(columns_to_scale)\n",
    "\n",
    "std_scaler = preprocessing.StandardScaler().fit(X_train[columns_to_scale])\n",
    "X_train[columns_to_scale] = std_scaler.transform(X_train[columns_to_scale])\n",
    "\n",
    "\n"
   ]
  },
  {
   "cell_type": "code",
   "execution_count": 20,
   "metadata": {
    "collapsed": false
   },
   "outputs": [
    {
     "name": "stderr",
     "output_type": "stream",
     "text": [
      "/usr/local/lib/python2.7/site-packages/ipykernel/__main__.py:2: SettingWithCopyWarning: \n",
      "A value is trying to be set on a copy of a slice from a DataFrame.\n",
      "Try using .loc[row_indexer,col_indexer] = value instead\n",
      "\n",
      "See the caveats in the documentation: http://pandas.pydata.org/pandas-docs/stable/indexing.html#indexing-view-versus-copy\n",
      "  from ipykernel import kernelapp as app\n"
     ]
    }
   ],
   "source": [
    "# Don't forget to apply the scaler also to the test set.\n",
    "X_test[columns_to_scale] = std_scaler.transform(X_test[columns_to_scale])\n",
    "\n"
   ]
  },
  {
   "cell_type": "markdown",
   "metadata": {},
   "source": [
    "## Algorithms"
   ]
  },
  {
   "cell_type": "code",
   "execution_count": 21,
   "metadata": {
    "collapsed": true
   },
   "outputs": [],
   "source": [
    "# Use cros validation. Set 'k' and the scoring function. If scoring function is not set, \n",
    "# cross_val_score will use the default scoring for the respective estimator. To make sure \n",
    "# I compare all estimators on the same scale, I set the scoring function explicitly.\n",
    "from sklearn.model_selection import cross_val_score\n",
    "cv_k = 5\n",
    "cv_scoring = 'neg_mean_squared_error'\n",
    "# cv_scoring = 'r2'"
   ]
  },
  {
   "cell_type": "markdown",
   "metadata": {},
   "source": [
    "The order of the locations in the data is still such that they are grouped by county. For a reliable training and testing scenario, the data will have to be shuffled."
   ]
  },
  {
   "cell_type": "code",
   "execution_count": 22,
   "metadata": {
    "collapsed": true
   },
   "outputs": [],
   "source": [
    "from sklearn.model_selection import KFold\n",
    "kf = KFold(n_splits=cv_k, shuffle=True)"
   ]
  },
  {
   "cell_type": "code",
   "execution_count": 23,
   "metadata": {
    "collapsed": true
   },
   "outputs": [],
   "source": [
    "from sklearn import linear_model\n",
    "from sklearn.preprocessing import PolynomialFeatures\n",
    "from sklearn.ensemble import RandomForestRegressor\n",
    "from sklearn.ensemble import GradientBoostingRegressor\n",
    "from sklearn import neighbors\n",
    "from sklearn.svm import SVR"
   ]
  },
  {
   "cell_type": "code",
   "execution_count": 24,
   "metadata": {
    "collapsed": false
   },
   "outputs": [
    {
     "name": "stdout",
     "output_type": "stream",
     "text": [
      "Accuracy: -95.19 (+/- 13.29)\n",
      "Exec. time:  0.04 s\n"
     ]
    },
    {
     "name": "stderr",
     "output_type": "stream",
     "text": [
      "/usr/local/lib/python2.7/site-packages/scipy/linalg/basic.py:884: RuntimeWarning: internal gelsd driver lwork query error, required iwork dimension not returned. This is likely the result of LAPACK bug 0038, fixed in LAPACK 3.2.2 (released July 21, 2010). Falling back to 'gelss' driver.\n",
      "  warnings.warn(mesg, RuntimeWarning)\n"
     ]
    }
   ],
   "source": [
    "# Linear regression\n",
    "now = time.time()\n",
    "est = linear_model.LinearRegression()\n",
    "scores = cross_val_score(est, X_train, y_train, cv=kf, scoring=cv_scoring)\n",
    "print(\"Accuracy: %0.2f (+/- %0.2f)\" % (scores.mean(), scores.std() * 2))\n",
    "after = time.time()\n",
    "print('Exec. time: {:5.2f} s'.format(after-now))"
   ]
  },
  {
   "cell_type": "code",
   "execution_count": 25,
   "metadata": {
    "collapsed": false
   },
   "outputs": [
    {
     "name": "stdout",
     "output_type": "stream",
     "text": [
      "Accuracy: -96.43 (+/- 19.71)\n",
      "Exec. time:  0.03 s\n"
     ]
    }
   ],
   "source": [
    "# Linear regression with L2 regularization\n",
    "now = time.time()\n",
    "est = linear_model.Ridge(alpha = 1.0)\n",
    "scores = cross_val_score(est, X_train, y_train, cv=kf, scoring=cv_scoring)\n",
    "print(\"Accuracy: %0.2f (+/- %0.2f)\" % (scores.mean(), scores.std() * 2))\n",
    "after = time.time()\n",
    "print('Exec. time: {:5.2f} s'.format(after-now))"
   ]
  },
  {
   "cell_type": "code",
   "execution_count": 26,
   "metadata": {
    "collapsed": false
   },
   "outputs": [
    {
     "name": "stdout",
     "output_type": "stream",
     "text": [
      "Accuracy: -63.56 (+/- 32.93)\n",
      "Exec. time:  0.07 s\n"
     ]
    }
   ],
   "source": [
    "# Polynomial regression\n",
    "now = time.time()\n",
    "poly = PolynomialFeatures(degree=2)\n",
    "X_train_poly = poly.fit_transform(X_train)\n",
    "est = linear_model.LinearRegression()\n",
    "scores = cross_val_score(est, X_train_poly, y_train, cv=kf, scoring=cv_scoring)\n",
    "print(\"Accuracy: %0.2f (+/- %0.2f)\" % (scores.mean(), scores.std() * 2))\n",
    "after = time.time()\n",
    "print('Exec. time: {:5.2f} s'.format(after-now))"
   ]
  },
  {
   "cell_type": "code",
   "execution_count": 27,
   "metadata": {
    "collapsed": false
   },
   "outputs": [
    {
     "name": "stdout",
     "output_type": "stream",
     "text": [
      "Accuracy: -54.44 (+/- 5.94)\n",
      "Exec. time:  0.03 s\n"
     ]
    }
   ],
   "source": [
    "# Polynomial regression with regularization\n",
    "now = time.time()\n",
    "poly = PolynomialFeatures(degree=2)\n",
    "X_train_poly = poly.fit_transform(X_train)\n",
    "est = linear_model.Ridge(alpha = 1.0)\n",
    "scores = cross_val_score(est, X_train_poly, y_train, cv=kf, scoring=cv_scoring)\n",
    "print(\"Accuracy: %0.2f (+/- %0.2f)\" % (scores.mean(), scores.std() * 2))\n",
    "after = time.time()\n",
    "print('Exec. time: {:5.2f} s'.format(after-now))"
   ]
  },
  {
   "cell_type": "code",
   "execution_count": 41,
   "metadata": {
    "collapsed": false
   },
   "outputs": [
    {
     "name": "stdout",
     "output_type": "stream",
     "text": [
      "Accuracy: -27.6584 (+/- 3.5176)\n",
      "Exec. time:  1.66 s\n"
     ]
    }
   ],
   "source": [
    "# Random forest regression\n",
    "now = time.time()\n",
    "est = RandomForestRegressor(n_estimators=10, n_jobs=-1)\n",
    "scores = cross_val_score(est, X_train, y_train, cv=kf, scoring=cv_scoring)\n",
    "print(\"Accuracy: %0.4f (+/- %0.4f)\" % (scores.mean(), scores.std() * 2))\n",
    "after = time.time()\n",
    "print('Exec. time: {:5.2f} s'.format(after-now))"
   ]
  },
  {
   "cell_type": "code",
   "execution_count": 29,
   "metadata": {
    "collapsed": false
   },
   "outputs": [
    {
     "name": "stdout",
     "output_type": "stream",
     "text": [
      "Accuracy: -173.9931 (+/- 19.0146)\n",
      "Exec. time:  0.13 s\n"
     ]
    }
   ],
   "source": [
    "# Gradient boosted regression\n",
    "now = time.time()\n",
    "est = GradientBoostingRegressor(n_estimators=100, learning_rate=0.1,\n",
    "                                max_depth=0.3, random_state=0, loss='ls')\n",
    "scores = cross_val_score(est, X_train, y_train, cv=kf, scoring=cv_scoring)\n",
    "print(\"Accuracy: %0.4f (+/- %0.4f)\" % (scores.mean(), scores.std() * 2))\n",
    "after = time.time()\n",
    "print('Exec. time: {:5.2f} s'.format(after-now))"
   ]
  },
  {
   "cell_type": "code",
   "execution_count": 30,
   "metadata": {
    "collapsed": false
   },
   "outputs": [
    {
     "name": "stdout",
     "output_type": "stream",
     "text": [
      "Accuracy: -31.97 (+/- 4.58)\n",
      "Exec. time:  0.73 s\n"
     ]
    }
   ],
   "source": [
    "# Nearest neighbor regression\n",
    "now = time.time()\n",
    "n_neighbors = 5\n",
    "weight = 'uniform' # 'distance'\n",
    "est = neighbors.KNeighborsRegressor(n_neighbors, weights=weight, n_jobs=-1)\n",
    "scores = cross_val_score(est, X_train, y_train, cv=kf, scoring=cv_scoring)\n",
    "print(\"Accuracy: %0.2f (+/- %0.2f)\" % (scores.mean(), scores.std() * 2))\n",
    "after = time.time()\n",
    "print('Exec. time: {:5.2f} s'.format(after-now))"
   ]
  },
  {
   "cell_type": "code",
   "execution_count": 32,
   "metadata": {
    "collapsed": false
   },
   "outputs": [
    {
     "name": "stdout",
     "output_type": "stream",
     "text": [
      "Accuracy: -70.19 (+/- 17.06)\n",
      "Exec. time:  0.45 s\n"
     ]
    }
   ],
   "source": [
    "# Support vector regression - RBF kernel\n",
    "now = time.time()\n",
    "est = SVR(kernel='rbf', C=1, gamma=0.1)\n",
    "scores = cross_val_score(est, X_train, y_train, cv=kf, scoring=cv_scoring)\n",
    "print(\"Accuracy: %0.2f (+/- %0.2f)\" % (scores.mean(), scores.std() * 2))\n",
    "after = time.time()\n",
    "print('Exec. time: {:5.2f} s'.format(after-now))"
   ]
  },
  {
   "cell_type": "code",
   "execution_count": 33,
   "metadata": {
    "collapsed": false
   },
   "outputs": [
    {
     "name": "stdout",
     "output_type": "stream",
     "text": [
      "Accuracy: -101.89 (+/- 13.38)\n",
      "Exec. time:  0.38 s\n"
     ]
    }
   ],
   "source": [
    "# Support vector regression - linear kernel\n",
    "now = time.time()\n",
    "est = SVR(kernel='linear', C=1)\n",
    "scores = cross_val_score(est, X_train, y_train, cv=kf, scoring=cv_scoring)\n",
    "print(\"Accuracy: %0.2f (+/- %0.2f)\" % (scores.mean(), scores.std() * 2))\n",
    "after = time.time()\n",
    "print('Exec. time: {:5.2f} s'.format(after-now))"
   ]
  },
  {
   "cell_type": "code",
   "execution_count": 34,
   "metadata": {
    "collapsed": false
   },
   "outputs": [
    {
     "name": "stdout",
     "output_type": "stream",
     "text": [
      "Accuracy: -82.65 (+/- 28.71)\n",
      "Exec. time:  8.51 s\n"
     ]
    }
   ],
   "source": [
    "# Support vector regression - polynomial kernel\n",
    "# This takes much longer than the previous two SVR methods.\n",
    "# Reduce size of dataset even further\n",
    "# idx = np.random.choice(len(X_train), size=1000, replace=False)\n",
    "# X_train_part = X_train.iloc[idx]\n",
    "# y_train_part = y_train.iloc[idx]\n",
    "now = time.time()\n",
    "est = SVR(kernel='poly', C=1e3, degree=2)\n",
    "scores = cross_val_score(est, X_train, y_train, cv=kf, scoring=cv_scoring)\n",
    "print(\"Accuracy: %0.2f (+/- %0.2f)\" % (scores.mean(), scores.std() * 2))\n",
    "after = time.time()\n",
    "print('Exec. time: {:5.2f} s'.format(after-now))"
   ]
  },
  {
   "cell_type": "code",
   "execution_count": 35,
   "metadata": {
    "collapsed": false
   },
   "outputs": [
    {
     "name": "stdout",
     "output_type": "stream",
     "text": [
      "Accuracy: -53.06 (+/- 10.40)\n",
      "Exec. time:  0.43 s\n"
     ]
    }
   ],
   "source": [
    "# KernelRidge\n",
    "# Crashes due to memory issues when using the full data (-> 140k rows)\n",
    "#\n",
    "# idx = np.random.choice(len(X_train), size=10000, replace=False)\n",
    "# X_train_part = X_train.iloc[idx]\n",
    "# y_train_part = y_train.iloc[idx]\n",
    "#\n",
    "from sklearn.kernel_ridge import KernelRidge\n",
    "now = time.time()\n",
    "est = KernelRidge(kernel='rbf', gamma=0.1)\n",
    "scores = cross_val_score(est, X_train, y_train, cv=kf, scoring=cv_scoring)\n",
    "print(\"Accuracy: %0.2f (+/- %0.2f)\" % (scores.mean(), scores.std() * 2))\n",
    "after = time.time()\n",
    "print('Exec. time: {:5.2f} s'.format(after-now))"
   ]
  },
  {
   "cell_type": "markdown",
   "metadata": {},
   "source": [
    "Out of the bag, the random forest regressor performed the best, followed nearest neighbor regression, KernelRidge, and L2 linear regression with polynomial features."
   ]
  },
  {
   "cell_type": "markdown",
   "metadata": {},
   "source": [
    "## Tuning the gradient boosted tree regressor"
   ]
  },
  {
   "cell_type": "markdown",
   "metadata": {},
   "source": [
    "The GBT rgressor - the recent favorite among many machine-learning competitions - performed rather poorly compared to other algorithms. Obviously, I did not perform any parameter tuning, but rather used the default values. Now let's see if we can increase the performance by tuning some of the main parameters:"
   ]
  },
  {
   "cell_type": "code",
   "execution_count": 44,
   "metadata": {
    "collapsed": false
   },
   "outputs": [
    {
     "name": "stdout",
     "output_type": "stream",
     "text": [
      "-36.356 (+/-11.169) for {'n_estimators': 100, 'learning_rate': 0.1, 'max_depth': 3}\n",
      "-31.879 (+/-9.304) for {'n_estimators': 200, 'learning_rate': 0.1, 'max_depth': 3}\n",
      "-26.936 (+/-6.567) for {'n_estimators': 500, 'learning_rate': 0.1, 'max_depth': 3}\n",
      "-27.834 (+/-12.730) for {'n_estimators': 100, 'learning_rate': 0.1, 'max_depth': 5}\n",
      "-25.304 (+/-11.153) for {'n_estimators': 200, 'learning_rate': 0.1, 'max_depth': 5}\n",
      "-24.047 (+/-10.748) for {'n_estimators': 500, 'learning_rate': 0.1, 'max_depth': 5}\n",
      "-22.663 (+/-8.405) for {'n_estimators': 100, 'learning_rate': 0.1, 'max_depth': 7}\n",
      "-22.061 (+/-8.316) for {'n_estimators': 200, 'learning_rate': 0.1, 'max_depth': 7}\n",
      "-21.833 (+/-8.169) for {'n_estimators': 500, 'learning_rate': 0.1, 'max_depth': 7}\n",
      "-29.553 (+/-10.463) for {'n_estimators': 100, 'learning_rate': 0.3, 'max_depth': 3}\n",
      "-27.328 (+/-9.471) for {'n_estimators': 200, 'learning_rate': 0.3, 'max_depth': 3}\n",
      "-26.374 (+/-9.398) for {'n_estimators': 500, 'learning_rate': 0.3, 'max_depth': 3}\n",
      "-25.060 (+/-10.927) for {'n_estimators': 100, 'learning_rate': 0.3, 'max_depth': 5}\n",
      "-24.755 (+/-10.546) for {'n_estimators': 200, 'learning_rate': 0.3, 'max_depth': 5}\n",
      "-24.695 (+/-10.575) for {'n_estimators': 500, 'learning_rate': 0.3, 'max_depth': 5}\n",
      "-22.848 (+/-8.458) for {'n_estimators': 100, 'learning_rate': 0.3, 'max_depth': 7}\n",
      "-22.803 (+/-8.430) for {'n_estimators': 200, 'learning_rate': 0.3, 'max_depth': 7}\n",
      "-22.799 (+/-8.425) for {'n_estimators': 500, 'learning_rate': 0.3, 'max_depth': 7}\n",
      "-30.819 (+/-13.786) for {'n_estimators': 100, 'learning_rate': 0.5, 'max_depth': 3}\n",
      "-30.584 (+/-14.014) for {'n_estimators': 200, 'learning_rate': 0.5, 'max_depth': 3}\n",
      "-30.162 (+/-13.836) for {'n_estimators': 500, 'learning_rate': 0.5, 'max_depth': 3}\n",
      "-27.524 (+/-9.412) for {'n_estimators': 100, 'learning_rate': 0.5, 'max_depth': 5}\n",
      "-27.405 (+/-9.378) for {'n_estimators': 200, 'learning_rate': 0.5, 'max_depth': 5}\n",
      "-27.387 (+/-9.389) for {'n_estimators': 500, 'learning_rate': 0.5, 'max_depth': 5}\n",
      "-28.682 (+/-18.642) for {'n_estimators': 100, 'learning_rate': 0.5, 'max_depth': 7}\n",
      "-28.678 (+/-18.640) for {'n_estimators': 200, 'learning_rate': 0.5, 'max_depth': 7}\n",
      "-28.678 (+/-18.639) for {'n_estimators': 500, 'learning_rate': 0.5, 'max_depth': 7}\n",
      "\n",
      "Exec. time: 22.64 s\n"
     ]
    }
   ],
   "source": [
    "# Gradient boosted regression - with hyperparameter tuning\n",
    "from sklearn.model_selection import GridSearchCV\n",
    "now = time.time()\n",
    "# Set the parameters by cross-validation\n",
    "\n",
    "tuned_parameters = [{'n_estimators': [100,200,500], \n",
    "                     'max_depth': [3,5,7], \n",
    "                    'learning_rate': [0.1,0.3,0.5]}]\n",
    "\n",
    "\n",
    "est_base = GradientBoostingRegressor(random_state=0, loss='ls')\n",
    "\n",
    "est = GridSearchCV(est_base, tuned_parameters, cv=kf, scoring=cv_scoring, n_jobs=-1)\n",
    "\n",
    "est.fit(X_train, y_train)\n",
    "\n",
    "means = est.cv_results_['mean_test_score']\n",
    "stds = est.cv_results_['std_test_score']\n",
    "\n",
    "for mean, std, params in zip(means, stds, est.cv_results_['params']):\n",
    "    print(\"%0.3f (+/-%0.03f) for %r\"\n",
    "          % (mean, std * 2, params))\n",
    "print()\n",
    "    \n",
    "after = time.time()\n",
    "print('Exec. time: {:5.2f} s'.format(after-now))\n",
    "\n",
    "\n"
   ]
  },
  {
   "cell_type": "markdown",
   "metadata": {},
   "source": [
    "## Tuning the random forest regressor"
   ]
  },
  {
   "cell_type": "code",
   "execution_count": 49,
   "metadata": {
    "collapsed": false
   },
   "outputs": [
    {
     "name": "stdout",
     "output_type": "stream",
     "text": [
      "-39.520 (+/-11.066) for {'max_features': 'auto', 'min_samples_split': 2, 'n_estimators': 10, 'min_samples_leaf': 10}\n",
      "-37.845 (+/-10.510) for {'max_features': 'auto', 'min_samples_split': 2, 'n_estimators': 100, 'min_samples_leaf': 10}\n",
      "-37.763 (+/-10.465) for {'max_features': 'auto', 'min_samples_split': 2, 'n_estimators': 1000, 'min_samples_leaf': 10}\n",
      "-39.520 (+/-11.066) for {'max_features': 'auto', 'min_samples_split': 4, 'n_estimators': 10, 'min_samples_leaf': 10}\n",
      "-37.845 (+/-10.510) for {'max_features': 'auto', 'min_samples_split': 4, 'n_estimators': 100, 'min_samples_leaf': 10}\n",
      "-37.763 (+/-10.465) for {'max_features': 'auto', 'min_samples_split': 4, 'n_estimators': 1000, 'min_samples_leaf': 10}\n",
      "-39.520 (+/-11.066) for {'max_features': 'auto', 'min_samples_split': 8, 'n_estimators': 10, 'min_samples_leaf': 10}\n",
      "-37.845 (+/-10.510) for {'max_features': 'auto', 'min_samples_split': 8, 'n_estimators': 100, 'min_samples_leaf': 10}\n",
      "-37.763 (+/-10.465) for {'max_features': 'auto', 'min_samples_split': 8, 'n_estimators': 1000, 'min_samples_leaf': 10}\n",
      "-47.321 (+/-9.676) for {'max_features': 'auto', 'min_samples_split': 2, 'n_estimators': 10, 'min_samples_leaf': 20}\n",
      "-45.773 (+/-9.872) for {'max_features': 'auto', 'min_samples_split': 2, 'n_estimators': 100, 'min_samples_leaf': 20}\n",
      "-45.708 (+/-10.234) for {'max_features': 'auto', 'min_samples_split': 2, 'n_estimators': 1000, 'min_samples_leaf': 20}\n",
      "-47.321 (+/-9.676) for {'max_features': 'auto', 'min_samples_split': 4, 'n_estimators': 10, 'min_samples_leaf': 20}\n",
      "-45.773 (+/-9.872) for {'max_features': 'auto', 'min_samples_split': 4, 'n_estimators': 100, 'min_samples_leaf': 20}\n",
      "-45.708 (+/-10.234) for {'max_features': 'auto', 'min_samples_split': 4, 'n_estimators': 1000, 'min_samples_leaf': 20}\n",
      "-47.321 (+/-9.676) for {'max_features': 'auto', 'min_samples_split': 8, 'n_estimators': 10, 'min_samples_leaf': 20}\n",
      "-45.773 (+/-9.872) for {'max_features': 'auto', 'min_samples_split': 8, 'n_estimators': 100, 'min_samples_leaf': 20}\n",
      "-45.708 (+/-10.234) for {'max_features': 'auto', 'min_samples_split': 8, 'n_estimators': 1000, 'min_samples_leaf': 20}\n",
      "-64.739 (+/-12.496) for {'max_features': 'auto', 'min_samples_split': 2, 'n_estimators': 10, 'min_samples_leaf': 50}\n",
      "-62.051 (+/-12.495) for {'max_features': 'auto', 'min_samples_split': 2, 'n_estimators': 100, 'min_samples_leaf': 50}\n",
      "-61.936 (+/-12.418) for {'max_features': 'auto', 'min_samples_split': 2, 'n_estimators': 1000, 'min_samples_leaf': 50}\n",
      "-64.739 (+/-12.496) for {'max_features': 'auto', 'min_samples_split': 4, 'n_estimators': 10, 'min_samples_leaf': 50}\n",
      "-62.051 (+/-12.495) for {'max_features': 'auto', 'min_samples_split': 4, 'n_estimators': 100, 'min_samples_leaf': 50}\n",
      "-61.936 (+/-12.418) for {'max_features': 'auto', 'min_samples_split': 4, 'n_estimators': 1000, 'min_samples_leaf': 50}\n",
      "-64.739 (+/-12.496) for {'max_features': 'auto', 'min_samples_split': 8, 'n_estimators': 10, 'min_samples_leaf': 50}\n",
      "-62.051 (+/-12.495) for {'max_features': 'auto', 'min_samples_split': 8, 'n_estimators': 100, 'min_samples_leaf': 50}\n",
      "-61.936 (+/-12.418) for {'max_features': 'auto', 'min_samples_split': 8, 'n_estimators': 1000, 'min_samples_leaf': 50}\n",
      "-72.972 (+/-14.438) for {'max_features': 'auto', 'min_samples_split': 2, 'n_estimators': 10, 'min_samples_leaf': 100}\n",
      "-72.008 (+/-13.472) for {'max_features': 'auto', 'min_samples_split': 2, 'n_estimators': 100, 'min_samples_leaf': 100}\n",
      "-72.133 (+/-13.741) for {'max_features': 'auto', 'min_samples_split': 2, 'n_estimators': 1000, 'min_samples_leaf': 100}\n",
      "-72.972 (+/-14.438) for {'max_features': 'auto', 'min_samples_split': 4, 'n_estimators': 10, 'min_samples_leaf': 100}\n",
      "-72.008 (+/-13.472) for {'max_features': 'auto', 'min_samples_split': 4, 'n_estimators': 100, 'min_samples_leaf': 100}\n",
      "-72.133 (+/-13.741) for {'max_features': 'auto', 'min_samples_split': 4, 'n_estimators': 1000, 'min_samples_leaf': 100}\n",
      "-72.972 (+/-14.438) for {'max_features': 'auto', 'min_samples_split': 8, 'n_estimators': 10, 'min_samples_leaf': 100}\n",
      "-72.008 (+/-13.472) for {'max_features': 'auto', 'min_samples_split': 8, 'n_estimators': 100, 'min_samples_leaf': 100}\n",
      "-72.133 (+/-13.741) for {'max_features': 'auto', 'min_samples_split': 8, 'n_estimators': 1000, 'min_samples_leaf': 100}\n",
      "-40.926 (+/-7.432) for {'max_features': 'sqrt', 'min_samples_split': 2, 'n_estimators': 10, 'min_samples_leaf': 10}\n",
      "-38.341 (+/-8.834) for {'max_features': 'sqrt', 'min_samples_split': 2, 'n_estimators': 100, 'min_samples_leaf': 10}\n",
      "-38.066 (+/-9.204) for {'max_features': 'sqrt', 'min_samples_split': 2, 'n_estimators': 1000, 'min_samples_leaf': 10}\n",
      "-40.926 (+/-7.432) for {'max_features': 'sqrt', 'min_samples_split': 4, 'n_estimators': 10, 'min_samples_leaf': 10}\n",
      "-38.341 (+/-8.834) for {'max_features': 'sqrt', 'min_samples_split': 4, 'n_estimators': 100, 'min_samples_leaf': 10}\n",
      "-38.066 (+/-9.204) for {'max_features': 'sqrt', 'min_samples_split': 4, 'n_estimators': 1000, 'min_samples_leaf': 10}\n",
      "-40.926 (+/-7.432) for {'max_features': 'sqrt', 'min_samples_split': 8, 'n_estimators': 10, 'min_samples_leaf': 10}\n",
      "-38.341 (+/-8.834) for {'max_features': 'sqrt', 'min_samples_split': 8, 'n_estimators': 100, 'min_samples_leaf': 10}\n",
      "-38.066 (+/-9.204) for {'max_features': 'sqrt', 'min_samples_split': 8, 'n_estimators': 1000, 'min_samples_leaf': 10}\n",
      "-50.559 (+/-9.074) for {'max_features': 'sqrt', 'min_samples_split': 2, 'n_estimators': 10, 'min_samples_leaf': 20}\n",
      "-47.056 (+/-8.361) for {'max_features': 'sqrt', 'min_samples_split': 2, 'n_estimators': 100, 'min_samples_leaf': 20}\n",
      "-47.208 (+/-9.352) for {'max_features': 'sqrt', 'min_samples_split': 2, 'n_estimators': 1000, 'min_samples_leaf': 20}\n",
      "-50.559 (+/-9.074) for {'max_features': 'sqrt', 'min_samples_split': 4, 'n_estimators': 10, 'min_samples_leaf': 20}\n",
      "-47.056 (+/-8.361) for {'max_features': 'sqrt', 'min_samples_split': 4, 'n_estimators': 100, 'min_samples_leaf': 20}\n",
      "-47.208 (+/-9.352) for {'max_features': 'sqrt', 'min_samples_split': 4, 'n_estimators': 1000, 'min_samples_leaf': 20}\n",
      "-50.559 (+/-9.074) for {'max_features': 'sqrt', 'min_samples_split': 8, 'n_estimators': 10, 'min_samples_leaf': 20}\n",
      "-47.056 (+/-8.361) for {'max_features': 'sqrt', 'min_samples_split': 8, 'n_estimators': 100, 'min_samples_leaf': 20}\n",
      "-47.208 (+/-9.352) for {'max_features': 'sqrt', 'min_samples_split': 8, 'n_estimators': 1000, 'min_samples_leaf': 20}\n",
      "-65.487 (+/-9.884) for {'max_features': 'sqrt', 'min_samples_split': 2, 'n_estimators': 10, 'min_samples_leaf': 50}\n",
      "-63.964 (+/-11.385) for {'max_features': 'sqrt', 'min_samples_split': 2, 'n_estimators': 100, 'min_samples_leaf': 50}\n",
      "-63.669 (+/-11.767) for {'max_features': 'sqrt', 'min_samples_split': 2, 'n_estimators': 1000, 'min_samples_leaf': 50}\n",
      "-65.487 (+/-9.884) for {'max_features': 'sqrt', 'min_samples_split': 4, 'n_estimators': 10, 'min_samples_leaf': 50}\n",
      "-63.964 (+/-11.385) for {'max_features': 'sqrt', 'min_samples_split': 4, 'n_estimators': 100, 'min_samples_leaf': 50}\n",
      "-63.669 (+/-11.767) for {'max_features': 'sqrt', 'min_samples_split': 4, 'n_estimators': 1000, 'min_samples_leaf': 50}\n",
      "-65.487 (+/-9.884) for {'max_features': 'sqrt', 'min_samples_split': 8, 'n_estimators': 10, 'min_samples_leaf': 50}\n",
      "-63.964 (+/-11.385) for {'max_features': 'sqrt', 'min_samples_split': 8, 'n_estimators': 100, 'min_samples_leaf': 50}\n",
      "-63.669 (+/-11.767) for {'max_features': 'sqrt', 'min_samples_split': 8, 'n_estimators': 1000, 'min_samples_leaf': 50}\n",
      "-79.804 (+/-14.395) for {'max_features': 'sqrt', 'min_samples_split': 2, 'n_estimators': 10, 'min_samples_leaf': 100}\n",
      "-77.897 (+/-13.812) for {'max_features': 'sqrt', 'min_samples_split': 2, 'n_estimators': 100, 'min_samples_leaf': 100}\n",
      "-77.257 (+/-14.004) for {'max_features': 'sqrt', 'min_samples_split': 2, 'n_estimators': 1000, 'min_samples_leaf': 100}\n",
      "-79.804 (+/-14.395) for {'max_features': 'sqrt', 'min_samples_split': 4, 'n_estimators': 10, 'min_samples_leaf': 100}\n",
      "-77.897 (+/-13.812) for {'max_features': 'sqrt', 'min_samples_split': 4, 'n_estimators': 100, 'min_samples_leaf': 100}\n",
      "-77.257 (+/-14.004) for {'max_features': 'sqrt', 'min_samples_split': 4, 'n_estimators': 1000, 'min_samples_leaf': 100}\n",
      "-79.804 (+/-14.395) for {'max_features': 'sqrt', 'min_samples_split': 8, 'n_estimators': 10, 'min_samples_leaf': 100}\n",
      "-77.897 (+/-13.812) for {'max_features': 'sqrt', 'min_samples_split': 8, 'n_estimators': 100, 'min_samples_leaf': 100}\n",
      "-77.257 (+/-14.004) for {'max_features': 'sqrt', 'min_samples_split': 8, 'n_estimators': 1000, 'min_samples_leaf': 100}\n",
      "\n",
      "Exec. time: 268.23 s\n"
     ]
    }
   ],
   "source": [
    "# Random forest regression - with hyperparameter tuning\n",
    "from sklearn.model_selection import GridSearchCV\n",
    "now = time.time()\n",
    "# Set the parameters by cross-validation\n",
    "\n",
    "tuned_parameters = [{'n_estimators': [10,100,1000], \n",
    "                     'min_samples_split': [2,4,8], \n",
    "                    'min_samples_leaf': [10,20,50,100],\n",
    "                    'max_features': ['auto','sqrt']}]\n",
    "\n",
    "\n",
    "est_base = RandomForestRegressor(random_state=0, n_jobs=-1)\n",
    "\n",
    "est = GridSearchCV(est_base, tuned_parameters, cv=kf, scoring=cv_scoring, n_jobs=-1)\n",
    "\n",
    "est.fit(X_train, y_train)\n",
    "\n",
    "means = est.cv_results_['mean_test_score']\n",
    "stds = est.cv_results_['std_test_score']\n",
    "\n",
    "for mean, std, params in zip(means, stds, est.cv_results_['params']):\n",
    "    print(\"%0.3f (+/-%0.03f) for %r\"\n",
    "          % (mean, std * 2, params))\n",
    "print()\n",
    "    \n",
    "after = time.time()\n",
    "print('Exec. time: {:5.2f} s'.format(after-now))\n",
    "\n",
    "\n"
   ]
  },
  {
   "cell_type": "markdown",
   "metadata": {},
   "source": [
    "## Tuning the nearest neighbor regression"
   ]
  },
  {
   "cell_type": "code",
   "execution_count": null,
   "metadata": {
    "collapsed": true
   },
   "outputs": [],
   "source": [
    "# Nearest neighbor regression\n",
    "now = time.time()\n",
    "n_neighbors = 5\n",
    "weight = 'uniform' # 'distance'\n",
    "est = neighbors.KNeighborsRegressor(n_neighbors, weights=weight, n_jobs=-1)\n",
    "scores = cross_val_score(est, X_train, y_train, cv=kf, scoring=cv_scoring)\n",
    "print(\"Accuracy: %0.2f (+/- %0.2f)\" % (scores.mean(), scores.std() * 2))\n",
    "after = time.time()\n",
    "print('Exec. time: {:5.2f} s'.format(after-now))"
   ]
  },
  {
   "cell_type": "code",
   "execution_count": 51,
   "metadata": {
    "collapsed": false
   },
   "outputs": [
    {
     "name": "stdout",
     "output_type": "stream",
     "text": [
      "-22.783 (+/-4.849) for {'n_neighbors': 2, 'weights': 'distance'}\n",
      "-25.064 (+/-4.814) for {'n_neighbors': 2, 'weights': 'uniform'}\n",
      "-23.501 (+/-5.085) for {'n_neighbors': 5, 'weights': 'distance'}\n",
      "-32.033 (+/-5.259) for {'n_neighbors': 5, 'weights': 'uniform'}\n",
      "-27.486 (+/-4.636) for {'n_neighbors': 10, 'weights': 'distance'}\n",
      "-41.357 (+/-5.415) for {'n_neighbors': 10, 'weights': 'uniform'}\n",
      "\n",
      "Exec. time:  1.44 s\n"
     ]
    }
   ],
   "source": [
    "# Nearest neighbor regression - with hyperparameter tuning\n",
    "from sklearn.model_selection import GridSearchCV\n",
    "now = time.time()\n",
    "# Set the parameters by cross-validation\n",
    "\n",
    "tuned_parameters = [{'weights': ['distance','uniform'], \n",
    "                     'n_neighbors': [2,5,10],}]\n",
    "\n",
    "\n",
    "est_base = neighbors.KNeighborsRegressor(n_jobs=-1)\n",
    "\n",
    "est = GridSearchCV(est_base, tuned_parameters, cv=kf, scoring=cv_scoring, n_jobs=-1)\n",
    "\n",
    "est.fit(X_train, y_train)\n",
    "\n",
    "means = est.cv_results_['mean_test_score']\n",
    "stds = est.cv_results_['std_test_score']\n",
    "\n",
    "for mean, std, params in zip(means, stds, est.cv_results_['params']):\n",
    "    print(\"%0.3f (+/-%0.03f) for %r\"\n",
    "          % (mean, std * 2, params))\n",
    "print()\n",
    "    \n",
    "after = time.time()\n",
    "print('Exec. time: {:5.2f} s'.format(after-now))\n",
    "\n",
    "\n",
    "\n"
   ]
  },
  {
   "cell_type": "markdown",
   "metadata": {},
   "source": [
    "## Learning curves"
   ]
  },
  {
   "cell_type": "code",
   "execution_count": 45,
   "metadata": {
    "collapsed": false,
    "scrolled": true
   },
   "outputs": [
    {
     "data": {
      "image/png": "[encoded data removed]",
      "text/plain": [
       "<matplotlib.figure.Figure at 0x10b6bd510>"
      ]
     },
     "metadata": {},
     "output_type": "display_data"
    }
   ],
   "source": [
    "X, y = X_train, y_train\n",
    "title = \"Learning Curve (GBT)\"\n",
    "est = GradientBoostingRegressor(n_estimators=500, learning_rate=0.1,\n",
    "                                max_depth=3, random_state=0, loss='ls')\n",
    "plot_learning_curve(est, title, X, y, ylim=(0, 1.0), cv=kf, n_jobs=-1)\n",
    "plt.show()"
   ]
  },
  {
   "cell_type": "code",
   "execution_count": 47,
   "metadata": {
    "collapsed": false
   },
   "outputs": [
    {
     "data": {
      "image/png": "[encoded data removed]",
      "text/plain": [
       "<matplotlib.figure.Figure at 0x1147a5ad0>"
      ]
     },
     "metadata": {},
     "output_type": "display_data"
    }
   ],
   "source": [
    "X, y = X_train, y_train\n",
    "title = \"Learning Curve (Random Forest)\"\n",
    "est = RandomForestRegressor(n_estimators=10, n_jobs=-1)\n",
    "plot_learning_curve(est, title, X, y, ylim=(0, 1.0), cv=kf, n_jobs=-1)\n",
    "plt.show()"
   ]
  },
  {
   "cell_type": "code",
   "execution_count": 60,
   "metadata": {
    "collapsed": false
   },
   "outputs": [
    {
     "data": {
      "image/png": "[encoded data removed]",
      "text/plain": [
       "<matplotlib.figure.Figure at 0x10c7ca790>"
      ]
     },
     "metadata": {},
     "output_type": "display_data"
    }
   ],
   "source": [
    "X, y = X_train, y_train\n",
    "title = \"Learning Curve (Nearest neighbor)\"\n",
    "n_neighbors = 10\n",
    "weight = 'uniform' # 'distance'\n",
    "est = neighbors.KNeighborsRegressor(n_neighbors, weights=weight, n_jobs=-1)\n",
    "plot_learning_curve(est, title, X, y, ylim=(0, 1.0), cv=kf, n_jobs=-1)\n",
    "plt.show()"
   ]
  },
  {
   "cell_type": "code",
   "execution_count": null,
   "metadata": {
    "collapsed": true
   },
   "outputs": [],
   "source": []
  }
 ],
 "metadata": {
  "kernelspec": {
   "display_name": "Python 2",
   "language": "python",
   "name": "python2"
  },
  "language_info": {
   "codemirror_mode": {
    "name": "ipython",
    "version": 2
   },
   "file_extension": ".py",
   "mimetype": "text/x-python",
   "name": "python",
   "nbconvert_exporter": "python",
   "pygments_lexer": "ipython2",
   "version": "2.7.13"
  }
 },
 "nbformat": 4,
 "nbformat_minor": 0
}
