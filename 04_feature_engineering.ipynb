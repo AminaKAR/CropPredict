{
 "cells": [
  {
   "cell_type": "code",
   "execution_count": null,
   "metadata": {
    "collapsed": true
   },
   "outputs": [],
   "source": [
    "from __future__ import absolute_import, division, print_function"
   ]
  },
  {
   "cell_type": "markdown",
   "metadata": {},
   "source": [
    "# Feature engineering"
   ]
  },
  {
   "cell_type": "markdown",
   "metadata": {},
   "source": [
    "Here I will extract and engineer the features that will be the input for a subsequent model.\n",
    "\n",
    "The main data are of the follwoing format:\n",
    "\n",
    "* The data report weather measurements for 1000 unique locations in ~150 counties across 5 states. \n",
    "* Most locations have one entry per day reporting the current weather conditions.\n",
    "* At the end of the season, the harvest generates a certain yield. This yield is propagated to *all* entries in the data set, even though it is only a final value.\n",
    "* The reported yield number refers to the yield in the county and is not specific to a location. I assume it's an average for the county, even though that is not explicitely specified.\n",
    "\n"
   ]
  },
  {
   "cell_type": "markdown",
   "metadata": {},
   "source": [
    "My goal here is to create a profile for each location from the avaiable or additional data. This will leave me with one set of feature values for each location, which is connected to a final yield. And that will be the input to my model."
   ]
  },
  {
   "cell_type": "markdown",
   "metadata": {},
   "source": [
    "## Imports"
   ]
  },
  {
   "cell_type": "code",
   "execution_count": 1,
   "metadata": {
    "collapsed": true
   },
   "outputs": [],
   "source": [
    "import os\n",
    "import pickle\n",
    "import time\n",
    "\n",
    "import numpy as np\n",
    "import pandas as pd\n",
    "\n",
    "import matplotlib as mpl\n",
    "import matplotlib.pyplot as plt\n",
    "from mpl_toolkits.basemap import Basemap\n",
    "\n",
    "\n",
    "%matplotlib inline"
   ]
  },
  {
   "cell_type": "markdown",
   "metadata": {},
   "source": [
    "## Functions"
   ]
  },
  {
   "cell_type": "code",
   "execution_count": null,
   "metadata": {
    "collapsed": true
   },
   "outputs": [],
   "source": [
    "def find_30day_extreme(in_df, in_column, in_agg):\n",
    "    \"\"\"\n",
    "    Calculates a rolling window aggregate.\n",
    "    Window size: 30 days.\n",
    "    in_df: input dataframe\n",
    "    in_column: column to be aggregated\n",
    "    in_agg: aggregation function (e.g., min/max)\n",
    "    \"\"\"\n",
    "    agg_list = []\n",
    "    start_date = in_df['Date'].min()\n",
    "    stop_date = in_df['Date'].min() + pd.Timedelta(30, unit='d')\n",
    "\n",
    "\n",
    "    in_df[in_column][(in_df['Date'] == start_date)]\n",
    "    \n",
    "    \n",
    "    df_2013['temperatureAverage'][(df_2013['Location'] == (-118.69523719999999, 46.811685799999992)) & \n",
    "                                  (df_2013['Date'] == start_date) & \n",
    "                                  (df_2013['Date'] <= stop_date)] \n",
    "    \n",
    "    \n",
    "    \n",
    "    "
   ]
  },
  {
   "cell_type": "code",
   "execution_count": 18,
   "metadata": {
    "collapsed": true
   },
   "outputs": [],
   "source": [
    "start_date = df_2013['Date'].min()"
   ]
  },
  {
   "cell_type": "code",
   "execution_count": 21,
   "metadata": {
    "collapsed": true
   },
   "outputs": [],
   "source": [
    "stop_date = start_date + pd.Timedelta(30, unit='d')"
   ]
  },
  {
   "cell_type": "code",
   "execution_count": 22,
   "metadata": {
    "collapsed": false
   },
   "outputs": [
    {
     "name": "stdout",
     "output_type": "stream",
     "text": [
      "(Timestamp('2013-11-30 00:00:00'), Timestamp('2013-12-30 00:00:00'))\n"
     ]
    }
   ],
   "source": [
    "print(start_date,stop_date)"
   ]
  },
  {
   "cell_type": "code",
   "execution_count": null,
   "metadata": {
    "collapsed": true
   },
   "outputs": [],
   "source": []
  },
  {
   "cell_type": "code",
   "execution_count": null,
   "metadata": {
    "collapsed": true
   },
   "outputs": [],
   "source": []
  },
  {
   "cell_type": "code",
   "execution_count": 24,
   "metadata": {
    "collapsed": false
   },
   "outputs": [
    {
     "data": {
      "text/plain": [
       "array([(-118.69523719999999, 46.811685799999992),\n",
       "       (-118.35210929999998, 46.929839100000002),\n",
       "       (-118.5101603, 47.006888099999998), ...,\n",
       "       (-95.798478900000006, 33.670839899999997),\n",
       "       (-95.817206299999995, 33.611278900000002),\n",
       "       (-95.749667200000005, 33.5842752)], dtype=object)"
      ]
     },
     "execution_count": 24,
     "metadata": {},
     "output_type": "execute_result"
    }
   ],
   "source": [
    "df_2013['Location'].unique()"
   ]
  },
  {
   "cell_type": "code",
   "execution_count": 31,
   "metadata": {
    "collapsed": false
   },
   "outputs": [],
   "source": [
    "tmp1 = df_2013[df_2013['Location'] == (-118.69523719999999, 46.811685799999992)]"
   ]
  },
  {
   "cell_type": "code",
   "execution_count": null,
   "metadata": {
    "collapsed": true
   },
   "outputs": [],
   "source": []
  },
  {
   "cell_type": "code",
   "execution_count": null,
   "metadata": {
    "collapsed": true
   },
   "outputs": [],
   "source": []
  },
  {
   "cell_type": "code",
   "execution_count": null,
   "metadata": {
    "collapsed": true
   },
   "outputs": [],
   "source": []
  },
  {
   "cell_type": "code",
   "execution_count": 30,
   "metadata": {
    "collapsed": false
   },
   "outputs": [
    {
     "data": {
      "text/plain": [
       "0        31.590\n",
       "944      43.220\n",
       "1887     40.480\n",
       "2838     24.595\n",
       "3787     18.635\n",
       "4732     13.760\n",
       "5682     14.645\n",
       "6631     10.725\n",
       "7579      9.360\n",
       "8523     15.245\n",
       "9465     21.035\n",
       "10413    21.790\n",
       "11360    24.015\n",
       "12293    28.700\n",
       "13241    32.565\n",
       "14169    39.340\n",
       "15096    36.875\n",
       "16024    29.950\n",
       "16976    35.400\n",
       "17925    27.545\n",
       "18875    28.735\n",
       "19815    28.510\n",
       "20758    31.020\n",
       "21702    41.200\n",
       "22653    33.500\n",
       "23603    26.235\n",
       "24550    27.935\n",
       "25493    26.455\n",
       "26438    26.485\n",
       "27387    27.845\n",
       "28334    29.155\n",
       "Name: temperatureAverage, dtype: float64"
      ]
     },
     "execution_count": 30,
     "metadata": {},
     "output_type": "execute_result"
    }
   ],
   "source": [
    "df_2013['temperatureAverage'][(df_2013['Location'] == (-118.69523719999999, 46.811685799999992)) & \n",
    "                              ((df_2013['Date'] == start_date) | \n",
    "                              (df_2013['Date'] <= stop_date))]"
   ]
  },
  {
   "cell_type": "code",
   "execution_count": 27,
   "metadata": {
    "collapsed": false
   },
   "outputs": [
    {
     "data": {
      "text/plain": [
       "0      31.590\n",
       "1      31.010\n",
       "2      30.165\n",
       "3      30.180\n",
       "4      30.460\n",
       "5      30.990\n",
       "6      45.740\n",
       "7      45.755\n",
       "8      46.340\n",
       "9      46.985\n",
       "10     46.920\n",
       "11     47.020\n",
       "12     46.875\n",
       "13     46.750\n",
       "14     46.890\n",
       "15     46.725\n",
       "16     46.610\n",
       "17     46.565\n",
       "18     43.160\n",
       "19     45.920\n",
       "20     46.250\n",
       "21     43.815\n",
       "22     43.475\n",
       "23     45.300\n",
       "24     52.785\n",
       "25     53.105\n",
       "26     54.405\n",
       "27     54.535\n",
       "28     53.655\n",
       "29     53.615\n",
       "        ...  \n",
       "910    54.400\n",
       "911    54.780\n",
       "912    54.365\n",
       "913    54.345\n",
       "914    54.060\n",
       "915    54.035\n",
       "916    53.605\n",
       "917    53.765\n",
       "918    53.585\n",
       "919    53.635\n",
       "920    44.010\n",
       "921    44.015\n",
       "922    43.480\n",
       "923    43.995\n",
       "924    43.800\n",
       "925    43.795\n",
       "926    61.670\n",
       "927    61.310\n",
       "928    61.125\n",
       "929    61.180\n",
       "930    60.785\n",
       "931    61.700\n",
       "932    43.065\n",
       "933    42.765\n",
       "934    43.220\n",
       "935    43.010\n",
       "936    43.070\n",
       "937    43.110\n",
       "938    56.140\n",
       "939    55.535\n",
       "Name: temperatureAverage, dtype: float64"
      ]
     },
     "execution_count": 27,
     "metadata": {},
     "output_type": "execute_result"
    }
   ],
   "source": [
    "df_2013['temperatureAverage'][(df_2013['Date'] == start_date) & \n",
    "                              (df_2013['Date'] <= stop_date)]"
   ]
  },
  {
   "cell_type": "code",
   "execution_count": null,
   "metadata": {
    "collapsed": true
   },
   "outputs": [],
   "source": []
  },
  {
   "cell_type": "code",
   "execution_count": 12,
   "metadata": {
    "collapsed": false
   },
   "outputs": [
    {
     "data": {
      "text/plain": [
       "Index([u'CountyName', u'State', u'Latitude', u'Longitude', u'Date',\n",
       "       u'cloudCover', u'dewPoint', u'humidity', u'precipIntensity',\n",
       "       u'precipProbability', u'precipAccumulation', u'precipTypeIsRain',\n",
       "       u'precipTypeIsSnow', u'pressure', u'temperatureMax', u'temperatureMin',\n",
       "       u'visibility', u'windBearing', u'windSpeed', u'NDVI', u'DayInSeason',\n",
       "       u'Yield', u'Location', u'precipTotal', u'temperatureDiff',\n",
       "       u'temperatureRatio', u'temperatureAverage'],\n",
       "      dtype='object')"
      ]
     },
     "execution_count": 12,
     "metadata": {},
     "output_type": "execute_result"
    }
   ],
   "source": [
    "df_2013.columns"
   ]
  },
  {
   "cell_type": "code",
   "execution_count": null,
   "metadata": {
    "collapsed": true
   },
   "outputs": [],
   "source": []
  },
  {
   "cell_type": "markdown",
   "metadata": {},
   "source": [
    "## Data"
   ]
  },
  {
   "cell_type": "code",
   "execution_count": 3,
   "metadata": {
    "collapsed": true
   },
   "outputs": [],
   "source": [
    "cwd = os.getcwd()\n",
    "df_2013 = pd.read_pickle(os.path.join(cwd,'data','df_2013_clean.df'))\n",
    "df_2014 = pd.read_pickle(os.path.join(cwd,'data','df_2014_clean.df'))\n"
   ]
  },
  {
   "cell_type": "markdown",
   "metadata": {},
   "source": [
    "## Additional data"
   ]
  },
  {
   "cell_type": "markdown",
   "metadata": {},
   "source": [
    "I have also obtained information on the elevation and length_of_day for each location (see 03_elevation_and_length_of_day.ipynb)."
   ]
  },
  {
   "cell_type": "code",
   "execution_count": 6,
   "metadata": {
    "collapsed": false
   },
   "outputs": [],
   "source": [
    "# Load data\n",
    "with open(os.path.join('data','elevation.pickle'), 'rb') as handle:\n",
    "    elevation = pickle.load(handle)\n",
    "with open(os.path.join('data','length_of_day.pickle'), 'rb') as handle:\n",
    "    length_of_day = pickle.load(handle)\n",
    "\n",
    "\n"
   ]
  },
  {
   "cell_type": "markdown",
   "metadata": {},
   "source": [
    "## Features"
   ]
  },
  {
   "cell_type": "markdown",
   "metadata": {},
   "source": [
    "Each location comes with:\n",
    "\n",
    "* longitude\n",
    "* latitude\n",
    "\n",
    "The features I am going to engineer for each location are:\n",
    "\n",
    "* the total amount of precipitation\n",
    "* the minimum average temperature in a consecutive 30-day period\n",
    "* the maximum average temperature in a consecutive 30-day period\n",
    "* ratio of maximum average NDVI in a consecutive 30-day period and its respective minimum\n",
    "* the mean temperature difference between daily min/max temperatures\n",
    "* the standard deviation of the above mean\n",
    "* the total average wind speed\n",
    "\n",
    "I will add to those features external values of:\n",
    "\n",
    "* the hours of daylight\n",
    "* the elevation"
   ]
  },
  {
   "cell_type": "markdown",
   "metadata": {},
   "source": [
    "During the engineering I will keep both years (2013 and 2014) separate. Even though these data cover mostly the same locations (~>80% overlap), weather conditions and yield is likely to be different. Keeping them separate provides additional data points. "
   ]
  },
  {
   "cell_type": "markdown",
   "metadata": {},
   "source": [
    "## 2013"
   ]
  },
  {
   "cell_type": "code",
   "execution_count": null,
   "metadata": {
    "collapsed": true
   },
   "outputs": [],
   "source": []
  },
  {
   "cell_type": "code",
   "execution_count": null,
   "metadata": {
    "collapsed": true
   },
   "outputs": [],
   "source": []
  },
  {
   "cell_type": "code",
   "execution_count": null,
   "metadata": {
    "collapsed": true
   },
   "outputs": [],
   "source": []
  },
  {
   "cell_type": "code",
   "execution_count": null,
   "metadata": {
    "collapsed": true
   },
   "outputs": [],
   "source": []
  }
 ],
 "metadata": {
  "kernelspec": {
   "display_name": "Python 2",
   "language": "python",
   "name": "python2"
  },
  "language_info": {
   "codemirror_mode": {
    "name": "ipython",
    "version": 2
   },
   "file_extension": ".py",
   "mimetype": "text/x-python",
   "name": "python",
   "nbconvert_exporter": "python",
   "pygments_lexer": "ipython2",
   "version": "2.7.13"
  }
 },
 "nbformat": 4,
 "nbformat_minor": 0
}
